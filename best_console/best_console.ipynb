{
 "cells": [
  {
   "cell_type": "markdown",
   "id": "7094848f",
   "metadata": {
    "toc": true
   },
   "source": [
    "<h1>Table of Contents<span class=\"tocSkip\"></span></h1>\n",
    "<div class=\"toc\"><ul class=\"toc-item\"><li><span><a href=\"#Файл-с-данными,-общая-информация\" data-toc-modified-id=\"Файл-с-данными,-общая-информация-1\"><span class=\"toc-item-num\">1&nbsp;&nbsp;</span>Файл с данными, общая информация</a></span></li><li><span><a href=\"#Предобработка-данных\" data-toc-modified-id=\"Предобработка-данных-2\"><span class=\"toc-item-num\">2&nbsp;&nbsp;</span>Предобработка данных</a></span><ul class=\"toc-item\"><li><span><a href=\"#Переименовывание-столбцов\" data-toc-modified-id=\"Переименовывание-столбцов-2.1\"><span class=\"toc-item-num\">2.1&nbsp;&nbsp;</span>Переименовывание столбцов</a></span></li><li><span><a href=\"#Поиск-и-обработка-дубликатов\" data-toc-modified-id=\"Поиск-и-обработка-дубликатов-2.2\"><span class=\"toc-item-num\">2.2&nbsp;&nbsp;</span>Поиск и обработка дубликатов</a></span></li><li><span><a href=\"#Поиск-и-обработка-пропусков-и-изменение-типов-данных\" data-toc-modified-id=\"Поиск-и-обработка-пропусков-и-изменение-типов-данных-2.3\"><span class=\"toc-item-num\">2.3&nbsp;&nbsp;</span>Поиск и обработка пропусков и изменение типов данных</a></span></li></ul></li><li><span><a href=\"#Исследовательский-анализ-данных\" data-toc-modified-id=\"Исследовательский-анализ-данных-3\"><span class=\"toc-item-num\">3&nbsp;&nbsp;</span>Исследовательский анализ данных</a></span></li><li><span><a href=\"#Портрет-пользователя-по-региону\" data-toc-modified-id=\"Портрет-пользователя-по-региону-4\"><span class=\"toc-item-num\">4&nbsp;&nbsp;</span>Портрет пользователя по региону</a></span></li><li><span><a href=\"#Проверка-гипотез\" data-toc-modified-id=\"Проверка-гипотез-5\"><span class=\"toc-item-num\">5&nbsp;&nbsp;</span>Проверка гипотез</a></span><ul class=\"toc-item\"><li><span><a href=\"#Первая-гипотеза\" data-toc-modified-id=\"Первая-гипотеза-5.1\"><span class=\"toc-item-num\">5.1&nbsp;&nbsp;</span>Первая гипотеза</a></span></li><li><span><a href=\"#Вторая-гипотеза\" data-toc-modified-id=\"Вторая-гипотеза-5.2\"><span class=\"toc-item-num\">5.2&nbsp;&nbsp;</span>Вторая гипотеза</a></span></li></ul></li><li><span><a href=\"#Общий-вывод\" data-toc-modified-id=\"Общий-вывод-6\"><span class=\"toc-item-num\">6&nbsp;&nbsp;</span>Общий вывод</a></span></li></ul></div>"
   ]
  },
  {
   "cell_type": "markdown",
   "id": "29efe867",
   "metadata": {},
   "source": [
    "## Файл с данными, общая информация"
   ]
  },
  {
   "cell_type": "markdown",
   "id": "dccdb9e6",
   "metadata": {},
   "source": [
    "Из открытых источников нам доступны исторические данные о продажах игр, оценки пользователей и экспертов, жанры и платформы (например, Xbox или PlayStation). Нам нужно выявить определяющие успешность игры закономерности. Это позволит сделать ставку на потенциально популярный продукт и спланировать рекламные кампании. Перед нами данные до 2016 года. Посмотрим на них."
   ]
  },
  {
   "cell_type": "code",
   "execution_count": 1,
   "id": "286a4746",
   "metadata": {},
   "outputs": [
    {
     "data": {
      "text/html": [
       "<div>\n",
       "<style scoped>\n",
       "    .dataframe tbody tr th:only-of-type {\n",
       "        vertical-align: middle;\n",
       "    }\n",
       "\n",
       "    .dataframe tbody tr th {\n",
       "        vertical-align: top;\n",
       "    }\n",
       "\n",
       "    .dataframe thead th {\n",
       "        text-align: right;\n",
       "    }\n",
       "</style>\n",
       "<table border=\"1\" class=\"dataframe\">\n",
       "  <thead>\n",
       "    <tr style=\"text-align: right;\">\n",
       "      <th></th>\n",
       "      <th>Name</th>\n",
       "      <th>Platform</th>\n",
       "      <th>Year_of_Release</th>\n",
       "      <th>Genre</th>\n",
       "      <th>NA_sales</th>\n",
       "      <th>EU_sales</th>\n",
       "      <th>JP_sales</th>\n",
       "      <th>Other_sales</th>\n",
       "      <th>Critic_Score</th>\n",
       "      <th>User_Score</th>\n",
       "      <th>Rating</th>\n",
       "    </tr>\n",
       "  </thead>\n",
       "  <tbody>\n",
       "    <tr>\n",
       "      <th>6944</th>\n",
       "      <td>Are You Smarter than a 5th Grader? Game Time</td>\n",
       "      <td>DS</td>\n",
       "      <td>2009.0</td>\n",
       "      <td>Puzzle</td>\n",
       "      <td>0.22</td>\n",
       "      <td>0.00</td>\n",
       "      <td>0.00</td>\n",
       "      <td>0.02</td>\n",
       "      <td>NaN</td>\n",
       "      <td>tbd</td>\n",
       "      <td>E</td>\n",
       "    </tr>\n",
       "    <tr>\n",
       "      <th>2774</th>\n",
       "      <td>Lego Batman 3: Beyond Gotham</td>\n",
       "      <td>PS3</td>\n",
       "      <td>2014.0</td>\n",
       "      <td>Action</td>\n",
       "      <td>0.33</td>\n",
       "      <td>0.28</td>\n",
       "      <td>0.00</td>\n",
       "      <td>0.12</td>\n",
       "      <td>NaN</td>\n",
       "      <td>6.7</td>\n",
       "      <td>E10+</td>\n",
       "    </tr>\n",
       "    <tr>\n",
       "      <th>6505</th>\n",
       "      <td>Armored Core: Nexus</td>\n",
       "      <td>PS2</td>\n",
       "      <td>2004.0</td>\n",
       "      <td>Simulation</td>\n",
       "      <td>0.06</td>\n",
       "      <td>0.05</td>\n",
       "      <td>0.14</td>\n",
       "      <td>0.02</td>\n",
       "      <td>73.0</td>\n",
       "      <td>8.7</td>\n",
       "      <td>T</td>\n",
       "    </tr>\n",
       "    <tr>\n",
       "      <th>1615</th>\n",
       "      <td>Madden NFL 17</td>\n",
       "      <td>XOne</td>\n",
       "      <td>2016.0</td>\n",
       "      <td>Sports</td>\n",
       "      <td>1.08</td>\n",
       "      <td>0.02</td>\n",
       "      <td>0.00</td>\n",
       "      <td>0.13</td>\n",
       "      <td>83.0</td>\n",
       "      <td>5.9</td>\n",
       "      <td>E</td>\n",
       "    </tr>\n",
       "    <tr>\n",
       "      <th>13956</th>\n",
       "      <td>The Idolm@ster: Must Songs - Red Board / Blue ...</td>\n",
       "      <td>PSV</td>\n",
       "      <td>2015.0</td>\n",
       "      <td>Misc</td>\n",
       "      <td>0.00</td>\n",
       "      <td>0.00</td>\n",
       "      <td>0.04</td>\n",
       "      <td>0.00</td>\n",
       "      <td>NaN</td>\n",
       "      <td>NaN</td>\n",
       "      <td>NaN</td>\n",
       "    </tr>\n",
       "    <tr>\n",
       "      <th>6023</th>\n",
       "      <td>Madden NFL 08</td>\n",
       "      <td>XB</td>\n",
       "      <td>2007.0</td>\n",
       "      <td>Sports</td>\n",
       "      <td>0.22</td>\n",
       "      <td>0.06</td>\n",
       "      <td>0.00</td>\n",
       "      <td>0.01</td>\n",
       "      <td>76.0</td>\n",
       "      <td>6</td>\n",
       "      <td>E</td>\n",
       "    </tr>\n",
       "    <tr>\n",
       "      <th>1901</th>\n",
       "      <td>Joust</td>\n",
       "      <td>2600</td>\n",
       "      <td>1982.0</td>\n",
       "      <td>Platform</td>\n",
       "      <td>1.01</td>\n",
       "      <td>0.06</td>\n",
       "      <td>0.00</td>\n",
       "      <td>0.01</td>\n",
       "      <td>NaN</td>\n",
       "      <td>NaN</td>\n",
       "      <td>NaN</td>\n",
       "    </tr>\n",
       "    <tr>\n",
       "      <th>15285</th>\n",
       "      <td>Jissen Pachi-Slot Hisshouhou! Mister Magic Neo</td>\n",
       "      <td>PS2</td>\n",
       "      <td>2007.0</td>\n",
       "      <td>Misc</td>\n",
       "      <td>0.00</td>\n",
       "      <td>0.00</td>\n",
       "      <td>0.02</td>\n",
       "      <td>0.00</td>\n",
       "      <td>NaN</td>\n",
       "      <td>NaN</td>\n",
       "      <td>NaN</td>\n",
       "    </tr>\n",
       "    <tr>\n",
       "      <th>5443</th>\n",
       "      <td>Bejeweled 3</td>\n",
       "      <td>DS</td>\n",
       "      <td>NaN</td>\n",
       "      <td>Puzzle</td>\n",
       "      <td>0.29</td>\n",
       "      <td>0.02</td>\n",
       "      <td>0.00</td>\n",
       "      <td>0.02</td>\n",
       "      <td>75.0</td>\n",
       "      <td>tbd</td>\n",
       "      <td>E</td>\n",
       "    </tr>\n",
       "    <tr>\n",
       "      <th>2837</th>\n",
       "      <td>Major League Baseball 2K7</td>\n",
       "      <td>X360</td>\n",
       "      <td>2007.0</td>\n",
       "      <td>Sports</td>\n",
       "      <td>0.67</td>\n",
       "      <td>0.00</td>\n",
       "      <td>0.00</td>\n",
       "      <td>0.06</td>\n",
       "      <td>79.0</td>\n",
       "      <td>7.1</td>\n",
       "      <td>E</td>\n",
       "    </tr>\n",
       "  </tbody>\n",
       "</table>\n",
       "</div>"
      ],
      "text/plain": [
       "                                                    Name Platform  \\\n",
       "6944        Are You Smarter than a 5th Grader? Game Time       DS   \n",
       "2774                        Lego Batman 3: Beyond Gotham      PS3   \n",
       "6505                                 Armored Core: Nexus      PS2   \n",
       "1615                                       Madden NFL 17     XOne   \n",
       "13956  The Idolm@ster: Must Songs - Red Board / Blue ...      PSV   \n",
       "6023                                       Madden NFL 08       XB   \n",
       "1901                                               Joust     2600   \n",
       "15285     Jissen Pachi-Slot Hisshouhou! Mister Magic Neo      PS2   \n",
       "5443                                         Bejeweled 3       DS   \n",
       "2837                           Major League Baseball 2K7     X360   \n",
       "\n",
       "       Year_of_Release       Genre  NA_sales  EU_sales  JP_sales  Other_sales  \\\n",
       "6944            2009.0      Puzzle      0.22      0.00      0.00         0.02   \n",
       "2774            2014.0      Action      0.33      0.28      0.00         0.12   \n",
       "6505            2004.0  Simulation      0.06      0.05      0.14         0.02   \n",
       "1615            2016.0      Sports      1.08      0.02      0.00         0.13   \n",
       "13956           2015.0        Misc      0.00      0.00      0.04         0.00   \n",
       "6023            2007.0      Sports      0.22      0.06      0.00         0.01   \n",
       "1901            1982.0    Platform      1.01      0.06      0.00         0.01   \n",
       "15285           2007.0        Misc      0.00      0.00      0.02         0.00   \n",
       "5443               NaN      Puzzle      0.29      0.02      0.00         0.02   \n",
       "2837            2007.0      Sports      0.67      0.00      0.00         0.06   \n",
       "\n",
       "       Critic_Score User_Score Rating  \n",
       "6944            NaN        tbd      E  \n",
       "2774            NaN        6.7   E10+  \n",
       "6505           73.0        8.7      T  \n",
       "1615           83.0        5.9      E  \n",
       "13956           NaN        NaN    NaN  \n",
       "6023           76.0          6      E  \n",
       "1901            NaN        NaN    NaN  \n",
       "15285           NaN        NaN    NaN  \n",
       "5443           75.0        tbd      E  \n",
       "2837           79.0        7.1      E  "
      ]
     },
     "execution_count": 1,
     "metadata": {},
     "output_type": "execute_result"
    }
   ],
   "source": [
    "#импортируем необходимые библиотеки\n",
    "import pandas as pd\n",
    "import matplotlib.pyplot as plt\n",
    "import numpy as np\n",
    "\n",
    "\n",
    "#считываем датасет\n",
    "df = pd.read_csv('/datasets/games.csv')\n",
    "\n",
    "#выводим 10 строк датафрейма\n",
    "df.sample(10)"
   ]
  },
  {
   "cell_type": "code",
   "execution_count": 2,
   "id": "95f1f82f",
   "metadata": {
    "scrolled": false
   },
   "outputs": [
    {
     "name": "stdout",
     "output_type": "stream",
     "text": [
      "<class 'pandas.core.frame.DataFrame'>\n",
      "RangeIndex: 16715 entries, 0 to 16714\n",
      "Data columns (total 11 columns):\n",
      " #   Column           Non-Null Count  Dtype  \n",
      "---  ------           --------------  -----  \n",
      " 0   Name             16713 non-null  object \n",
      " 1   Platform         16715 non-null  object \n",
      " 2   Year_of_Release  16446 non-null  float64\n",
      " 3   Genre            16713 non-null  object \n",
      " 4   NA_sales         16715 non-null  float64\n",
      " 5   EU_sales         16715 non-null  float64\n",
      " 6   JP_sales         16715 non-null  float64\n",
      " 7   Other_sales      16715 non-null  float64\n",
      " 8   Critic_Score     8137 non-null   float64\n",
      " 9   User_Score       10014 non-null  object \n",
      " 10  Rating           9949 non-null   object \n",
      "dtypes: float64(6), object(5)\n",
      "memory usage: 1.4+ MB\n"
     ]
    }
   ],
   "source": [
    "#выводим общую информацию о датафрейме\n",
    "df.info()"
   ]
  },
  {
   "cell_type": "markdown",
   "id": "73a963a9",
   "metadata": {},
   "source": [
    "Для удобства создадим словарь:\n",
    "\n",
    "`Name` — название игры\n",
    "\n",
    "`Platform` — платформа\n",
    "\n",
    "`Year_of_Release` — год выпуска\n",
    "\n",
    "`Genre` — жанр игры\n",
    "\n",
    "`NA_sales` — продажи в Северной Америке (миллионы проданных копий)\n",
    "\n",
    "`EU_sales` — продажи в Европе (миллионы проданных копий)\n",
    "\n",
    "`JP_sales` — продажи в Японии (миллионы проданных копий)\n",
    "\n",
    "`Other_sales` — продажи в других странах (миллионы проданных копий)\n",
    "\n",
    "`Critic_Score` — оценка критиков (максимум 100)\n",
    "\n",
    "`User_Score` — оценка пользователей (максимум 10)\n",
    "\n",
    "`Rating` — рейтинг от организации ESRB (англ. Entertainment Software Rating Board). Эта ассоциация определяет рейтинг компьютерных игр и присваивает им подходящую возрастную категорию."
   ]
  },
  {
   "cell_type": "markdown",
   "id": "5d231688",
   "metadata": {},
   "source": [
    "Видно, что не все названия столбцов приведены к нижнему регистру. Также присутствуют пропуски в некоторых столбцах. Проведем предобработку данных."
   ]
  },
  {
   "cell_type": "markdown",
   "id": "6ab2ed5e",
   "metadata": {},
   "source": [
    "## Предобработка данных"
   ]
  },
  {
   "cell_type": "markdown",
   "id": "a64b2881",
   "metadata": {},
   "source": [
    "### Переименовывание столбцов"
   ]
  },
  {
   "cell_type": "markdown",
   "id": "fd190e3d",
   "metadata": {},
   "source": [
    "Приведем названия столбцов к нижнему регистру"
   ]
  },
  {
   "cell_type": "code",
   "execution_count": 3,
   "id": "67229cb5",
   "metadata": {
    "scrolled": true
   },
   "outputs": [
    {
     "data": {
      "text/plain": [
       "Index(['name', 'platform', 'year_of_release', 'genre', 'na_sales', 'eu_sales',\n",
       "       'jp_sales', 'other_sales', 'critic_score', 'user_score', 'rating'],\n",
       "      dtype='object')"
      ]
     },
     "execution_count": 3,
     "metadata": {},
     "output_type": "execute_result"
    }
   ],
   "source": [
    "df.columns = df.columns.str.lower()\n",
    "\n",
    "#проверяем\n",
    "df.columns"
   ]
  },
  {
   "cell_type": "markdown",
   "id": "1c3c305a",
   "metadata": {},
   "source": [
    "### Поиск и обработка дубликатов"
   ]
  },
  {
   "cell_type": "markdown",
   "id": "38398aa8",
   "metadata": {},
   "source": [
    "Поищем явные дубликаты"
   ]
  },
  {
   "cell_type": "code",
   "execution_count": 4,
   "id": "a30f12ae",
   "metadata": {
    "scrolled": true
   },
   "outputs": [
    {
     "data": {
      "text/plain": [
       "0"
      ]
     },
     "execution_count": 4,
     "metadata": {},
     "output_type": "execute_result"
    }
   ],
   "source": [
    "df.duplicated().sum()"
   ]
  },
  {
   "cell_type": "markdown",
   "id": "6b50784d",
   "metadata": {},
   "source": [
    "Явные дубликаты отсутствуют. Поищем неявные дубликаты в столбцах со строковыми значениями."
   ]
  },
  {
   "cell_type": "code",
   "execution_count": 5,
   "id": "5117f75a",
   "metadata": {},
   "outputs": [
    {
     "data": {
      "text/plain": [
       "array(['E', nan, 'M', 'T', 'E10+', 'K-A', 'AO', 'EC', 'RP'], dtype=object)"
      ]
     },
     "execution_count": 5,
     "metadata": {},
     "output_type": "execute_result"
    }
   ],
   "source": [
    "#выведем уникальные значения столбца \"рейтинг\"\n",
    "df['rating'].unique()"
   ]
  },
  {
   "cell_type": "markdown",
   "id": "df56f0f2",
   "metadata": {},
   "source": [
    "ESRB (Entertainment Software Rating Board) — это ассоциация, определяющая возрастной рейтинг компьютерных игр. ESRB оценивает игровой контент и присваивает ему подходящую возрастную категорию, например, «Для взрослых», «Для детей младшего возраста» или «Для подростков».\n",
    "\n",
    "Рейтинги ESRB:\n",
    "\n",
    "\"EC\" (\"Early childhood\") - \"Для детей младшего возраста\" (от 3 лет)\n",
    "\n",
    "\"E\" (\"Everyone\") — \"Для всех\" (старше 6 лет)\n",
    "\n",
    "\"K-A\" (\"Kids to adults\") - \"Для всех\" (до 1998 года далее был заменен на \"E\")\n",
    "\n",
    "\"E10+\" (\"Everyone 10+\") - \"Для всех\" (старше 10 лет)\n",
    "\n",
    "\"T\" (\"Teen\") - \"Для подростков\" (старше 13 лет)\n",
    "\n",
    "\"M\" (\"Mature\") - \"Для зрелых подростков\" (старше 17 лет)\n",
    "\n",
    "\"AO\" (\"Adults only\") - \"Только для взрослых\" (старше 18 лет)\n",
    "\n",
    "\"RP\" (\"Rating pending\") - \"Рейтинг ожидается\" (продукт ожидает присвоения рейтинга)"
   ]
  },
  {
   "cell_type": "code",
   "execution_count": 6,
   "id": "39a87f57",
   "metadata": {
    "scrolled": false
   },
   "outputs": [
    {
     "data": {
      "text/html": [
       "<div>\n",
       "<style scoped>\n",
       "    .dataframe tbody tr th:only-of-type {\n",
       "        vertical-align: middle;\n",
       "    }\n",
       "\n",
       "    .dataframe tbody tr th {\n",
       "        vertical-align: top;\n",
       "    }\n",
       "\n",
       "    .dataframe thead th {\n",
       "        text-align: right;\n",
       "    }\n",
       "</style>\n",
       "<table border=\"1\" class=\"dataframe\">\n",
       "  <thead>\n",
       "    <tr style=\"text-align: right;\">\n",
       "      <th></th>\n",
       "      <th>name</th>\n",
       "      <th>platform</th>\n",
       "      <th>year_of_release</th>\n",
       "      <th>genre</th>\n",
       "      <th>na_sales</th>\n",
       "      <th>eu_sales</th>\n",
       "      <th>jp_sales</th>\n",
       "      <th>other_sales</th>\n",
       "      <th>critic_score</th>\n",
       "      <th>user_score</th>\n",
       "      <th>rating</th>\n",
       "    </tr>\n",
       "  </thead>\n",
       "  <tbody>\n",
       "    <tr>\n",
       "      <th>656</th>\n",
       "      <td>Theme Hospital</td>\n",
       "      <td>PC</td>\n",
       "      <td>1997.0</td>\n",
       "      <td>Strategy</td>\n",
       "      <td>2.30</td>\n",
       "      <td>0.10</td>\n",
       "      <td>0.00</td>\n",
       "      <td>0.00</td>\n",
       "      <td>NaN</td>\n",
       "      <td>9</td>\n",
       "      <td>K-A</td>\n",
       "    </tr>\n",
       "    <tr>\n",
       "      <th>903</th>\n",
       "      <td>PaRappa The Rapper</td>\n",
       "      <td>PS</td>\n",
       "      <td>1996.0</td>\n",
       "      <td>Misc</td>\n",
       "      <td>0.26</td>\n",
       "      <td>0.16</td>\n",
       "      <td>1.46</td>\n",
       "      <td>0.03</td>\n",
       "      <td>92.0</td>\n",
       "      <td>7.4</td>\n",
       "      <td>K-A</td>\n",
       "    </tr>\n",
       "    <tr>\n",
       "      <th>16681</th>\n",
       "      <td>Worms 2</td>\n",
       "      <td>PC</td>\n",
       "      <td>1997.0</td>\n",
       "      <td>Strategy</td>\n",
       "      <td>0.00</td>\n",
       "      <td>0.01</td>\n",
       "      <td>0.00</td>\n",
       "      <td>0.00</td>\n",
       "      <td>NaN</td>\n",
       "      <td>8.1</td>\n",
       "      <td>K-A</td>\n",
       "    </tr>\n",
       "  </tbody>\n",
       "</table>\n",
       "</div>"
      ],
      "text/plain": [
       "                     name platform  year_of_release     genre  na_sales  \\\n",
       "656        Theme Hospital       PC           1997.0  Strategy      2.30   \n",
       "903    PaRappa The Rapper       PS           1996.0      Misc      0.26   \n",
       "16681             Worms 2       PC           1997.0  Strategy      0.00   \n",
       "\n",
       "       eu_sales  jp_sales  other_sales  critic_score user_score rating  \n",
       "656        0.10      0.00         0.00           NaN          9    K-A  \n",
       "903        0.16      1.46         0.03          92.0        7.4    K-A  \n",
       "16681      0.01      0.00         0.00           NaN        8.1    K-A  "
      ]
     },
     "execution_count": 6,
     "metadata": {},
     "output_type": "execute_result"
    }
   ],
   "source": [
    "#посмоттрим на количество строк с рейтингом \"K-A\"\n",
    "df.query('rating == \"K-A\"')"
   ]
  },
  {
   "cell_type": "code",
   "execution_count": 7,
   "id": "4a6eb641",
   "metadata": {
    "scrolled": true
   },
   "outputs": [
    {
     "data": {
      "text/html": [
       "<div>\n",
       "<style scoped>\n",
       "    .dataframe tbody tr th:only-of-type {\n",
       "        vertical-align: middle;\n",
       "    }\n",
       "\n",
       "    .dataframe tbody tr th {\n",
       "        vertical-align: top;\n",
       "    }\n",
       "\n",
       "    .dataframe thead th {\n",
       "        text-align: right;\n",
       "    }\n",
       "</style>\n",
       "<table border=\"1\" class=\"dataframe\">\n",
       "  <thead>\n",
       "    <tr style=\"text-align: right;\">\n",
       "      <th></th>\n",
       "      <th>name</th>\n",
       "      <th>platform</th>\n",
       "      <th>year_of_release</th>\n",
       "      <th>genre</th>\n",
       "      <th>na_sales</th>\n",
       "      <th>eu_sales</th>\n",
       "      <th>jp_sales</th>\n",
       "      <th>other_sales</th>\n",
       "      <th>critic_score</th>\n",
       "      <th>user_score</th>\n",
       "      <th>rating</th>\n",
       "    </tr>\n",
       "  </thead>\n",
       "  <tbody>\n",
       "    <tr>\n",
       "      <th>13672</th>\n",
       "      <td>Clockwork Empires</td>\n",
       "      <td>PC</td>\n",
       "      <td>NaN</td>\n",
       "      <td>Strategy</td>\n",
       "      <td>0.0</td>\n",
       "      <td>0.04</td>\n",
       "      <td>0.0</td>\n",
       "      <td>0.00</td>\n",
       "      <td>58.0</td>\n",
       "      <td>3.8</td>\n",
       "      <td>RP</td>\n",
       "    </tr>\n",
       "    <tr>\n",
       "      <th>14270</th>\n",
       "      <td>Supreme Ruler: Cold War</td>\n",
       "      <td>PC</td>\n",
       "      <td>2011.0</td>\n",
       "      <td>Strategy</td>\n",
       "      <td>0.0</td>\n",
       "      <td>0.03</td>\n",
       "      <td>0.0</td>\n",
       "      <td>0.01</td>\n",
       "      <td>63.0</td>\n",
       "      <td>6.8</td>\n",
       "      <td>RP</td>\n",
       "    </tr>\n",
       "    <tr>\n",
       "      <th>16180</th>\n",
       "      <td>WRC: FIA World Rally Championship</td>\n",
       "      <td>PC</td>\n",
       "      <td>NaN</td>\n",
       "      <td>Racing</td>\n",
       "      <td>0.0</td>\n",
       "      <td>0.01</td>\n",
       "      <td>0.0</td>\n",
       "      <td>0.00</td>\n",
       "      <td>65.0</td>\n",
       "      <td>NaN</td>\n",
       "      <td>RP</td>\n",
       "    </tr>\n",
       "  </tbody>\n",
       "</table>\n",
       "</div>"
      ],
      "text/plain": [
       "                                    name platform  year_of_release     genre  \\\n",
       "13672                  Clockwork Empires       PC              NaN  Strategy   \n",
       "14270            Supreme Ruler: Cold War       PC           2011.0  Strategy   \n",
       "16180  WRC: FIA World Rally Championship       PC              NaN    Racing   \n",
       "\n",
       "       na_sales  eu_sales  jp_sales  other_sales  critic_score user_score  \\\n",
       "13672       0.0      0.04       0.0         0.00          58.0        3.8   \n",
       "14270       0.0      0.03       0.0         0.01          63.0        6.8   \n",
       "16180       0.0      0.01       0.0         0.00          65.0        NaN   \n",
       "\n",
       "      rating  \n",
       "13672     RP  \n",
       "14270     RP  \n",
       "16180     RP  "
      ]
     },
     "execution_count": 7,
     "metadata": {},
     "output_type": "execute_result"
    }
   ],
   "source": [
    "#посмотрим на количество строк с рейтингом \"RP\"\n",
    "df.query('rating == \"RP\"')"
   ]
  },
  {
   "cell_type": "markdown",
   "id": "cd8edd84",
   "metadata": {},
   "source": [
    "Неявные дубликаты отсутствуют, но можно было бы категоризировать данные, т.к. некоторые рейтинги между собой схожи. Например, рейтинг \"T\" и \"M\" или \"K-A\" и \"E\" или например, строку с рейтингом \"RP\" можно было бы вообще удалить, но посмотрим и решим нужно ли нам это делать на этапе очистке данных. Может быть при очистке эти строки итак уйдут. Решим позже.\n"
   ]
  },
  {
   "cell_type": "code",
   "execution_count": 8,
   "id": "2fda4926",
   "metadata": {},
   "outputs": [
    {
     "data": {
      "text/plain": [
       "array(['Sports', 'Platform', 'Racing', 'Role-Playing', 'Puzzle', 'Misc',\n",
       "       'Shooter', 'Simulation', 'Action', 'Fighting', 'Adventure',\n",
       "       'Strategy', nan], dtype=object)"
      ]
     },
     "execution_count": 8,
     "metadata": {},
     "output_type": "execute_result"
    }
   ],
   "source": [
    "#выведем уникальные значения столбца \"жанр\"\n",
    "df['genre'].unique()"
   ]
  },
  {
   "cell_type": "markdown",
   "id": "28092106",
   "metadata": {},
   "source": [
    "Неявные дубликаты в столбце \"жанр\" отсутствуют"
   ]
  },
  {
   "cell_type": "code",
   "execution_count": 9,
   "id": "7f64cf58",
   "metadata": {
    "scrolled": true
   },
   "outputs": [
    {
     "data": {
      "text/plain": [
       "array(['8', nan, '8.3', '8.5', '6.6', '8.4', '8.6', '7.7', '6.3', '7.4',\n",
       "       '8.2', '9', '7.9', '8.1', '8.7', '7.1', '3.4', '5.3', '4.8', '3.2',\n",
       "       '8.9', '6.4', '7.8', '7.5', '2.6', '7.2', '9.2', '7', '7.3', '4.3',\n",
       "       '7.6', '5.7', '5', '9.1', '6.5', 'tbd', '8.8', '6.9', '9.4', '6.8',\n",
       "       '6.1', '6.7', '5.4', '4', '4.9', '4.5', '9.3', '6.2', '4.2', '6',\n",
       "       '3.7', '4.1', '5.8', '5.6', '5.5', '4.4', '4.6', '5.9', '3.9',\n",
       "       '3.1', '2.9', '5.2', '3.3', '4.7', '5.1', '3.5', '2.5', '1.9', '3',\n",
       "       '2.7', '2.2', '2', '9.5', '2.1', '3.6', '2.8', '1.8', '3.8', '0',\n",
       "       '1.6', '9.6', '2.4', '1.7', '1.1', '0.3', '1.5', '0.7', '1.2',\n",
       "       '2.3', '0.5', '1.3', '0.2', '0.6', '1.4', '0.9', '1', '9.7'],\n",
       "      dtype=object)"
      ]
     },
     "execution_count": 9,
     "metadata": {},
     "output_type": "execute_result"
    }
   ],
   "source": [
    "#выведем уникальные значения столбца \"пользовательский рейтинг\"\n",
    "df['user_score'].unique()"
   ]
  },
  {
   "cell_type": "markdown",
   "id": "19dc2275",
   "metadata": {},
   "source": [
    "Неявные дубликаты в данном столбце искать не стоит, т.к. столбец `user_score` явно должен быть типа float, но из-за значения 'tbd' он является строковым. Также присутствуют пропуски. Пропуски и значение 'tbd' обработаем в следующем пункте исследования."
   ]
  },
  {
   "cell_type": "markdown",
   "id": "8d11e593",
   "metadata": {},
   "source": [
    "### Поиск и обработка пропусков и изменение типов данных"
   ]
  },
  {
   "cell_type": "markdown",
   "id": "d95ee310",
   "metadata": {},
   "source": [
    "Посмотрим еще раз в каких столбцах присутствуют пропуски"
   ]
  },
  {
   "cell_type": "code",
   "execution_count": 10,
   "id": "1802c8dd",
   "metadata": {},
   "outputs": [
    {
     "name": "stdout",
     "output_type": "stream",
     "text": [
      "<class 'pandas.core.frame.DataFrame'>\n",
      "RangeIndex: 16715 entries, 0 to 16714\n",
      "Data columns (total 11 columns):\n",
      " #   Column           Non-Null Count  Dtype  \n",
      "---  ------           --------------  -----  \n",
      " 0   name             16713 non-null  object \n",
      " 1   platform         16715 non-null  object \n",
      " 2   year_of_release  16446 non-null  float64\n",
      " 3   genre            16713 non-null  object \n",
      " 4   na_sales         16715 non-null  float64\n",
      " 5   eu_sales         16715 non-null  float64\n",
      " 6   jp_sales         16715 non-null  float64\n",
      " 7   other_sales      16715 non-null  float64\n",
      " 8   critic_score     8137 non-null   float64\n",
      " 9   user_score       10014 non-null  object \n",
      " 10  rating           9949 non-null   object \n",
      "dtypes: float64(6), object(5)\n",
      "memory usage: 1.4+ MB\n"
     ]
    }
   ],
   "source": [
    "df.info()"
   ]
  },
  {
   "cell_type": "markdown",
   "id": "7bd8805b",
   "metadata": {},
   "source": [
    "Начнем со столбца \"год выпуска\""
   ]
  },
  {
   "cell_type": "code",
   "execution_count": 11,
   "id": "abcd8cfb",
   "metadata": {},
   "outputs": [
    {
     "data": {
      "text/plain": [
       "269"
      ]
     },
     "execution_count": 11,
     "metadata": {},
     "output_type": "execute_result"
    }
   ],
   "source": [
    "#посчитаем количество пропусков\n",
    "df['year_of_release'].isna().sum()"
   ]
  },
  {
   "cell_type": "code",
   "execution_count": 12,
   "id": "01f115cf",
   "metadata": {},
   "outputs": [
    {
     "data": {
      "text/plain": [
       "'1.61%'"
      ]
     },
     "execution_count": 12,
     "metadata": {},
     "output_type": "execute_result"
    }
   ],
   "source": [
    "#посчитаем процент пропусков от общего количества значений в столбце \"год выпуска\"\n",
    "f\"{len(df[df['year_of_release'].isna()]) / len(df['year_of_release']):.2%}\""
   ]
  },
  {
   "cell_type": "markdown",
   "id": "4f6c87c8",
   "metadata": {},
   "source": [
    "Количество пропусков присутствует в 269 строках, что составляет всего 1.61% от общего количества значений. Столь малое количество строк не повлияет на статистики, поэтому удалим данные строки из датафрейма."
   ]
  },
  {
   "cell_type": "code",
   "execution_count": 13,
   "id": "5d675521",
   "metadata": {},
   "outputs": [
    {
     "data": {
      "text/plain": [
       "0"
      ]
     },
     "execution_count": 13,
     "metadata": {},
     "output_type": "execute_result"
    }
   ],
   "source": [
    "df.dropna(subset=['year_of_release'], inplace=True)\n",
    "\n",
    "#проверим\n",
    "df['year_of_release'].isna().sum()"
   ]
  },
  {
   "cell_type": "markdown",
   "id": "053e7481",
   "metadata": {},
   "source": [
    "Поменяем тип данных столбца `year_of_release` с int на float"
   ]
  },
  {
   "cell_type": "code",
   "execution_count": 14,
   "id": "ff5f2bbe",
   "metadata": {
    "scrolled": true
   },
   "outputs": [
    {
     "name": "stdout",
     "output_type": "stream",
     "text": [
      "<class 'pandas.core.frame.DataFrame'>\n",
      "Int64Index: 16446 entries, 0 to 16714\n",
      "Data columns (total 11 columns):\n",
      " #   Column           Non-Null Count  Dtype  \n",
      "---  ------           --------------  -----  \n",
      " 0   name             16444 non-null  object \n",
      " 1   platform         16446 non-null  object \n",
      " 2   year_of_release  16446 non-null  int64  \n",
      " 3   genre            16444 non-null  object \n",
      " 4   na_sales         16446 non-null  float64\n",
      " 5   eu_sales         16446 non-null  float64\n",
      " 6   jp_sales         16446 non-null  float64\n",
      " 7   other_sales      16446 non-null  float64\n",
      " 8   critic_score     7983 non-null   float64\n",
      " 9   user_score       9839 non-null   object \n",
      " 10  rating           9768 non-null   object \n",
      "dtypes: float64(5), int64(1), object(5)\n",
      "memory usage: 1.5+ MB\n"
     ]
    }
   ],
   "source": [
    "df['year_of_release'] = df['year_of_release'].astype(int)\n",
    "\n",
    "#проверим\n",
    "df.info()"
   ]
  },
  {
   "cell_type": "markdown",
   "id": "b7b0a071",
   "metadata": {},
   "source": [
    "Поработаем со столбцом \"название игры\""
   ]
  },
  {
   "cell_type": "code",
   "execution_count": 15,
   "id": "c988d0ca",
   "metadata": {},
   "outputs": [
    {
     "data": {
      "text/plain": [
       "2"
      ]
     },
     "execution_count": 15,
     "metadata": {},
     "output_type": "execute_result"
    }
   ],
   "source": [
    "#посчитаем количество пропусков\n",
    "df['name'].isna().sum()"
   ]
  },
  {
   "cell_type": "code",
   "execution_count": 16,
   "id": "ee867243",
   "metadata": {
    "scrolled": true
   },
   "outputs": [
    {
     "data": {
      "text/html": [
       "<div>\n",
       "<style scoped>\n",
       "    .dataframe tbody tr th:only-of-type {\n",
       "        vertical-align: middle;\n",
       "    }\n",
       "\n",
       "    .dataframe tbody tr th {\n",
       "        vertical-align: top;\n",
       "    }\n",
       "\n",
       "    .dataframe thead th {\n",
       "        text-align: right;\n",
       "    }\n",
       "</style>\n",
       "<table border=\"1\" class=\"dataframe\">\n",
       "  <thead>\n",
       "    <tr style=\"text-align: right;\">\n",
       "      <th></th>\n",
       "      <th>name</th>\n",
       "      <th>platform</th>\n",
       "      <th>year_of_release</th>\n",
       "      <th>genre</th>\n",
       "      <th>na_sales</th>\n",
       "      <th>eu_sales</th>\n",
       "      <th>jp_sales</th>\n",
       "      <th>other_sales</th>\n",
       "      <th>critic_score</th>\n",
       "      <th>user_score</th>\n",
       "      <th>rating</th>\n",
       "    </tr>\n",
       "  </thead>\n",
       "  <tbody>\n",
       "    <tr>\n",
       "      <th>659</th>\n",
       "      <td>NaN</td>\n",
       "      <td>GEN</td>\n",
       "      <td>1993</td>\n",
       "      <td>NaN</td>\n",
       "      <td>1.78</td>\n",
       "      <td>0.53</td>\n",
       "      <td>0.00</td>\n",
       "      <td>0.08</td>\n",
       "      <td>NaN</td>\n",
       "      <td>NaN</td>\n",
       "      <td>NaN</td>\n",
       "    </tr>\n",
       "    <tr>\n",
       "      <th>14244</th>\n",
       "      <td>NaN</td>\n",
       "      <td>GEN</td>\n",
       "      <td>1993</td>\n",
       "      <td>NaN</td>\n",
       "      <td>0.00</td>\n",
       "      <td>0.00</td>\n",
       "      <td>0.03</td>\n",
       "      <td>0.00</td>\n",
       "      <td>NaN</td>\n",
       "      <td>NaN</td>\n",
       "      <td>NaN</td>\n",
       "    </tr>\n",
       "  </tbody>\n",
       "</table>\n",
       "</div>"
      ],
      "text/plain": [
       "      name platform  year_of_release genre  na_sales  eu_sales  jp_sales  \\\n",
       "659    NaN      GEN             1993   NaN      1.78      0.53      0.00   \n",
       "14244  NaN      GEN             1993   NaN      0.00      0.00      0.03   \n",
       "\n",
       "       other_sales  critic_score user_score rating  \n",
       "659           0.08           NaN        NaN    NaN  \n",
       "14244         0.00           NaN        NaN    NaN  "
      ]
     },
     "execution_count": 16,
     "metadata": {},
     "output_type": "execute_result"
    }
   ],
   "source": [
    "df[df['name'].isna()]"
   ]
  },
  {
   "cell_type": "markdown",
   "id": "6b800376",
   "metadata": {},
   "source": [
    "Всего 2 пропуска. Удалим данные строки."
   ]
  },
  {
   "cell_type": "code",
   "execution_count": 17,
   "id": "d85abaad",
   "metadata": {
    "scrolled": true
   },
   "outputs": [
    {
     "data": {
      "text/plain": [
       "0"
      ]
     },
     "execution_count": 17,
     "metadata": {},
     "output_type": "execute_result"
    }
   ],
   "source": [
    "df.dropna(subset=['name'], inplace=True)\n",
    "\n",
    "#проверим\n",
    "df['name'].isna().sum()"
   ]
  },
  {
   "cell_type": "markdown",
   "id": "e4153bbf",
   "metadata": {},
   "source": [
    "Поработаем со столбцами `critic_score`, `user_score` и `rating`."
   ]
  },
  {
   "cell_type": "code",
   "execution_count": 18,
   "id": "cdd7761e",
   "metadata": {},
   "outputs": [
    {
     "data": {
      "text/plain": [
       "8461"
      ]
     },
     "execution_count": 18,
     "metadata": {},
     "output_type": "execute_result"
    }
   ],
   "source": [
    "#посчитаем количество пропусков\n",
    "df['critic_score'].isna().sum()"
   ]
  },
  {
   "cell_type": "code",
   "execution_count": 19,
   "id": "3415f8a0",
   "metadata": {},
   "outputs": [
    {
     "data": {
      "text/plain": [
       "'51.45%'"
      ]
     },
     "execution_count": 19,
     "metadata": {},
     "output_type": "execute_result"
    }
   ],
   "source": [
    "#посчитаем процент пропусков от общего количества значений в столбце\n",
    "f\"{len(df[df['critic_score'].isna()]) / len(df['critic_score']):.2%}\""
   ]
  },
  {
   "cell_type": "code",
   "execution_count": 20,
   "id": "cf3efe7c",
   "metadata": {},
   "outputs": [
    {
     "data": {
      "text/plain": [
       "6605"
      ]
     },
     "execution_count": 20,
     "metadata": {},
     "output_type": "execute_result"
    }
   ],
   "source": [
    "#посчитаем количество пропусков\n",
    "df['user_score'].isna().sum()"
   ]
  },
  {
   "cell_type": "code",
   "execution_count": 21,
   "id": "80fe7b58",
   "metadata": {},
   "outputs": [
    {
     "data": {
      "text/plain": [
       "'40.17%'"
      ]
     },
     "execution_count": 21,
     "metadata": {},
     "output_type": "execute_result"
    }
   ],
   "source": [
    "#посчитаем процент пропусков от общего количества значений в столбце\n",
    "f\"{len(df[df['user_score'].isna()]) / len(df['user_score']):.2%}\""
   ]
  },
  {
   "cell_type": "code",
   "execution_count": 22,
   "id": "9fb41931",
   "metadata": {},
   "outputs": [
    {
     "data": {
      "text/plain": [
       "6676"
      ]
     },
     "execution_count": 22,
     "metadata": {},
     "output_type": "execute_result"
    }
   ],
   "source": [
    "#посчитаем количество пропусков\n",
    "df['rating'].isna().sum()"
   ]
  },
  {
   "cell_type": "code",
   "execution_count": 23,
   "id": "90d974f7",
   "metadata": {
    "scrolled": true
   },
   "outputs": [
    {
     "data": {
      "text/plain": [
       "'40.60%'"
      ]
     },
     "execution_count": 23,
     "metadata": {},
     "output_type": "execute_result"
    }
   ],
   "source": [
    "#посчитаем процент пропусков от общего количества значений в столбце\n",
    "f\"{len(df[df['rating'].isna()]) / len(df['rating']):.2%}\""
   ]
  },
  {
   "cell_type": "markdown",
   "id": "158f8b1a",
   "metadata": {},
   "source": [
    "Для дальнейшего корректного распределения, а также для того, чтобы игры с неизвестным рейтингом тоже принимали участие в исследовании заменим пропуски в столбце `rating` на значение 'unknown'"
   ]
  },
  {
   "cell_type": "code",
   "execution_count": 24,
   "id": "d23780f0",
   "metadata": {},
   "outputs": [],
   "source": [
    "df.loc[df['rating'].isna(), 'rating'] = 'unknown'"
   ]
  },
  {
   "cell_type": "markdown",
   "id": "b9492114",
   "metadata": {},
   "source": [
    "Пропуски в столбцах `critic_score`, `user_score` и `rating` составляют от 40% до 50%. Из-за невозможности заполнения оставим их как есть, дабы не искажать статистики."
   ]
  },
  {
   "cell_type": "markdown",
   "id": "4aae1631",
   "metadata": {},
   "source": [
    "Поработаем со значением 'tbd' в столбце `user_score`"
   ]
  },
  {
   "cell_type": "code",
   "execution_count": 25,
   "id": "33e6e5ed",
   "metadata": {
    "scrolled": true
   },
   "outputs": [
    {
     "data": {
      "text/html": [
       "<div>\n",
       "<style scoped>\n",
       "    .dataframe tbody tr th:only-of-type {\n",
       "        vertical-align: middle;\n",
       "    }\n",
       "\n",
       "    .dataframe tbody tr th {\n",
       "        vertical-align: top;\n",
       "    }\n",
       "\n",
       "    .dataframe thead th {\n",
       "        text-align: right;\n",
       "    }\n",
       "</style>\n",
       "<table border=\"1\" class=\"dataframe\">\n",
       "  <thead>\n",
       "    <tr style=\"text-align: right;\">\n",
       "      <th></th>\n",
       "      <th>name</th>\n",
       "      <th>platform</th>\n",
       "      <th>year_of_release</th>\n",
       "      <th>genre</th>\n",
       "      <th>na_sales</th>\n",
       "      <th>eu_sales</th>\n",
       "      <th>jp_sales</th>\n",
       "      <th>other_sales</th>\n",
       "      <th>critic_score</th>\n",
       "      <th>user_score</th>\n",
       "      <th>rating</th>\n",
       "    </tr>\n",
       "  </thead>\n",
       "  <tbody>\n",
       "    <tr>\n",
       "      <th>119</th>\n",
       "      <td>Zumba Fitness</td>\n",
       "      <td>Wii</td>\n",
       "      <td>2010</td>\n",
       "      <td>Sports</td>\n",
       "      <td>3.45</td>\n",
       "      <td>2.59</td>\n",
       "      <td>0.0</td>\n",
       "      <td>0.66</td>\n",
       "      <td>NaN</td>\n",
       "      <td>tbd</td>\n",
       "      <td>E</td>\n",
       "    </tr>\n",
       "    <tr>\n",
       "      <th>301</th>\n",
       "      <td>Namco Museum: 50th Anniversary</td>\n",
       "      <td>PS2</td>\n",
       "      <td>2005</td>\n",
       "      <td>Misc</td>\n",
       "      <td>2.08</td>\n",
       "      <td>1.35</td>\n",
       "      <td>0.0</td>\n",
       "      <td>0.54</td>\n",
       "      <td>61.0</td>\n",
       "      <td>tbd</td>\n",
       "      <td>E10+</td>\n",
       "    </tr>\n",
       "    <tr>\n",
       "      <th>520</th>\n",
       "      <td>Zumba Fitness 2</td>\n",
       "      <td>Wii</td>\n",
       "      <td>2011</td>\n",
       "      <td>Sports</td>\n",
       "      <td>1.51</td>\n",
       "      <td>1.03</td>\n",
       "      <td>0.0</td>\n",
       "      <td>0.27</td>\n",
       "      <td>NaN</td>\n",
       "      <td>tbd</td>\n",
       "      <td>T</td>\n",
       "    </tr>\n",
       "    <tr>\n",
       "      <th>645</th>\n",
       "      <td>uDraw Studio</td>\n",
       "      <td>Wii</td>\n",
       "      <td>2010</td>\n",
       "      <td>Misc</td>\n",
       "      <td>1.65</td>\n",
       "      <td>0.57</td>\n",
       "      <td>0.0</td>\n",
       "      <td>0.20</td>\n",
       "      <td>71.0</td>\n",
       "      <td>tbd</td>\n",
       "      <td>E</td>\n",
       "    </tr>\n",
       "    <tr>\n",
       "      <th>718</th>\n",
       "      <td>Just Dance Kids</td>\n",
       "      <td>Wii</td>\n",
       "      <td>2010</td>\n",
       "      <td>Misc</td>\n",
       "      <td>1.52</td>\n",
       "      <td>0.54</td>\n",
       "      <td>0.0</td>\n",
       "      <td>0.18</td>\n",
       "      <td>NaN</td>\n",
       "      <td>tbd</td>\n",
       "      <td>E</td>\n",
       "    </tr>\n",
       "    <tr>\n",
       "      <th>...</th>\n",
       "      <td>...</td>\n",
       "      <td>...</td>\n",
       "      <td>...</td>\n",
       "      <td>...</td>\n",
       "      <td>...</td>\n",
       "      <td>...</td>\n",
       "      <td>...</td>\n",
       "      <td>...</td>\n",
       "      <td>...</td>\n",
       "      <td>...</td>\n",
       "      <td>...</td>\n",
       "    </tr>\n",
       "    <tr>\n",
       "      <th>16695</th>\n",
       "      <td>Planet Monsters</td>\n",
       "      <td>GBA</td>\n",
       "      <td>2001</td>\n",
       "      <td>Action</td>\n",
       "      <td>0.01</td>\n",
       "      <td>0.00</td>\n",
       "      <td>0.0</td>\n",
       "      <td>0.00</td>\n",
       "      <td>67.0</td>\n",
       "      <td>tbd</td>\n",
       "      <td>E</td>\n",
       "    </tr>\n",
       "    <tr>\n",
       "      <th>16697</th>\n",
       "      <td>Bust-A-Move 3000</td>\n",
       "      <td>GC</td>\n",
       "      <td>2003</td>\n",
       "      <td>Puzzle</td>\n",
       "      <td>0.01</td>\n",
       "      <td>0.00</td>\n",
       "      <td>0.0</td>\n",
       "      <td>0.00</td>\n",
       "      <td>53.0</td>\n",
       "      <td>tbd</td>\n",
       "      <td>E</td>\n",
       "    </tr>\n",
       "    <tr>\n",
       "      <th>16698</th>\n",
       "      <td>Mega Brain Boost</td>\n",
       "      <td>DS</td>\n",
       "      <td>2008</td>\n",
       "      <td>Puzzle</td>\n",
       "      <td>0.01</td>\n",
       "      <td>0.00</td>\n",
       "      <td>0.0</td>\n",
       "      <td>0.00</td>\n",
       "      <td>48.0</td>\n",
       "      <td>tbd</td>\n",
       "      <td>E</td>\n",
       "    </tr>\n",
       "    <tr>\n",
       "      <th>16704</th>\n",
       "      <td>Plushees</td>\n",
       "      <td>DS</td>\n",
       "      <td>2008</td>\n",
       "      <td>Simulation</td>\n",
       "      <td>0.01</td>\n",
       "      <td>0.00</td>\n",
       "      <td>0.0</td>\n",
       "      <td>0.00</td>\n",
       "      <td>NaN</td>\n",
       "      <td>tbd</td>\n",
       "      <td>E</td>\n",
       "    </tr>\n",
       "    <tr>\n",
       "      <th>16706</th>\n",
       "      <td>Men in Black II: Alien Escape</td>\n",
       "      <td>GC</td>\n",
       "      <td>2003</td>\n",
       "      <td>Shooter</td>\n",
       "      <td>0.01</td>\n",
       "      <td>0.00</td>\n",
       "      <td>0.0</td>\n",
       "      <td>0.00</td>\n",
       "      <td>NaN</td>\n",
       "      <td>tbd</td>\n",
       "      <td>T</td>\n",
       "    </tr>\n",
       "  </tbody>\n",
       "</table>\n",
       "<p>2376 rows × 11 columns</p>\n",
       "</div>"
      ],
      "text/plain": [
       "                                 name platform  year_of_release       genre  \\\n",
       "119                     Zumba Fitness      Wii             2010      Sports   \n",
       "301    Namco Museum: 50th Anniversary      PS2             2005        Misc   \n",
       "520                   Zumba Fitness 2      Wii             2011      Sports   \n",
       "645                      uDraw Studio      Wii             2010        Misc   \n",
       "718                   Just Dance Kids      Wii             2010        Misc   \n",
       "...                               ...      ...              ...         ...   \n",
       "16695                 Planet Monsters      GBA             2001      Action   \n",
       "16697                Bust-A-Move 3000       GC             2003      Puzzle   \n",
       "16698                Mega Brain Boost       DS             2008      Puzzle   \n",
       "16704                        Plushees       DS             2008  Simulation   \n",
       "16706   Men in Black II: Alien Escape       GC             2003     Shooter   \n",
       "\n",
       "       na_sales  eu_sales  jp_sales  other_sales  critic_score user_score  \\\n",
       "119        3.45      2.59       0.0         0.66           NaN        tbd   \n",
       "301        2.08      1.35       0.0         0.54          61.0        tbd   \n",
       "520        1.51      1.03       0.0         0.27           NaN        tbd   \n",
       "645        1.65      0.57       0.0         0.20          71.0        tbd   \n",
       "718        1.52      0.54       0.0         0.18           NaN        tbd   \n",
       "...         ...       ...       ...          ...           ...        ...   \n",
       "16695      0.01      0.00       0.0         0.00          67.0        tbd   \n",
       "16697      0.01      0.00       0.0         0.00          53.0        tbd   \n",
       "16698      0.01      0.00       0.0         0.00          48.0        tbd   \n",
       "16704      0.01      0.00       0.0         0.00           NaN        tbd   \n",
       "16706      0.01      0.00       0.0         0.00           NaN        tbd   \n",
       "\n",
       "      rating  \n",
       "119        E  \n",
       "301     E10+  \n",
       "520        T  \n",
       "645        E  \n",
       "718        E  \n",
       "...      ...  \n",
       "16695      E  \n",
       "16697      E  \n",
       "16698      E  \n",
       "16704      E  \n",
       "16706      T  \n",
       "\n",
       "[2376 rows x 11 columns]"
      ]
     },
     "execution_count": 25,
     "metadata": {},
     "output_type": "execute_result"
    }
   ],
   "source": [
    "#посмотрим на срез данных по значению \"tbd\"\n",
    "df.query('user_score == \"tbd\"')"
   ]
  },
  {
   "cell_type": "code",
   "execution_count": 26,
   "id": "0091639a",
   "metadata": {
    "scrolled": true
   },
   "outputs": [
    {
     "data": {
      "text/html": [
       "<div>\n",
       "<style scoped>\n",
       "    .dataframe tbody tr th:only-of-type {\n",
       "        vertical-align: middle;\n",
       "    }\n",
       "\n",
       "    .dataframe tbody tr th {\n",
       "        vertical-align: top;\n",
       "    }\n",
       "\n",
       "    .dataframe thead th {\n",
       "        text-align: right;\n",
       "    }\n",
       "</style>\n",
       "<table border=\"1\" class=\"dataframe\">\n",
       "  <thead>\n",
       "    <tr style=\"text-align: right;\">\n",
       "      <th></th>\n",
       "      <th>genre</th>\n",
       "      <th>name</th>\n",
       "    </tr>\n",
       "  </thead>\n",
       "  <tbody>\n",
       "    <tr>\n",
       "      <th>0</th>\n",
       "      <td>Action</td>\n",
       "      <td>368</td>\n",
       "    </tr>\n",
       "    <tr>\n",
       "      <th>1</th>\n",
       "      <td>Adventure</td>\n",
       "      <td>156</td>\n",
       "    </tr>\n",
       "    <tr>\n",
       "      <th>2</th>\n",
       "      <td>Fighting</td>\n",
       "      <td>37</td>\n",
       "    </tr>\n",
       "    <tr>\n",
       "      <th>3</th>\n",
       "      <td>Misc</td>\n",
       "      <td>440</td>\n",
       "    </tr>\n",
       "    <tr>\n",
       "      <th>4</th>\n",
       "      <td>Platform</td>\n",
       "      <td>135</td>\n",
       "    </tr>\n",
       "    <tr>\n",
       "      <th>5</th>\n",
       "      <td>Puzzle</td>\n",
       "      <td>208</td>\n",
       "    </tr>\n",
       "    <tr>\n",
       "      <th>6</th>\n",
       "      <td>Racing</td>\n",
       "      <td>229</td>\n",
       "    </tr>\n",
       "    <tr>\n",
       "      <th>7</th>\n",
       "      <td>Role-Playing</td>\n",
       "      <td>30</td>\n",
       "    </tr>\n",
       "    <tr>\n",
       "      <th>8</th>\n",
       "      <td>Shooter</td>\n",
       "      <td>95</td>\n",
       "    </tr>\n",
       "    <tr>\n",
       "      <th>9</th>\n",
       "      <td>Simulation</td>\n",
       "      <td>233</td>\n",
       "    </tr>\n",
       "    <tr>\n",
       "      <th>10</th>\n",
       "      <td>Sports</td>\n",
       "      <td>406</td>\n",
       "    </tr>\n",
       "    <tr>\n",
       "      <th>11</th>\n",
       "      <td>Strategy</td>\n",
       "      <td>39</td>\n",
       "    </tr>\n",
       "  </tbody>\n",
       "</table>\n",
       "</div>"
      ],
      "text/plain": [
       "           genre  name\n",
       "0         Action   368\n",
       "1      Adventure   156\n",
       "2       Fighting    37\n",
       "3           Misc   440\n",
       "4       Platform   135\n",
       "5         Puzzle   208\n",
       "6         Racing   229\n",
       "7   Role-Playing    30\n",
       "8        Shooter    95\n",
       "9     Simulation   233\n",
       "10        Sports   406\n",
       "11      Strategy    39"
      ]
     },
     "execution_count": 26,
     "metadata": {},
     "output_type": "execute_result"
    }
   ],
   "source": [
    "#посмотрим на количество игр с пользовательской оценкой \"tbd\" в разрезе игровых жанров\n",
    "df.query('user_score == \"tbd\"').pivot_table(index=['genre'], values=['name'], aggfunc='count').reset_index()"
   ]
  },
  {
   "cell_type": "markdown",
   "id": "1e590f72",
   "metadata": {},
   "source": [
    "tbd  - To Be Determined, т.е. \"будет определено\". Из среза видно, что игры малоизвестные и \"нишевые\". Данные игры мало покупали соответственно и мало оценивали. В связи с этим этим играм не хватает оценок вывести хоть какую-нибудь среднепользовательскую оценку. Заменим значение 'tbd' в столбце `user_score` на NaN."
   ]
  },
  {
   "cell_type": "code",
   "execution_count": 27,
   "id": "6b5a1d97",
   "metadata": {
    "scrolled": true
   },
   "outputs": [
    {
     "data": {
      "text/html": [
       "<div>\n",
       "<style scoped>\n",
       "    .dataframe tbody tr th:only-of-type {\n",
       "        vertical-align: middle;\n",
       "    }\n",
       "\n",
       "    .dataframe tbody tr th {\n",
       "        vertical-align: top;\n",
       "    }\n",
       "\n",
       "    .dataframe thead th {\n",
       "        text-align: right;\n",
       "    }\n",
       "</style>\n",
       "<table border=\"1\" class=\"dataframe\">\n",
       "  <thead>\n",
       "    <tr style=\"text-align: right;\">\n",
       "      <th></th>\n",
       "      <th>name</th>\n",
       "      <th>platform</th>\n",
       "      <th>year_of_release</th>\n",
       "      <th>genre</th>\n",
       "      <th>na_sales</th>\n",
       "      <th>eu_sales</th>\n",
       "      <th>jp_sales</th>\n",
       "      <th>other_sales</th>\n",
       "      <th>critic_score</th>\n",
       "      <th>user_score</th>\n",
       "      <th>rating</th>\n",
       "    </tr>\n",
       "  </thead>\n",
       "  <tbody>\n",
       "  </tbody>\n",
       "</table>\n",
       "</div>"
      ],
      "text/plain": [
       "Empty DataFrame\n",
       "Columns: [name, platform, year_of_release, genre, na_sales, eu_sales, jp_sales, other_sales, critic_score, user_score, rating]\n",
       "Index: []"
      ]
     },
     "execution_count": 27,
     "metadata": {},
     "output_type": "execute_result"
    }
   ],
   "source": [
    "df.loc[df['user_score'] == 'tbd', 'user_score'] = np.nan\n",
    "\n",
    "#проверим\n",
    "df[df['user_score'] == 'tbd']"
   ]
  },
  {
   "cell_type": "markdown",
   "id": "6a38e8c3",
   "metadata": {},
   "source": [
    "Теперь изменим тип данных столбца `user_score`со строкового на числовой"
   ]
  },
  {
   "cell_type": "code",
   "execution_count": 28,
   "id": "92159d0e",
   "metadata": {
    "scrolled": true
   },
   "outputs": [
    {
     "name": "stdout",
     "output_type": "stream",
     "text": [
      "<class 'pandas.core.frame.DataFrame'>\n",
      "Int64Index: 16444 entries, 0 to 16714\n",
      "Data columns (total 11 columns):\n",
      " #   Column           Non-Null Count  Dtype  \n",
      "---  ------           --------------  -----  \n",
      " 0   name             16444 non-null  object \n",
      " 1   platform         16444 non-null  object \n",
      " 2   year_of_release  16444 non-null  int64  \n",
      " 3   genre            16444 non-null  object \n",
      " 4   na_sales         16444 non-null  float64\n",
      " 5   eu_sales         16444 non-null  float64\n",
      " 6   jp_sales         16444 non-null  float64\n",
      " 7   other_sales      16444 non-null  float64\n",
      " 8   critic_score     7983 non-null   float64\n",
      " 9   user_score       7463 non-null   float64\n",
      " 10  rating           16444 non-null  object \n",
      "dtypes: float64(6), int64(1), object(4)\n",
      "memory usage: 1.5+ MB\n"
     ]
    }
   ],
   "source": [
    "df['user_score'] = pd.to_numeric(df['user_score'], errors='coerce')\n",
    "\n",
    "#проверим\n",
    "df.info()"
   ]
  },
  {
   "cell_type": "markdown",
   "id": "40ae2eba",
   "metadata": {},
   "source": [
    "Посчитаем суммарные продажи во всех регионах и запишим их в отдельный столбец"
   ]
  },
  {
   "cell_type": "code",
   "execution_count": 29,
   "id": "97327cf5",
   "metadata": {},
   "outputs": [
    {
     "data": {
      "text/html": [
       "<div>\n",
       "<style scoped>\n",
       "    .dataframe tbody tr th:only-of-type {\n",
       "        vertical-align: middle;\n",
       "    }\n",
       "\n",
       "    .dataframe tbody tr th {\n",
       "        vertical-align: top;\n",
       "    }\n",
       "\n",
       "    .dataframe thead th {\n",
       "        text-align: right;\n",
       "    }\n",
       "</style>\n",
       "<table border=\"1\" class=\"dataframe\">\n",
       "  <thead>\n",
       "    <tr style=\"text-align: right;\">\n",
       "      <th></th>\n",
       "      <th>name</th>\n",
       "      <th>platform</th>\n",
       "      <th>year_of_release</th>\n",
       "      <th>genre</th>\n",
       "      <th>na_sales</th>\n",
       "      <th>eu_sales</th>\n",
       "      <th>jp_sales</th>\n",
       "      <th>other_sales</th>\n",
       "      <th>critic_score</th>\n",
       "      <th>user_score</th>\n",
       "      <th>rating</th>\n",
       "      <th>total_sales</th>\n",
       "    </tr>\n",
       "  </thead>\n",
       "  <tbody>\n",
       "    <tr>\n",
       "      <th>1438</th>\n",
       "      <td>The Simpsons: Hit &amp; Run</td>\n",
       "      <td>XB</td>\n",
       "      <td>2003</td>\n",
       "      <td>Racing</td>\n",
       "      <td>0.70</td>\n",
       "      <td>0.58</td>\n",
       "      <td>0.00</td>\n",
       "      <td>0.07</td>\n",
       "      <td>NaN</td>\n",
       "      <td>NaN</td>\n",
       "      <td>unknown</td>\n",
       "      <td>1.35</td>\n",
       "    </tr>\n",
       "    <tr>\n",
       "      <th>11913</th>\n",
       "      <td>Kenyuu Densetsu Yaiba</td>\n",
       "      <td>SNES</td>\n",
       "      <td>1994</td>\n",
       "      <td>Action</td>\n",
       "      <td>0.00</td>\n",
       "      <td>0.00</td>\n",
       "      <td>0.07</td>\n",
       "      <td>0.00</td>\n",
       "      <td>NaN</td>\n",
       "      <td>NaN</td>\n",
       "      <td>unknown</td>\n",
       "      <td>0.07</td>\n",
       "    </tr>\n",
       "    <tr>\n",
       "      <th>4597</th>\n",
       "      <td>Test Drive</td>\n",
       "      <td>XB</td>\n",
       "      <td>2002</td>\n",
       "      <td>Racing</td>\n",
       "      <td>0.35</td>\n",
       "      <td>0.05</td>\n",
       "      <td>0.00</td>\n",
       "      <td>0.02</td>\n",
       "      <td>71.0</td>\n",
       "      <td>8.7</td>\n",
       "      <td>T</td>\n",
       "      <td>0.42</td>\n",
       "    </tr>\n",
       "    <tr>\n",
       "      <th>12897</th>\n",
       "      <td>Sega Soccer Slam</td>\n",
       "      <td>XB</td>\n",
       "      <td>2002</td>\n",
       "      <td>Sports</td>\n",
       "      <td>0.04</td>\n",
       "      <td>0.01</td>\n",
       "      <td>0.00</td>\n",
       "      <td>0.00</td>\n",
       "      <td>80.0</td>\n",
       "      <td>8.5</td>\n",
       "      <td>E</td>\n",
       "      <td>0.05</td>\n",
       "    </tr>\n",
       "    <tr>\n",
       "      <th>10327</th>\n",
       "      <td>Pachi-Slot Aruze Oukoku 3</td>\n",
       "      <td>PS</td>\n",
       "      <td>2000</td>\n",
       "      <td>Misc</td>\n",
       "      <td>0.00</td>\n",
       "      <td>0.00</td>\n",
       "      <td>0.10</td>\n",
       "      <td>0.01</td>\n",
       "      <td>NaN</td>\n",
       "      <td>NaN</td>\n",
       "      <td>unknown</td>\n",
       "      <td>0.11</td>\n",
       "    </tr>\n",
       "  </tbody>\n",
       "</table>\n",
       "</div>"
      ],
      "text/plain": [
       "                            name platform  year_of_release   genre  na_sales  \\\n",
       "1438     The Simpsons: Hit & Run       XB             2003  Racing      0.70   \n",
       "11913      Kenyuu Densetsu Yaiba     SNES             1994  Action      0.00   \n",
       "4597                  Test Drive       XB             2002  Racing      0.35   \n",
       "12897           Sega Soccer Slam       XB             2002  Sports      0.04   \n",
       "10327  Pachi-Slot Aruze Oukoku 3       PS             2000    Misc      0.00   \n",
       "\n",
       "       eu_sales  jp_sales  other_sales  critic_score  user_score   rating  \\\n",
       "1438       0.58      0.00         0.07           NaN         NaN  unknown   \n",
       "11913      0.00      0.07         0.00           NaN         NaN  unknown   \n",
       "4597       0.05      0.00         0.02          71.0         8.7        T   \n",
       "12897      0.01      0.00         0.00          80.0         8.5        E   \n",
       "10327      0.00      0.10         0.01           NaN         NaN  unknown   \n",
       "\n",
       "       total_sales  \n",
       "1438          1.35  \n",
       "11913         0.07  \n",
       "4597          0.42  \n",
       "12897         0.05  \n",
       "10327         0.11  "
      ]
     },
     "execution_count": 29,
     "metadata": {},
     "output_type": "execute_result"
    }
   ],
   "source": [
    "df['total_sales'] = df['na_sales'] + df['eu_sales'] + df['jp_sales'] + df['other_sales']\n",
    "\n",
    "#проверим\n",
    "df.sample(5)"
   ]
  },
  {
   "cell_type": "markdown",
   "id": "6f81849e",
   "metadata": {},
   "source": [
    "## Исследовательский анализ данных"
   ]
  },
  {
   "cell_type": "markdown",
   "id": "cd34bc08",
   "metadata": {},
   "source": [
    "Посмотрим сколько игр выпускалось в разные годы"
   ]
  },
  {
   "cell_type": "code",
   "execution_count": 30,
   "id": "4862cee4",
   "metadata": {
    "scrolled": false
   },
   "outputs": [
    {
     "data": {
      "image/png": "[encoded data removed]",
      "text/plain": [
       "<Figure size 864x360 with 1 Axes>"
      ]
     },
     "metadata": {
      "needs_background": "light"
     },
     "output_type": "display_data"
    },
    {
     "data": {
      "image/png": "[encoded data removed]",
      "text/plain": [
       "<Figure size 432x288 with 1 Axes>"
      ]
     },
     "metadata": {
      "needs_background": "light"
     },
     "output_type": "display_data"
    }
   ],
   "source": [
    "df.groupby('year_of_release')['name'].agg('count') \\\n",
    "    .plot(kind = 'bar', \n",
    "          y = 'name',\n",
    "          ylabel = 'Количество игр',\n",
    "          xlabel = 'Год выпуска', \n",
    "          figsize = (12,5)) \\\n",
    "    .set_title('Выпуск игр по годам');\n",
    "plt.show()\n",
    "\n",
    "df.boxplot('year_of_release')\n",
    "plt.show()"
   ]
  },
  {
   "cell_type": "code",
   "execution_count": 31,
   "id": "216bac17",
   "metadata": {},
   "outputs": [
    {
     "data": {
      "text/plain": [
       "count    16444.000000\n",
       "mean      2006.486256\n",
       "std          5.875525\n",
       "min       1980.000000\n",
       "25%       2003.000000\n",
       "50%       2007.000000\n",
       "75%       2010.000000\n",
       "max       2016.000000\n",
       "Name: year_of_release, dtype: float64"
      ]
     },
     "execution_count": 31,
     "metadata": {},
     "output_type": "execute_result"
    }
   ],
   "source": [
    "#посмотрим на числовое описание\n",
    "df['year_of_release'].describe()"
   ]
  },
  {
   "cell_type": "markdown",
   "id": "d305a46a",
   "metadata": {},
   "source": [
    "Выпуск игр начинается с 1980 года. В период с 1980 по 1994 год выпускалось не более 50 игр в год. Далее производство игр наращивается. Пик выпуска игр приходится на 2007-2010 гг. Медиана - 2007 год. Гистограмма скошена вправо. Присутствуют выбросы ранее 1994 года. Давайте посмотрим на них."
   ]
  },
  {
   "cell_type": "code",
   "execution_count": 32,
   "id": "11ed0b56",
   "metadata": {
    "scrolled": true
   },
   "outputs": [
    {
     "data": {
      "text/html": [
       "<div>\n",
       "<style scoped>\n",
       "    .dataframe tbody tr th:only-of-type {\n",
       "        vertical-align: middle;\n",
       "    }\n",
       "\n",
       "    .dataframe tbody tr th {\n",
       "        vertical-align: top;\n",
       "    }\n",
       "\n",
       "    .dataframe thead th {\n",
       "        text-align: right;\n",
       "    }\n",
       "</style>\n",
       "<table border=\"1\" class=\"dataframe\">\n",
       "  <thead>\n",
       "    <tr style=\"text-align: right;\">\n",
       "      <th></th>\n",
       "      <th>name</th>\n",
       "      <th>platform</th>\n",
       "      <th>year_of_release</th>\n",
       "      <th>genre</th>\n",
       "      <th>na_sales</th>\n",
       "      <th>eu_sales</th>\n",
       "      <th>jp_sales</th>\n",
       "      <th>other_sales</th>\n",
       "      <th>critic_score</th>\n",
       "      <th>user_score</th>\n",
       "      <th>rating</th>\n",
       "      <th>total_sales</th>\n",
       "    </tr>\n",
       "  </thead>\n",
       "  <tbody>\n",
       "    <tr>\n",
       "      <th>1</th>\n",
       "      <td>Super Mario Bros.</td>\n",
       "      <td>NES</td>\n",
       "      <td>1985</td>\n",
       "      <td>Platform</td>\n",
       "      <td>29.08</td>\n",
       "      <td>3.58</td>\n",
       "      <td>6.81</td>\n",
       "      <td>0.77</td>\n",
       "      <td>NaN</td>\n",
       "      <td>NaN</td>\n",
       "      <td>unknown</td>\n",
       "      <td>40.24</td>\n",
       "    </tr>\n",
       "    <tr>\n",
       "      <th>5</th>\n",
       "      <td>Tetris</td>\n",
       "      <td>GB</td>\n",
       "      <td>1989</td>\n",
       "      <td>Puzzle</td>\n",
       "      <td>23.20</td>\n",
       "      <td>2.26</td>\n",
       "      <td>4.22</td>\n",
       "      <td>0.58</td>\n",
       "      <td>NaN</td>\n",
       "      <td>NaN</td>\n",
       "      <td>unknown</td>\n",
       "      <td>30.26</td>\n",
       "    </tr>\n",
       "    <tr>\n",
       "      <th>9</th>\n",
       "      <td>Duck Hunt</td>\n",
       "      <td>NES</td>\n",
       "      <td>1984</td>\n",
       "      <td>Shooter</td>\n",
       "      <td>26.93</td>\n",
       "      <td>0.63</td>\n",
       "      <td>0.28</td>\n",
       "      <td>0.47</td>\n",
       "      <td>NaN</td>\n",
       "      <td>NaN</td>\n",
       "      <td>unknown</td>\n",
       "      <td>28.31</td>\n",
       "    </tr>\n",
       "    <tr>\n",
       "      <th>18</th>\n",
       "      <td>Super Mario World</td>\n",
       "      <td>SNES</td>\n",
       "      <td>1990</td>\n",
       "      <td>Platform</td>\n",
       "      <td>12.78</td>\n",
       "      <td>3.75</td>\n",
       "      <td>3.54</td>\n",
       "      <td>0.55</td>\n",
       "      <td>NaN</td>\n",
       "      <td>NaN</td>\n",
       "      <td>unknown</td>\n",
       "      <td>20.62</td>\n",
       "    </tr>\n",
       "    <tr>\n",
       "      <th>21</th>\n",
       "      <td>Super Mario Land</td>\n",
       "      <td>GB</td>\n",
       "      <td>1989</td>\n",
       "      <td>Platform</td>\n",
       "      <td>10.83</td>\n",
       "      <td>2.71</td>\n",
       "      <td>4.18</td>\n",
       "      <td>0.42</td>\n",
       "      <td>NaN</td>\n",
       "      <td>NaN</td>\n",
       "      <td>unknown</td>\n",
       "      <td>18.14</td>\n",
       "    </tr>\n",
       "    <tr>\n",
       "      <th>...</th>\n",
       "      <td>...</td>\n",
       "      <td>...</td>\n",
       "      <td>...</td>\n",
       "      <td>...</td>\n",
       "      <td>...</td>\n",
       "      <td>...</td>\n",
       "      <td>...</td>\n",
       "      <td>...</td>\n",
       "      <td>...</td>\n",
       "      <td>...</td>\n",
       "      <td>...</td>\n",
       "      <td>...</td>\n",
       "    </tr>\n",
       "    <tr>\n",
       "      <th>14610</th>\n",
       "      <td>Doom</td>\n",
       "      <td>PC</td>\n",
       "      <td>1992</td>\n",
       "      <td>Shooter</td>\n",
       "      <td>0.02</td>\n",
       "      <td>0.00</td>\n",
       "      <td>0.00</td>\n",
       "      <td>0.00</td>\n",
       "      <td>85.0</td>\n",
       "      <td>8.2</td>\n",
       "      <td>M</td>\n",
       "      <td>0.02</td>\n",
       "    </tr>\n",
       "    <tr>\n",
       "      <th>14621</th>\n",
       "      <td>SimCity</td>\n",
       "      <td>PC</td>\n",
       "      <td>1988</td>\n",
       "      <td>Simulation</td>\n",
       "      <td>0.00</td>\n",
       "      <td>0.02</td>\n",
       "      <td>0.00</td>\n",
       "      <td>0.01</td>\n",
       "      <td>64.0</td>\n",
       "      <td>2.2</td>\n",
       "      <td>E10+</td>\n",
       "      <td>0.03</td>\n",
       "    </tr>\n",
       "    <tr>\n",
       "      <th>15692</th>\n",
       "      <td>Empire Deluxe</td>\n",
       "      <td>PC</td>\n",
       "      <td>1992</td>\n",
       "      <td>Strategy</td>\n",
       "      <td>0.02</td>\n",
       "      <td>0.00</td>\n",
       "      <td>0.00</td>\n",
       "      <td>0.00</td>\n",
       "      <td>NaN</td>\n",
       "      <td>NaN</td>\n",
       "      <td>unknown</td>\n",
       "      <td>0.02</td>\n",
       "    </tr>\n",
       "    <tr>\n",
       "      <th>15957</th>\n",
       "      <td>Strongest Tokyo University Shogi DS</td>\n",
       "      <td>DS</td>\n",
       "      <td>1985</td>\n",
       "      <td>Action</td>\n",
       "      <td>0.00</td>\n",
       "      <td>0.00</td>\n",
       "      <td>0.02</td>\n",
       "      <td>0.00</td>\n",
       "      <td>NaN</td>\n",
       "      <td>NaN</td>\n",
       "      <td>unknown</td>\n",
       "      <td>0.02</td>\n",
       "    </tr>\n",
       "    <tr>\n",
       "      <th>16207</th>\n",
       "      <td>Rock N' Roll Racing</td>\n",
       "      <td>SNES</td>\n",
       "      <td>1993</td>\n",
       "      <td>Racing</td>\n",
       "      <td>0.00</td>\n",
       "      <td>0.00</td>\n",
       "      <td>0.01</td>\n",
       "      <td>0.00</td>\n",
       "      <td>NaN</td>\n",
       "      <td>NaN</td>\n",
       "      <td>unknown</td>\n",
       "      <td>0.01</td>\n",
       "    </tr>\n",
       "  </tbody>\n",
       "</table>\n",
       "<p>365 rows × 12 columns</p>\n",
       "</div>"
      ],
      "text/plain": [
       "                                      name platform  year_of_release  \\\n",
       "1                        Super Mario Bros.      NES             1985   \n",
       "5                                   Tetris       GB             1989   \n",
       "9                                Duck Hunt      NES             1984   \n",
       "18                       Super Mario World     SNES             1990   \n",
       "21                        Super Mario Land       GB             1989   \n",
       "...                                    ...      ...              ...   \n",
       "14610                                 Doom       PC             1992   \n",
       "14621                              SimCity       PC             1988   \n",
       "15692                        Empire Deluxe       PC             1992   \n",
       "15957  Strongest Tokyo University Shogi DS       DS             1985   \n",
       "16207                  Rock N' Roll Racing     SNES             1993   \n",
       "\n",
       "            genre  na_sales  eu_sales  jp_sales  other_sales  critic_score  \\\n",
       "1        Platform     29.08      3.58      6.81         0.77           NaN   \n",
       "5          Puzzle     23.20      2.26      4.22         0.58           NaN   \n",
       "9         Shooter     26.93      0.63      0.28         0.47           NaN   \n",
       "18       Platform     12.78      3.75      3.54         0.55           NaN   \n",
       "21       Platform     10.83      2.71      4.18         0.42           NaN   \n",
       "...           ...       ...       ...       ...          ...           ...   \n",
       "14610     Shooter      0.02      0.00      0.00         0.00          85.0   \n",
       "14621  Simulation      0.00      0.02      0.00         0.01          64.0   \n",
       "15692    Strategy      0.02      0.00      0.00         0.00           NaN   \n",
       "15957      Action      0.00      0.00      0.02         0.00           NaN   \n",
       "16207      Racing      0.00      0.00      0.01         0.00           NaN   \n",
       "\n",
       "       user_score   rating  total_sales  \n",
       "1             NaN  unknown        40.24  \n",
       "5             NaN  unknown        30.26  \n",
       "9             NaN  unknown        28.31  \n",
       "18            NaN  unknown        20.62  \n",
       "21            NaN  unknown        18.14  \n",
       "...           ...      ...          ...  \n",
       "14610         8.2        M         0.02  \n",
       "14621         2.2     E10+         0.03  \n",
       "15692         NaN  unknown         0.02  \n",
       "15957         NaN  unknown         0.02  \n",
       "16207         NaN  unknown         0.01  \n",
       "\n",
       "[365 rows x 12 columns]"
      ]
     },
     "execution_count": 32,
     "metadata": {},
     "output_type": "execute_result"
    }
   ],
   "source": [
    "df.query('year_of_release < 1994')"
   ]
  },
  {
   "cell_type": "code",
   "execution_count": 33,
   "id": "e0920e2c",
   "metadata": {},
   "outputs": [
    {
     "data": {
      "text/plain": [
       "'2.22%'"
      ]
     },
     "execution_count": 33,
     "metadata": {},
     "output_type": "execute_result"
    }
   ],
   "source": [
    "#посчитаем процент игр ранее 1994 год от общего количества значений\n",
    "f\"{len(df[df['year_of_release'] < 1994]) / len(df['year_of_release']):.2%}\""
   ]
  },
  {
   "cell_type": "markdown",
   "id": "ee674339",
   "metadata": {},
   "source": [
    "Всего 2.22 % от общего количества. Удалять не будем."
   ]
  },
  {
   "cell_type": "markdown",
   "id": "bcf0083b",
   "metadata": {},
   "source": [
    "Посмотрим на распределение продаж по платформам"
   ]
  },
  {
   "cell_type": "code",
   "execution_count": 34,
   "id": "414663b1",
   "metadata": {
    "scrolled": true
   },
   "outputs": [
    {
     "data": {
      "text/html": [
       "<div>\n",
       "<style scoped>\n",
       "    .dataframe tbody tr th:only-of-type {\n",
       "        vertical-align: middle;\n",
       "    }\n",
       "\n",
       "    .dataframe tbody tr th {\n",
       "        vertical-align: top;\n",
       "    }\n",
       "\n",
       "    .dataframe thead th {\n",
       "        text-align: right;\n",
       "    }\n",
       "</style>\n",
       "<table border=\"1\" class=\"dataframe\">\n",
       "  <thead>\n",
       "    <tr style=\"text-align: right;\">\n",
       "      <th></th>\n",
       "      <th>platform</th>\n",
       "      <th>total_sales</th>\n",
       "    </tr>\n",
       "  </thead>\n",
       "  <tbody>\n",
       "    <tr>\n",
       "      <th>0</th>\n",
       "      <td>PS2</td>\n",
       "      <td>1233.56</td>\n",
       "    </tr>\n",
       "    <tr>\n",
       "      <th>1</th>\n",
       "      <td>X360</td>\n",
       "      <td>961.24</td>\n",
       "    </tr>\n",
       "    <tr>\n",
       "      <th>2</th>\n",
       "      <td>PS3</td>\n",
       "      <td>931.34</td>\n",
       "    </tr>\n",
       "    <tr>\n",
       "      <th>3</th>\n",
       "      <td>Wii</td>\n",
       "      <td>891.18</td>\n",
       "    </tr>\n",
       "    <tr>\n",
       "      <th>4</th>\n",
       "      <td>DS</td>\n",
       "      <td>802.78</td>\n",
       "    </tr>\n",
       "    <tr>\n",
       "      <th>5</th>\n",
       "      <td>PS</td>\n",
       "      <td>727.58</td>\n",
       "    </tr>\n",
       "    <tr>\n",
       "      <th>6</th>\n",
       "      <td>PS4</td>\n",
       "      <td>314.14</td>\n",
       "    </tr>\n",
       "    <tr>\n",
       "      <th>7</th>\n",
       "      <td>GBA</td>\n",
       "      <td>312.88</td>\n",
       "    </tr>\n",
       "    <tr>\n",
       "      <th>8</th>\n",
       "      <td>PSP</td>\n",
       "      <td>289.53</td>\n",
       "    </tr>\n",
       "    <tr>\n",
       "      <th>9</th>\n",
       "      <td>3DS</td>\n",
       "      <td>257.81</td>\n",
       "    </tr>\n",
       "    <tr>\n",
       "      <th>10</th>\n",
       "      <td>PC</td>\n",
       "      <td>255.76</td>\n",
       "    </tr>\n",
       "    <tr>\n",
       "      <th>11</th>\n",
       "      <td>GB</td>\n",
       "      <td>254.43</td>\n",
       "    </tr>\n",
       "    <tr>\n",
       "      <th>12</th>\n",
       "      <td>XB</td>\n",
       "      <td>251.57</td>\n",
       "    </tr>\n",
       "    <tr>\n",
       "      <th>13</th>\n",
       "      <td>NES</td>\n",
       "      <td>251.05</td>\n",
       "    </tr>\n",
       "    <tr>\n",
       "      <th>14</th>\n",
       "      <td>N64</td>\n",
       "      <td>218.01</td>\n",
       "    </tr>\n",
       "    <tr>\n",
       "      <th>15</th>\n",
       "      <td>SNES</td>\n",
       "      <td>200.04</td>\n",
       "    </tr>\n",
       "    <tr>\n",
       "      <th>16</th>\n",
       "      <td>GC</td>\n",
       "      <td>196.73</td>\n",
       "    </tr>\n",
       "    <tr>\n",
       "      <th>17</th>\n",
       "      <td>XOne</td>\n",
       "      <td>159.32</td>\n",
       "    </tr>\n",
       "    <tr>\n",
       "      <th>18</th>\n",
       "      <td>2600</td>\n",
       "      <td>86.48</td>\n",
       "    </tr>\n",
       "    <tr>\n",
       "      <th>19</th>\n",
       "      <td>WiiU</td>\n",
       "      <td>82.19</td>\n",
       "    </tr>\n",
       "    <tr>\n",
       "      <th>20</th>\n",
       "      <td>PSV</td>\n",
       "      <td>53.81</td>\n",
       "    </tr>\n",
       "    <tr>\n",
       "      <th>21</th>\n",
       "      <td>SAT</td>\n",
       "      <td>33.59</td>\n",
       "    </tr>\n",
       "    <tr>\n",
       "      <th>22</th>\n",
       "      <td>GEN</td>\n",
       "      <td>28.35</td>\n",
       "    </tr>\n",
       "    <tr>\n",
       "      <th>23</th>\n",
       "      <td>DC</td>\n",
       "      <td>15.95</td>\n",
       "    </tr>\n",
       "    <tr>\n",
       "      <th>24</th>\n",
       "      <td>SCD</td>\n",
       "      <td>1.86</td>\n",
       "    </tr>\n",
       "    <tr>\n",
       "      <th>25</th>\n",
       "      <td>NG</td>\n",
       "      <td>1.44</td>\n",
       "    </tr>\n",
       "    <tr>\n",
       "      <th>26</th>\n",
       "      <td>WS</td>\n",
       "      <td>1.42</td>\n",
       "    </tr>\n",
       "    <tr>\n",
       "      <th>27</th>\n",
       "      <td>TG16</td>\n",
       "      <td>0.16</td>\n",
       "    </tr>\n",
       "    <tr>\n",
       "      <th>28</th>\n",
       "      <td>3DO</td>\n",
       "      <td>0.10</td>\n",
       "    </tr>\n",
       "    <tr>\n",
       "      <th>29</th>\n",
       "      <td>GG</td>\n",
       "      <td>0.04</td>\n",
       "    </tr>\n",
       "    <tr>\n",
       "      <th>30</th>\n",
       "      <td>PCFX</td>\n",
       "      <td>0.03</td>\n",
       "    </tr>\n",
       "  </tbody>\n",
       "</table>\n",
       "</div>"
      ],
      "text/plain": [
       "   platform  total_sales\n",
       "0       PS2      1233.56\n",
       "1      X360       961.24\n",
       "2       PS3       931.34\n",
       "3       Wii       891.18\n",
       "4        DS       802.78\n",
       "5        PS       727.58\n",
       "6       PS4       314.14\n",
       "7       GBA       312.88\n",
       "8       PSP       289.53\n",
       "9       3DS       257.81\n",
       "10       PC       255.76\n",
       "11       GB       254.43\n",
       "12       XB       251.57\n",
       "13      NES       251.05\n",
       "14      N64       218.01\n",
       "15     SNES       200.04\n",
       "16       GC       196.73\n",
       "17     XOne       159.32\n",
       "18     2600        86.48\n",
       "19     WiiU        82.19\n",
       "20      PSV        53.81\n",
       "21      SAT        33.59\n",
       "22      GEN        28.35\n",
       "23       DC        15.95\n",
       "24      SCD         1.86\n",
       "25       NG         1.44\n",
       "26       WS         1.42\n",
       "27     TG16         0.16\n",
       "28      3DO         0.10\n",
       "29       GG         0.04\n",
       "30     PCFX         0.03"
      ]
     },
     "execution_count": 34,
     "metadata": {},
     "output_type": "execute_result"
    }
   ],
   "source": [
    "(\n",
    "df\n",
    ".pivot_table(index='platform', values='total_sales', aggfunc='sum')\n",
    ".sort_values('total_sales', ascending=False)\n",
    ".reset_index()\n",
    ")\n"
   ]
  },
  {
   "cell_type": "markdown",
   "id": "1fb9df31",
   "metadata": {},
   "source": [
    "Выберем платформы с наибольшими продажами"
   ]
  },
  {
   "cell_type": "code",
   "execution_count": 35,
   "id": "12960546",
   "metadata": {
    "scrolled": false
   },
   "outputs": [
    {
     "data": {
      "image/png": "[encoded data removed]",
      "text/plain": [
       "<Figure size 1080x720 with 1 Axes>"
      ]
     },
     "metadata": {
      "needs_background": "light"
     },
     "output_type": "display_data"
    }
   ],
   "source": [
    "#составим список платформ с наибольшими продажами\n",
    "top_platforms = ['PS2', 'X360', 'PS3', 'Wii', 'DS', 'PS']\n",
    "\n",
    "#посмотрим распределение продаж по годам по данным платформам \n",
    "(\n",
    "df\n",
    "    .query('platform in @top_platforms')\n",
    "    .pivot_table(index='year_of_release', columns='platform', values='total_sales', aggfunc=sum)\n",
    "    .plot(figsize=(15, 10), style='o-',  grid=True)\n",
    ")\n",
    "plt.show()"
   ]
  },
  {
   "cell_type": "code",
   "execution_count": 36,
   "id": "ac09cfbf",
   "metadata": {},
   "outputs": [
    {
     "data": {
      "text/html": [
       "<div>\n",
       "<style scoped>\n",
       "    .dataframe tbody tr th:only-of-type {\n",
       "        vertical-align: middle;\n",
       "    }\n",
       "\n",
       "    .dataframe tbody tr th {\n",
       "        vertical-align: top;\n",
       "    }\n",
       "\n",
       "    .dataframe thead th {\n",
       "        text-align: right;\n",
       "    }\n",
       "</style>\n",
       "<table border=\"1\" class=\"dataframe\">\n",
       "  <thead>\n",
       "    <tr style=\"text-align: right;\">\n",
       "      <th></th>\n",
       "      <th>name</th>\n",
       "      <th>platform</th>\n",
       "      <th>year_of_release</th>\n",
       "      <th>genre</th>\n",
       "      <th>na_sales</th>\n",
       "      <th>eu_sales</th>\n",
       "      <th>jp_sales</th>\n",
       "      <th>other_sales</th>\n",
       "      <th>critic_score</th>\n",
       "      <th>user_score</th>\n",
       "      <th>rating</th>\n",
       "      <th>total_sales</th>\n",
       "    </tr>\n",
       "  </thead>\n",
       "  <tbody>\n",
       "    <tr>\n",
       "      <th>15957</th>\n",
       "      <td>Strongest Tokyo University Shogi DS</td>\n",
       "      <td>DS</td>\n",
       "      <td>1985</td>\n",
       "      <td>Action</td>\n",
       "      <td>0.0</td>\n",
       "      <td>0.0</td>\n",
       "      <td>0.02</td>\n",
       "      <td>0.0</td>\n",
       "      <td>NaN</td>\n",
       "      <td>NaN</td>\n",
       "      <td>unknown</td>\n",
       "      <td>0.02</td>\n",
       "    </tr>\n",
       "  </tbody>\n",
       "</table>\n",
       "</div>"
      ],
      "text/plain": [
       "                                      name platform  year_of_release   genre  \\\n",
       "15957  Strongest Tokyo University Shogi DS       DS             1985  Action   \n",
       "\n",
       "       na_sales  eu_sales  jp_sales  other_sales  critic_score  user_score  \\\n",
       "15957       0.0       0.0      0.02          0.0           NaN         NaN   \n",
       "\n",
       "        rating  total_sales  \n",
       "15957  unknown         0.02  "
      ]
     },
     "execution_count": 36,
     "metadata": {},
     "output_type": "execute_result"
    }
   ],
   "source": [
    "#посмотрим на \"аномальную точку\" в 1985 году\n",
    "df.query('(platform in @top_platforms) and (year_of_release <= 1985)')"
   ]
  },
  {
   "cell_type": "markdown",
   "id": "fb27f335",
   "metadata": {},
   "source": [
    "График скошен вправо из-за \"аномалии\", т.к. Nintendo DS начал выпускаться только в 2004 году. Удалим ее для лучшей визуализации."
   ]
  },
  {
   "cell_type": "code",
   "execution_count": 37,
   "id": "fb38de01",
   "metadata": {},
   "outputs": [],
   "source": [
    "df = df.drop(axis=0, index=15957)"
   ]
  },
  {
   "cell_type": "code",
   "execution_count": 38,
   "id": "51bad298",
   "metadata": {},
   "outputs": [
    {
     "data": {
      "image/png": "[encoded data removed]",
      "text/plain": [
       "<Figure size 1080x720 with 1 Axes>"
      ]
     },
     "metadata": {
      "needs_background": "light"
     },
     "output_type": "display_data"
    }
   ],
   "source": [
    "#посмотрим распределение продаж по годам по данным платформам еще раз\n",
    "(\n",
    "df\n",
    "    .query('platform in @top_platforms')\n",
    "    .pivot_table(index='year_of_release', columns='platform', values='total_sales', aggfunc=sum)\n",
    "    .plot(figsize=(15, 10), style='o-',  grid=True)\n",
    ")\n",
    "plt.show()"
   ]
  },
  {
   "cell_type": "markdown",
   "id": "1fc17b15",
   "metadata": {},
   "source": [
    "Судя по графику в среднем приставки \"живут\" 10 лет. Их апгрейды появляются каждые 5 лет. Больше всего продаж в датафрейме у приставок, которые уже закончили или заканчивают свой \"жизненный цикл\". На график не попали приставки, у которых еще мало продаж: это могут быть приставки, которые не рентабельны или в то же время могут быть приставки, которые были выпущены не так давно и не достигли своего пика. Возьмем данные за период с 2014 год по 2016 год."
   ]
  },
  {
   "cell_type": "code",
   "execution_count": 39,
   "id": "72324ba4",
   "metadata": {
    "scrolled": true
   },
   "outputs": [
    {
     "data": {
      "text/html": [
       "<div>\n",
       "<style scoped>\n",
       "    .dataframe tbody tr th:only-of-type {\n",
       "        vertical-align: middle;\n",
       "    }\n",
       "\n",
       "    .dataframe tbody tr th {\n",
       "        vertical-align: top;\n",
       "    }\n",
       "\n",
       "    .dataframe thead th {\n",
       "        text-align: right;\n",
       "    }\n",
       "</style>\n",
       "<table border=\"1\" class=\"dataframe\">\n",
       "  <thead>\n",
       "    <tr style=\"text-align: right;\">\n",
       "      <th></th>\n",
       "      <th>name</th>\n",
       "      <th>platform</th>\n",
       "      <th>year_of_release</th>\n",
       "      <th>genre</th>\n",
       "      <th>na_sales</th>\n",
       "      <th>eu_sales</th>\n",
       "      <th>jp_sales</th>\n",
       "      <th>other_sales</th>\n",
       "      <th>critic_score</th>\n",
       "      <th>user_score</th>\n",
       "      <th>rating</th>\n",
       "      <th>total_sales</th>\n",
       "    </tr>\n",
       "  </thead>\n",
       "  <tbody>\n",
       "    <tr>\n",
       "      <th>31</th>\n",
       "      <td>Call of Duty: Black Ops 3</td>\n",
       "      <td>PS4</td>\n",
       "      <td>2015</td>\n",
       "      <td>Shooter</td>\n",
       "      <td>6.03</td>\n",
       "      <td>5.86</td>\n",
       "      <td>0.36</td>\n",
       "      <td>2.38</td>\n",
       "      <td>NaN</td>\n",
       "      <td>NaN</td>\n",
       "      <td>unknown</td>\n",
       "      <td>14.63</td>\n",
       "    </tr>\n",
       "    <tr>\n",
       "      <th>42</th>\n",
       "      <td>Grand Theft Auto V</td>\n",
       "      <td>PS4</td>\n",
       "      <td>2014</td>\n",
       "      <td>Action</td>\n",
       "      <td>3.96</td>\n",
       "      <td>6.31</td>\n",
       "      <td>0.38</td>\n",
       "      <td>1.97</td>\n",
       "      <td>97.0</td>\n",
       "      <td>8.3</td>\n",
       "      <td>M</td>\n",
       "      <td>12.62</td>\n",
       "    </tr>\n",
       "    <tr>\n",
       "      <th>47</th>\n",
       "      <td>Pokemon Omega Ruby/Pokemon Alpha Sapphire</td>\n",
       "      <td>3DS</td>\n",
       "      <td>2014</td>\n",
       "      <td>Role-Playing</td>\n",
       "      <td>4.35</td>\n",
       "      <td>3.49</td>\n",
       "      <td>3.10</td>\n",
       "      <td>0.74</td>\n",
       "      <td>NaN</td>\n",
       "      <td>NaN</td>\n",
       "      <td>unknown</td>\n",
       "      <td>11.68</td>\n",
       "    </tr>\n",
       "    <tr>\n",
       "      <th>77</th>\n",
       "      <td>FIFA 16</td>\n",
       "      <td>PS4</td>\n",
       "      <td>2015</td>\n",
       "      <td>Sports</td>\n",
       "      <td>1.12</td>\n",
       "      <td>6.12</td>\n",
       "      <td>0.06</td>\n",
       "      <td>1.28</td>\n",
       "      <td>82.0</td>\n",
       "      <td>4.3</td>\n",
       "      <td>E</td>\n",
       "      <td>8.58</td>\n",
       "    </tr>\n",
       "    <tr>\n",
       "      <th>87</th>\n",
       "      <td>Star Wars Battlefront (2015)</td>\n",
       "      <td>PS4</td>\n",
       "      <td>2015</td>\n",
       "      <td>Shooter</td>\n",
       "      <td>2.99</td>\n",
       "      <td>3.49</td>\n",
       "      <td>0.22</td>\n",
       "      <td>1.28</td>\n",
       "      <td>NaN</td>\n",
       "      <td>NaN</td>\n",
       "      <td>unknown</td>\n",
       "      <td>7.98</td>\n",
       "    </tr>\n",
       "    <tr>\n",
       "      <th>...</th>\n",
       "      <td>...</td>\n",
       "      <td>...</td>\n",
       "      <td>...</td>\n",
       "      <td>...</td>\n",
       "      <td>...</td>\n",
       "      <td>...</td>\n",
       "      <td>...</td>\n",
       "      <td>...</td>\n",
       "      <td>...</td>\n",
       "      <td>...</td>\n",
       "      <td>...</td>\n",
       "      <td>...</td>\n",
       "    </tr>\n",
       "    <tr>\n",
       "      <th>16703</th>\n",
       "      <td>Strawberry Nauts</td>\n",
       "      <td>PSV</td>\n",
       "      <td>2016</td>\n",
       "      <td>Adventure</td>\n",
       "      <td>0.00</td>\n",
       "      <td>0.00</td>\n",
       "      <td>0.01</td>\n",
       "      <td>0.00</td>\n",
       "      <td>NaN</td>\n",
       "      <td>NaN</td>\n",
       "      <td>unknown</td>\n",
       "      <td>0.01</td>\n",
       "    </tr>\n",
       "    <tr>\n",
       "      <th>16707</th>\n",
       "      <td>Aiyoku no Eustia</td>\n",
       "      <td>PSV</td>\n",
       "      <td>2014</td>\n",
       "      <td>Misc</td>\n",
       "      <td>0.00</td>\n",
       "      <td>0.00</td>\n",
       "      <td>0.01</td>\n",
       "      <td>0.00</td>\n",
       "      <td>NaN</td>\n",
       "      <td>NaN</td>\n",
       "      <td>unknown</td>\n",
       "      <td>0.01</td>\n",
       "    </tr>\n",
       "    <tr>\n",
       "      <th>16710</th>\n",
       "      <td>Samurai Warriors: Sanada Maru</td>\n",
       "      <td>PS3</td>\n",
       "      <td>2016</td>\n",
       "      <td>Action</td>\n",
       "      <td>0.00</td>\n",
       "      <td>0.00</td>\n",
       "      <td>0.01</td>\n",
       "      <td>0.00</td>\n",
       "      <td>NaN</td>\n",
       "      <td>NaN</td>\n",
       "      <td>unknown</td>\n",
       "      <td>0.01</td>\n",
       "    </tr>\n",
       "    <tr>\n",
       "      <th>16712</th>\n",
       "      <td>Haitaka no Psychedelica</td>\n",
       "      <td>PSV</td>\n",
       "      <td>2016</td>\n",
       "      <td>Adventure</td>\n",
       "      <td>0.00</td>\n",
       "      <td>0.00</td>\n",
       "      <td>0.01</td>\n",
       "      <td>0.00</td>\n",
       "      <td>NaN</td>\n",
       "      <td>NaN</td>\n",
       "      <td>unknown</td>\n",
       "      <td>0.01</td>\n",
       "    </tr>\n",
       "    <tr>\n",
       "      <th>16714</th>\n",
       "      <td>Winning Post 8 2016</td>\n",
       "      <td>PSV</td>\n",
       "      <td>2016</td>\n",
       "      <td>Simulation</td>\n",
       "      <td>0.00</td>\n",
       "      <td>0.00</td>\n",
       "      <td>0.01</td>\n",
       "      <td>0.00</td>\n",
       "      <td>NaN</td>\n",
       "      <td>NaN</td>\n",
       "      <td>unknown</td>\n",
       "      <td>0.01</td>\n",
       "    </tr>\n",
       "  </tbody>\n",
       "</table>\n",
       "<p>1689 rows × 12 columns</p>\n",
       "</div>"
      ],
      "text/plain": [
       "                                            name platform  year_of_release  \\\n",
       "31                     Call of Duty: Black Ops 3      PS4             2015   \n",
       "42                            Grand Theft Auto V      PS4             2014   \n",
       "47     Pokemon Omega Ruby/Pokemon Alpha Sapphire      3DS             2014   \n",
       "77                                       FIFA 16      PS4             2015   \n",
       "87                  Star Wars Battlefront (2015)      PS4             2015   \n",
       "...                                          ...      ...              ...   \n",
       "16703                           Strawberry Nauts      PSV             2016   \n",
       "16707                           Aiyoku no Eustia      PSV             2014   \n",
       "16710              Samurai Warriors: Sanada Maru      PS3             2016   \n",
       "16712                    Haitaka no Psychedelica      PSV             2016   \n",
       "16714                        Winning Post 8 2016      PSV             2016   \n",
       "\n",
       "              genre  na_sales  eu_sales  jp_sales  other_sales  critic_score  \\\n",
       "31          Shooter      6.03      5.86      0.36         2.38           NaN   \n",
       "42           Action      3.96      6.31      0.38         1.97          97.0   \n",
       "47     Role-Playing      4.35      3.49      3.10         0.74           NaN   \n",
       "77           Sports      1.12      6.12      0.06         1.28          82.0   \n",
       "87          Shooter      2.99      3.49      0.22         1.28           NaN   \n",
       "...             ...       ...       ...       ...          ...           ...   \n",
       "16703     Adventure      0.00      0.00      0.01         0.00           NaN   \n",
       "16707          Misc      0.00      0.00      0.01         0.00           NaN   \n",
       "16710        Action      0.00      0.00      0.01         0.00           NaN   \n",
       "16712     Adventure      0.00      0.00      0.01         0.00           NaN   \n",
       "16714    Simulation      0.00      0.00      0.01         0.00           NaN   \n",
       "\n",
       "       user_score   rating  total_sales  \n",
       "31            NaN  unknown        14.63  \n",
       "42            8.3        M        12.62  \n",
       "47            NaN  unknown        11.68  \n",
       "77            4.3        E         8.58  \n",
       "87            NaN  unknown         7.98  \n",
       "...           ...      ...          ...  \n",
       "16703         NaN  unknown         0.01  \n",
       "16707         NaN  unknown         0.01  \n",
       "16710         NaN  unknown         0.01  \n",
       "16712         NaN  unknown         0.01  \n",
       "16714         NaN  unknown         0.01  \n",
       "\n",
       "[1689 rows x 12 columns]"
      ]
     },
     "execution_count": 39,
     "metadata": {},
     "output_type": "execute_result"
    }
   ],
   "source": [
    "#возьмем актуальный период 2014 - 2016 гг, остальное отсечем\n",
    "actual_df = df.query('2014 <= year_of_release')\n",
    "actual_df"
   ]
  },
  {
   "cell_type": "markdown",
   "id": "8b81fedd",
   "metadata": {},
   "source": [
    "Посмотрим на распределение продаж по платформам за период с 2014 года по 2016 год"
   ]
  },
  {
   "cell_type": "code",
   "execution_count": 40,
   "id": "6a8f9f20",
   "metadata": {},
   "outputs": [
    {
     "data": {
      "image/png": "[encoded data removed]",
      "text/plain": [
       "<Figure size 1080x720 with 1 Axes>"
      ]
     },
     "metadata": {
      "needs_background": "light"
     },
     "output_type": "display_data"
    }
   ],
   "source": [
    "(\n",
    "actual_df \n",
    "    .pivot_table(index='year_of_release', columns='platform', values='total_sales', aggfunc=sum)\n",
    "    .plot\n",
    "        (figsize=(15, 10), \n",
    "         style='-',  \n",
    "         ylabel = 'Общие продажи',\n",
    "         xlabel = 'Года',\n",
    "         xticks = [2014, 2015, 2016])\n",
    ")\n",
    "plt.show()"
   ]
  },
  {
   "cell_type": "code",
   "execution_count": 41,
   "id": "69c9c9c7",
   "metadata": {},
   "outputs": [
    {
     "data": {
      "text/html": [
       "<div>\n",
       "<style scoped>\n",
       "    .dataframe tbody tr th:only-of-type {\n",
       "        vertical-align: middle;\n",
       "    }\n",
       "\n",
       "    .dataframe tbody tr th {\n",
       "        vertical-align: top;\n",
       "    }\n",
       "\n",
       "    .dataframe thead th {\n",
       "        text-align: right;\n",
       "    }\n",
       "</style>\n",
       "<table border=\"1\" class=\"dataframe\">\n",
       "  <thead>\n",
       "    <tr style=\"text-align: right;\">\n",
       "      <th></th>\n",
       "      <th>platform</th>\n",
       "      <th>total_sales</th>\n",
       "    </tr>\n",
       "  </thead>\n",
       "  <tbody>\n",
       "    <tr>\n",
       "      <th>0</th>\n",
       "      <td>PS4</td>\n",
       "      <td>288.15</td>\n",
       "    </tr>\n",
       "    <tr>\n",
       "      <th>1</th>\n",
       "      <td>XOne</td>\n",
       "      <td>140.36</td>\n",
       "    </tr>\n",
       "    <tr>\n",
       "      <th>2</th>\n",
       "      <td>3DS</td>\n",
       "      <td>86.68</td>\n",
       "    </tr>\n",
       "    <tr>\n",
       "      <th>3</th>\n",
       "      <td>PS3</td>\n",
       "      <td>68.18</td>\n",
       "    </tr>\n",
       "    <tr>\n",
       "      <th>4</th>\n",
       "      <td>X360</td>\n",
       "      <td>48.22</td>\n",
       "    </tr>\n",
       "    <tr>\n",
       "      <th>5</th>\n",
       "      <td>WiiU</td>\n",
       "      <td>42.98</td>\n",
       "    </tr>\n",
       "    <tr>\n",
       "      <th>6</th>\n",
       "      <td>PC</td>\n",
       "      <td>27.05</td>\n",
       "    </tr>\n",
       "    <tr>\n",
       "      <th>7</th>\n",
       "      <td>PSV</td>\n",
       "      <td>22.40</td>\n",
       "    </tr>\n",
       "    <tr>\n",
       "      <th>8</th>\n",
       "      <td>Wii</td>\n",
       "      <td>5.07</td>\n",
       "    </tr>\n",
       "    <tr>\n",
       "      <th>9</th>\n",
       "      <td>PSP</td>\n",
       "      <td>0.36</td>\n",
       "    </tr>\n",
       "  </tbody>\n",
       "</table>\n",
       "</div>"
      ],
      "text/plain": [
       "  platform  total_sales\n",
       "0      PS4       288.15\n",
       "1     XOne       140.36\n",
       "2      3DS        86.68\n",
       "3      PS3        68.18\n",
       "4     X360        48.22\n",
       "5     WiiU        42.98\n",
       "6       PC        27.05\n",
       "7      PSV        22.40\n",
       "8      Wii         5.07\n",
       "9      PSP         0.36"
      ]
     },
     "execution_count": 41,
     "metadata": {},
     "output_type": "execute_result"
    }
   ],
   "source": [
    "#посмотрим на продажи в разрезе платформ в порядке убывания\n",
    "(\n",
    "actual_df\n",
    ".pivot_table(index='platform', values='total_sales', aggfunc='sum')\n",
    ".sort_values('total_sales', ascending=False)\n",
    ".reset_index()\n",
    ")"
   ]
  },
  {
   "cell_type": "markdown",
   "id": "5748c709",
   "metadata": {},
   "source": [
    "В топ-5 по продажам: 2 платформы от Sony, 2 от Microsoft и 1 от Nintendo. PS3, X360, Nintendo 3DS заканчивают свой жизненный цикл - у них заметный даунгрейд на графике. В то же время на 1ом и 2ом местах следующие потенциально прибыльные поколения от Sony и Microsoft - это PS4 и XOne соответственно. Данные приставки хоть и были выпущены в 2013 году, но не прошли и половины своего \"жизненного пути\", поэтому считаю, что производство игр для данных платформ будет только наращиваться. "
   ]
  },
  {
   "cell_type": "code",
   "execution_count": 42,
   "id": "5a7dd0b5",
   "metadata": {
    "scrolled": true
   },
   "outputs": [
    {
     "data": {
      "image/png": "[encoded data removed]",
      "text/plain": [
       "<Figure size 1080x720 with 1 Axes>"
      ]
     },
     "metadata": {
      "needs_background": "light"
     },
     "output_type": "display_data"
    }
   ],
   "source": [
    "#посмотрим распределение продаж по годам по PC(персональный компьютер)\n",
    "(\n",
    "df\n",
    "    .query('platform == \"PC\"')\n",
    "    .pivot_table(index='year_of_release', columns='platform', values='total_sales', aggfunc=sum)\n",
    "    .plot(figsize=(15, 10), style='o-',  grid=True)\n",
    ")\n",
    "plt.show()"
   ]
  },
  {
   "cell_type": "markdown",
   "id": "381ac180",
   "metadata": {},
   "source": [
    "Считаю, что в потенциально прибыльные стоит добавить PC, т.к. компьютеры никуда не деваются и не собирают деваться из нашей жизни, а игры зачастую выпускают одновременно на нескольких платформах + персональный компьютер. Даже если какая-то платформа выпускает эксклюзивы, то через какое-то время данные экслюзивные игры появляются и на PC. Также судя по графику продажи игр на PC, начиная с 1988 года, достаточно стабильные, хоть и не такие большие, как у консолей. Думаю это связано с тем, что игры на PC достаточно легко скачать нелегально."
   ]
  },
  {
   "cell_type": "markdown",
   "id": "dcc2bcbe",
   "metadata": {},
   "source": [
    "Построим боксплоты по отобранным потенциально прибыльным платформам"
   ]
  },
  {
   "cell_type": "code",
   "execution_count": 43,
   "id": "0db81879",
   "metadata": {
    "scrolled": false
   },
   "outputs": [
    {
     "data": {
      "image/png": "[encoded data removed]",
      "text/plain": [
       "<Figure size 720x360 with 1 Axes>"
      ]
     },
     "metadata": {
      "needs_background": "light"
     },
     "output_type": "display_data"
    }
   ],
   "source": [
    "#сначала построим боксплоты со всеми выбросами\n",
    "actual_top_platforms = ['PS4', 'XOne', 'PC']\n",
    "(\n",
    "actual_df\n",
    "    .query('platform in @actual_top_platforms')\n",
    "    .pivot_table(index='name', columns='platform', values='total_sales', aggfunc='sum')\n",
    "    .plot(kind='box', figsize=(10,5), ylim=(-1,16))\n",
    ")\n",
    "plt.show()"
   ]
  },
  {
   "cell_type": "code",
   "execution_count": 44,
   "id": "8517c5e2",
   "metadata": {},
   "outputs": [
    {
     "data": {
      "image/png": "[encoded data removed]",
      "text/plain": [
       "<Figure size 720x720 with 1 Axes>"
      ]
     },
     "metadata": {
      "needs_background": "light"
     },
     "output_type": "display_data"
    }
   ],
   "source": [
    "#теперь построим боксплоты без выбросов\n",
    "actual_top_platforms = ['PS4', 'XOne', 'PC']\n",
    "(\n",
    "actual_df\n",
    "    .query('platform in @actual_top_platforms')\n",
    "    .pivot_table(index='name', columns='platform', values='total_sales', aggfunc='sum')\n",
    "    .plot\n",
    "    (kind='box', \n",
    "     figsize=(10,10), \n",
    "     ylim=(-0.5,2),\n",
    "    showfliers=False)\n",
    ")\n",
    "plt.show()"
   ]
  },
  {
   "cell_type": "markdown",
   "id": "9a9f856a",
   "metadata": {},
   "source": [
    "Боксплоты у PS4 и у XOne почти одинаковые, но вот выбросов у PS4 побольше. Аналогичность боксплотов между двумя платформами означает одинаковость распределения значений. У PC же и выбросов больше, чем у платформ и сам ящик меньше в связи с меньшими объемами продаж."
   ]
  },
  {
   "cell_type": "markdown",
   "id": "140ed996",
   "metadata": {},
   "source": [
    "Посмотрим, как влияют на продажи внутри одной популярной платформы отзывы пользователей и критиков. Возьмем PS4."
   ]
  },
  {
   "cell_type": "code",
   "execution_count": 45,
   "id": "22f54845",
   "metadata": {},
   "outputs": [
    {
     "data": {
      "image/png": "[encoded data removed]",
      "text/plain": [
       "<Figure size 360x360 with 1 Axes>"
      ]
     },
     "metadata": {
      "needs_background": "light"
     },
     "output_type": "display_data"
    }
   ],
   "source": [
    "#построим диаграмму рассеяния по параметрам глобальные продажи и отзывы критиков\n",
    "(\n",
    "    actual_df\n",
    "    .query('platform == \"PS4\"')\n",
    "    .pivot_table(index='critic_score', values='total_sales')\n",
    "    .reset_index()\n",
    "    .plot(x='critic_score', y='total_sales', kind='scatter', figsize=(5, 5), alpha=0.5)\n",
    ")\n",
    "plt.show()"
   ]
  },
  {
   "cell_type": "code",
   "execution_count": 46,
   "id": "f02481c6",
   "metadata": {},
   "outputs": [
    {
     "data": {
      "text/plain": [
       "0.40266141068104083"
      ]
     },
     "execution_count": 46,
     "metadata": {},
     "output_type": "execute_result"
    }
   ],
   "source": [
    "#посчитаем корреляцию между параметрами глобальные продажи и отзывы критиков\n",
    "actual_df.query('platform == \"PS4\"')['total_sales'].corr(actual_df.query('platform == \"PS4\"')['critic_score'])"
   ]
  },
  {
   "cell_type": "code",
   "execution_count": 47,
   "id": "b174c860",
   "metadata": {},
   "outputs": [
    {
     "data": {
      "image/png": "[encoded data removed]",
      "text/plain": [
       "<Figure size 360x360 with 1 Axes>"
      ]
     },
     "metadata": {
      "needs_background": "light"
     },
     "output_type": "display_data"
    }
   ],
   "source": [
    "#построим диаграмму рассеяния по параметрам глобальные продажи и отзывы пользователей\n",
    "(\n",
    "    actual_df\n",
    "    .query('platform == \"PS4\"')\n",
    "    .pivot_table(index='user_score', values='total_sales')\n",
    "    .reset_index()\n",
    "    .plot(x='user_score', y='total_sales', kind='scatter', figsize=(5, 5), alpha=0.5)\n",
    ")\n",
    "plt.show()"
   ]
  },
  {
   "cell_type": "code",
   "execution_count": 48,
   "id": "0467f6f3",
   "metadata": {},
   "outputs": [
    {
     "data": {
      "text/plain": [
       "-0.040131589472697356"
      ]
     },
     "execution_count": 48,
     "metadata": {},
     "output_type": "execute_result"
    }
   ],
   "source": [
    "#посчитаем корреляцию между параметрами глобальные продажи и отзывы пользователей\n",
    "actual_df.query('platform == \"PS4\"')['total_sales'].corr(actual_df.query('platform == \"PS4\"')['user_score'])"
   ]
  },
  {
   "cell_type": "markdown",
   "id": "73a5972e",
   "metadata": {},
   "source": [
    "Коэффициент корреляции между глобальными продажами и отзывами критиков - 0.43. \n",
    "\n",
    "Коэффициент корреляции между глобальными продажами и отзывами пользователей - 0.02. \n",
    "\n",
    "Видно, что между глобальными продажами и отзывами критиков присутствует линейная связь, в то время как между глобальными продажами и отзывами пользователей ее нет. Это видно и на диаграммах рассеяния: начиная от оценки критиков > 55 глобальные продажи игр на PS4 начинают подрастать, в то время как на диаграмме рассеяния с оценками пользователей все хаотично."
   ]
  },
  {
   "cell_type": "markdown",
   "id": "f72a0203",
   "metadata": {},
   "source": [
    "Посмотрим влияние оценок пользователей и критиков на глобыльные продажи игр в разрезе остальных потенциально прибыльных платформ"
   ]
  },
  {
   "cell_type": "code",
   "execution_count": 49,
   "id": "973d7956",
   "metadata": {},
   "outputs": [
    {
     "data": {
      "image/png": "[encoded data removed]",
      "text/plain": [
       "<Figure size 360x360 with 1 Axes>"
      ]
     },
     "metadata": {
      "needs_background": "light"
     },
     "output_type": "display_data"
    }
   ],
   "source": [
    "#построим диаграмму рассеяния по параметрам глобальные продажи и отзывы критиков по XOne\n",
    "(\n",
    "    actual_df\n",
    "    .query('platform == \"XOne\"')\n",
    "    .pivot_table(index='critic_score', values='total_sales')\n",
    "    .reset_index()\n",
    "    .plot(x='critic_score', y='total_sales', kind='scatter', figsize=(5, 5), alpha=0.5)\n",
    ")\n",
    "plt.show()"
   ]
  },
  {
   "cell_type": "code",
   "execution_count": 50,
   "id": "3c2cb3ff",
   "metadata": {},
   "outputs": [
    {
     "data": {
      "text/plain": [
       "0.42867694370333226"
      ]
     },
     "execution_count": 50,
     "metadata": {},
     "output_type": "execute_result"
    }
   ],
   "source": [
    "#посчитаем корреляцию между параметрами глобальные продажи и отзывы критиков по XOne\n",
    "actual_df.query('platform == \"XOne\"')['total_sales'].corr(actual_df.query('platform == \"XOne\"')['critic_score'])"
   ]
  },
  {
   "cell_type": "code",
   "execution_count": 51,
   "id": "508cd440",
   "metadata": {},
   "outputs": [
    {
     "data": {
      "image/png": "[encoded data removed]",
      "text/plain": [
       "<Figure size 360x360 with 1 Axes>"
      ]
     },
     "metadata": {
      "needs_background": "light"
     },
     "output_type": "display_data"
    }
   ],
   "source": [
    "#построим диаграмму рассеяния по параметрам глобальные продажи и отзывы пользователей по XOne\n",
    "(\n",
    "    actual_df\n",
    "    .query('platform == \"XOne\"')\n",
    "    .pivot_table(index='user_score', values='total_sales')\n",
    "    .reset_index()\n",
    "    .plot(x='user_score', y='total_sales', kind='scatter', figsize=(5, 5), alpha=0.5)\n",
    ")\n",
    "plt.show()"
   ]
  },
  {
   "cell_type": "code",
   "execution_count": 52,
   "id": "6b2d9716",
   "metadata": {},
   "outputs": [
    {
     "data": {
      "text/plain": [
       "-0.0703839280647581"
      ]
     },
     "execution_count": 52,
     "metadata": {},
     "output_type": "execute_result"
    }
   ],
   "source": [
    "#посчитаем корреляцию между параметрами глобальные продажи и отзывы пользователей по XOne\n",
    "actual_df.query('platform == \"XOne\"')['total_sales'].corr(actual_df.query('platform == \"XOne\"')['user_score'])"
   ]
  },
  {
   "cell_type": "code",
   "execution_count": 53,
   "id": "d384b2cb",
   "metadata": {},
   "outputs": [
    {
     "data": {
      "image/png": "[encoded data removed]",
      "text/plain": [
       "<Figure size 360x360 with 1 Axes>"
      ]
     },
     "metadata": {
      "needs_background": "light"
     },
     "output_type": "display_data"
    }
   ],
   "source": [
    "#построим диаграмму рассеяния по параметрам глобальные продажи и отзывы критиков по PC\n",
    "(\n",
    "    actual_df\n",
    "    .query('platform == \"PC\"')\n",
    "    .pivot_table(index='critic_score', values='total_sales')\n",
    "    .reset_index()\n",
    "    .plot(x='critic_score', y='total_sales', kind='scatter', figsize=(5, 5), alpha=0.5)\n",
    ")\n",
    "plt.show()"
   ]
  },
  {
   "cell_type": "code",
   "execution_count": 54,
   "id": "f2108d80",
   "metadata": {},
   "outputs": [
    {
     "data": {
      "text/plain": [
       "0.17463413769350036"
      ]
     },
     "execution_count": 54,
     "metadata": {},
     "output_type": "execute_result"
    }
   ],
   "source": [
    "#посчитаем корреляцию между параметрами глобальные продажи и отзывы критиков по PC\n",
    "actual_df.query('platform == \"PC\"')['total_sales'].corr(actual_df.query('platform == \"PC\"')['critic_score'])"
   ]
  },
  {
   "cell_type": "code",
   "execution_count": 55,
   "id": "b52528b3",
   "metadata": {
    "scrolled": true
   },
   "outputs": [
    {
     "data": {
      "image/png": "[encoded data removed]",
      "text/plain": [
       "<Figure size 360x360 with 1 Axes>"
      ]
     },
     "metadata": {
      "needs_background": "light"
     },
     "output_type": "display_data"
    }
   ],
   "source": [
    "#построим диаграмму рассеяния по параметрам глобальные продажи и отзывы критиков по PC\n",
    "(\n",
    "    actual_df\n",
    "    .query('platform == \"PC\"')\n",
    "    .pivot_table(index='user_score', values='total_sales')\n",
    "    .reset_index()\n",
    "    .plot(x='user_score', y='total_sales', kind='scatter', figsize=(5, 5), alpha=0.5)\n",
    ")\n",
    "plt.show()"
   ]
  },
  {
   "cell_type": "code",
   "execution_count": 56,
   "id": "efa679b3",
   "metadata": {},
   "outputs": [
    {
     "data": {
      "text/plain": [
       "-0.07159665703472452"
      ]
     },
     "execution_count": 56,
     "metadata": {},
     "output_type": "execute_result"
    }
   ],
   "source": [
    "#посчитаем корреляцию между параметрами глобальные продажи и отзывы пользователей по PC\n",
    "actual_df.query('platform == \"PC\"')['total_sales'].corr(actual_df.query('platform == \"PC\"')['user_score'])"
   ]
  },
  {
   "cell_type": "markdown",
   "id": "b65aaf76",
   "metadata": {},
   "source": [
    "Коэффициент корреляции между глобальными продажами и отзывами критиков - 0.46 (XONe).\n",
    "\n",
    "Коэффициент корреляции между глобальными продажами и отзывами пользователей - (- 0.04) (XONe).\n",
    "\n",
    "Коэффициент корреляции между глобальными продажами и отзывами критиков - 0.36 (PC).\n",
    "\n",
    "Коэффициент корреляции между глобальными продажами и отзывами пользователей - (- 0.02) (PC).\n",
    "\n",
    "Аналогичная ситуация, как и с PS4: между оценками критиков и глобальными продажами есть линейная связь. Чем выше оценки, тем больше продажи. В то же время связь между оценками пользователей и глобальными продажа как у XOne, так и у PC  - отсутствует.\n"
   ]
  },
  {
   "cell_type": "markdown",
   "id": "62ba89d1",
   "metadata": {},
   "source": [
    "Посмотрим на общее распределение игр по жанрам за период с 2010 по 2015 года"
   ]
  },
  {
   "cell_type": "code",
   "execution_count": 57,
   "id": "3e39bdf3",
   "metadata": {},
   "outputs": [
    {
     "data": {
      "image/png": "[encoded data removed]",
      "text/plain": [
       "<Figure size 1080x720 with 1 Axes>"
      ]
     },
     "metadata": {
      "needs_background": "light"
     },
     "output_type": "display_data"
    }
   ],
   "source": [
    "(\n",
    "actual_df \n",
    "    .pivot_table(index='genre', values='total_sales', aggfunc='median')\n",
    "    .sort_values(by='total_sales', ascending=False)\n",
    "    .plot(figsize=(15, 10), kind='bar')\n",
    ")\n",
    "plt.show()"
   ]
  },
  {
   "cell_type": "markdown",
   "id": "8ac0c065",
   "metadata": {},
   "source": [
    "Самый продаваемый жанр - Shooter. Данный жанр впереди всех. Далее Sports, Platform и Fighting.\n",
    "\n",
    "Наименее прибыльные жанры - Puzzle и Adventure."
   ]
  },
  {
   "cell_type": "markdown",
   "id": "159b2a5c",
   "metadata": {},
   "source": [
    "## Портрет пользователя по региону"
   ]
  },
  {
   "cell_type": "markdown",
   "id": "e34a7195",
   "metadata": {},
   "source": [
    "Определим для пользователя каждого региона - Северная Америка, Европа и Япония - топ-5 самых популярных платформ"
   ]
  },
  {
   "cell_type": "code",
   "execution_count": 58,
   "id": "035274dc",
   "metadata": {
    "scrolled": true
   },
   "outputs": [],
   "source": [
    "#создадим переменную с регионами\n",
    "regions = actual_df[['na_sales', 'eu_sales', 'jp_sales']]\n",
    "\n",
    "#создадим функцию, которая будет проходить по каждому региону и \"рисовать\" круговую диаграмму, показывающую распределение\n",
    "#продаж по платформам в общем объеме продаж по данному региону, а также после каждой диаграммы выводить топ-5 платформ\n",
    "def user_platform(region):\n",
    "    for region in regions:\n",
    "        (\n",
    "        actual_df.pivot_table(index='platform', values=region, aggfunc=sum)\n",
    "        .sort_values(by=region, ascending=False)\n",
    "        .plot(figsize=(10, 10), kind='pie', subplots=True)\n",
    "        )\n",
    "        plt.show()\n",
    "        display(\n",
    "        actual_df\n",
    "            .pivot_table(index='platform', values=region, aggfunc=sum)\n",
    "            .sort_values(by=region, ascending=False)\n",
    "            .reset_index()\n",
    "            .head()\n",
    "        )\n",
    "    return"
   ]
  },
  {
   "cell_type": "code",
   "execution_count": 59,
   "id": "0cf6df2b",
   "metadata": {
    "scrolled": false
   },
   "outputs": [
    {
     "data": {
      "image/png": "[encoded data removed]",
      "text/plain": [
       "<Figure size 720x720 with 1 Axes>"
      ]
     },
     "metadata": {},
     "output_type": "display_data"
    },
    {
     "data": {
      "text/html": [
       "<div>\n",
       "<style scoped>\n",
       "    .dataframe tbody tr th:only-of-type {\n",
       "        vertical-align: middle;\n",
       "    }\n",
       "\n",
       "    .dataframe tbody tr th {\n",
       "        vertical-align: top;\n",
       "    }\n",
       "\n",
       "    .dataframe thead th {\n",
       "        text-align: right;\n",
       "    }\n",
       "</style>\n",
       "<table border=\"1\" class=\"dataframe\">\n",
       "  <thead>\n",
       "    <tr style=\"text-align: right;\">\n",
       "      <th></th>\n",
       "      <th>platform</th>\n",
       "      <th>na_sales</th>\n",
       "    </tr>\n",
       "  </thead>\n",
       "  <tbody>\n",
       "    <tr>\n",
       "      <th>0</th>\n",
       "      <td>PS4</td>\n",
       "      <td>98.61</td>\n",
       "    </tr>\n",
       "    <tr>\n",
       "      <th>1</th>\n",
       "      <td>XOne</td>\n",
       "      <td>81.27</td>\n",
       "    </tr>\n",
       "    <tr>\n",
       "      <th>2</th>\n",
       "      <td>X360</td>\n",
       "      <td>28.30</td>\n",
       "    </tr>\n",
       "    <tr>\n",
       "      <th>3</th>\n",
       "      <td>3DS</td>\n",
       "      <td>22.64</td>\n",
       "    </tr>\n",
       "    <tr>\n",
       "      <th>4</th>\n",
       "      <td>PS3</td>\n",
       "      <td>22.05</td>\n",
       "    </tr>\n",
       "  </tbody>\n",
       "</table>\n",
       "</div>"
      ],
      "text/plain": [
       "  platform  na_sales\n",
       "0      PS4     98.61\n",
       "1     XOne     81.27\n",
       "2     X360     28.30\n",
       "3      3DS     22.64\n",
       "4      PS3     22.05"
      ]
     },
     "metadata": {},
     "output_type": "display_data"
    },
    {
     "data": {
      "image/png": "[encoded data removed]",
      "text/plain": [
       "<Figure size 720x720 with 1 Axes>"
      ]
     },
     "metadata": {},
     "output_type": "display_data"
    },
    {
     "data": {
      "text/html": [
       "<div>\n",
       "<style scoped>\n",
       "    .dataframe tbody tr th:only-of-type {\n",
       "        vertical-align: middle;\n",
       "    }\n",
       "\n",
       "    .dataframe tbody tr th {\n",
       "        vertical-align: top;\n",
       "    }\n",
       "\n",
       "    .dataframe thead th {\n",
       "        text-align: right;\n",
       "    }\n",
       "</style>\n",
       "<table border=\"1\" class=\"dataframe\">\n",
       "  <thead>\n",
       "    <tr style=\"text-align: right;\">\n",
       "      <th></th>\n",
       "      <th>platform</th>\n",
       "      <th>eu_sales</th>\n",
       "    </tr>\n",
       "  </thead>\n",
       "  <tbody>\n",
       "    <tr>\n",
       "      <th>0</th>\n",
       "      <td>PS4</td>\n",
       "      <td>130.04</td>\n",
       "    </tr>\n",
       "    <tr>\n",
       "      <th>1</th>\n",
       "      <td>XOne</td>\n",
       "      <td>46.25</td>\n",
       "    </tr>\n",
       "    <tr>\n",
       "      <th>2</th>\n",
       "      <td>PS3</td>\n",
       "      <td>25.54</td>\n",
       "    </tr>\n",
       "    <tr>\n",
       "      <th>3</th>\n",
       "      <td>PC</td>\n",
       "      <td>17.97</td>\n",
       "    </tr>\n",
       "    <tr>\n",
       "      <th>4</th>\n",
       "      <td>3DS</td>\n",
       "      <td>16.12</td>\n",
       "    </tr>\n",
       "  </tbody>\n",
       "</table>\n",
       "</div>"
      ],
      "text/plain": [
       "  platform  eu_sales\n",
       "0      PS4    130.04\n",
       "1     XOne     46.25\n",
       "2      PS3     25.54\n",
       "3       PC     17.97\n",
       "4      3DS     16.12"
      ]
     },
     "metadata": {},
     "output_type": "display_data"
    },
    {
     "data": {
      "image/png": "[encoded data removed]",
      "text/plain": [
       "<Figure size 720x720 with 1 Axes>"
      ]
     },
     "metadata": {},
     "output_type": "display_data"
    },
    {
     "data": {
      "text/html": [
       "<div>\n",
       "<style scoped>\n",
       "    .dataframe tbody tr th:only-of-type {\n",
       "        vertical-align: middle;\n",
       "    }\n",
       "\n",
       "    .dataframe tbody tr th {\n",
       "        vertical-align: top;\n",
       "    }\n",
       "\n",
       "    .dataframe thead th {\n",
       "        text-align: right;\n",
       "    }\n",
       "</style>\n",
       "<table border=\"1\" class=\"dataframe\">\n",
       "  <thead>\n",
       "    <tr style=\"text-align: right;\">\n",
       "      <th></th>\n",
       "      <th>platform</th>\n",
       "      <th>jp_sales</th>\n",
       "    </tr>\n",
       "  </thead>\n",
       "  <tbody>\n",
       "    <tr>\n",
       "      <th>0</th>\n",
       "      <td>3DS</td>\n",
       "      <td>44.24</td>\n",
       "    </tr>\n",
       "    <tr>\n",
       "      <th>1</th>\n",
       "      <td>PS4</td>\n",
       "      <td>15.02</td>\n",
       "    </tr>\n",
       "    <tr>\n",
       "      <th>2</th>\n",
       "      <td>PSV</td>\n",
       "      <td>14.54</td>\n",
       "    </tr>\n",
       "    <tr>\n",
       "      <th>3</th>\n",
       "      <td>PS3</td>\n",
       "      <td>11.22</td>\n",
       "    </tr>\n",
       "    <tr>\n",
       "      <th>4</th>\n",
       "      <td>WiiU</td>\n",
       "      <td>7.31</td>\n",
       "    </tr>\n",
       "  </tbody>\n",
       "</table>\n",
       "</div>"
      ],
      "text/plain": [
       "  platform  jp_sales\n",
       "0      3DS     44.24\n",
       "1      PS4     15.02\n",
       "2      PSV     14.54\n",
       "3      PS3     11.22\n",
       "4     WiiU      7.31"
      ]
     },
     "metadata": {},
     "output_type": "display_data"
    }
   ],
   "source": [
    "user_platform(regions)"
   ]
  },
  {
   "cell_type": "markdown",
   "id": "9a6eea1f",
   "metadata": {},
   "source": [
    "В Северной Америке на первом месте по продажам находится устаревшая модель консоли местного производства - X360. Далее идет также устаревшая модель PS3, а потом Wii. На 4ом и 5ом месте находятся модели нового поколения PS4 и XOne соответственно.\n",
    "\n",
    "В Европе 1 и 2 место также между собой поделили PS3 и X360, но вот на 3ем месте модель нового поколения PS4 и по продажам даже больше, чем в Северной Америке. На пятом месте расположился PC, а вот новой XOne вообще в топе нет.\n",
    "\n",
    "В Японии весь топ-5 занимают платформы от японских компаний. Интересно, что 4 места из 5 занимают портативные консоли. "
   ]
  },
  {
   "cell_type": "markdown",
   "id": "3ac7ff24",
   "metadata": {},
   "source": [
    "Самые популярные жанры (топ-5) для пользователя каждого региона"
   ]
  },
  {
   "cell_type": "code",
   "execution_count": 60,
   "id": "73bde2aa",
   "metadata": {},
   "outputs": [],
   "source": [
    "#создадим функцию, которая будет проходить по каждому региону и \"рисовать\" круговую диаграмму, показывающую распределение\n",
    "#продаж по жанрам в общем объеме продаж по данному региону, а также после каждой диаграммы выводить топ-5 жанров\n",
    "def user_genre(region):\n",
    "    for region in regions:\n",
    "        (\n",
    "        actual_df.pivot_table(index='genre', values=region, aggfunc=sum)\n",
    "        .sort_values(by=region, ascending=False)\n",
    "        .plot(figsize=(10, 10), kind='pie', subplots=True)\n",
    "        )\n",
    "        plt.show()\n",
    "        display(\n",
    "        actual_df\n",
    "            .pivot_table(index='genre', values=region, aggfunc=sum)\n",
    "            .sort_values(by=region, ascending=False)\n",
    "            .reset_index()\n",
    "            .head()\n",
    "        )\n",
    "    return"
   ]
  },
  {
   "cell_type": "code",
   "execution_count": 61,
   "id": "36ddcee4",
   "metadata": {
    "scrolled": false
   },
   "outputs": [
    {
     "data": {
      "image/png": "[encoded data removed]",
      "text/plain": [
       "<Figure size 720x720 with 1 Axes>"
      ]
     },
     "metadata": {},
     "output_type": "display_data"
    },
    {
     "data": {
      "text/html": [
       "<div>\n",
       "<style scoped>\n",
       "    .dataframe tbody tr th:only-of-type {\n",
       "        vertical-align: middle;\n",
       "    }\n",
       "\n",
       "    .dataframe tbody tr th {\n",
       "        vertical-align: top;\n",
       "    }\n",
       "\n",
       "    .dataframe thead th {\n",
       "        text-align: right;\n",
       "    }\n",
       "</style>\n",
       "<table border=\"1\" class=\"dataframe\">\n",
       "  <thead>\n",
       "    <tr style=\"text-align: right;\">\n",
       "      <th></th>\n",
       "      <th>genre</th>\n",
       "      <th>na_sales</th>\n",
       "    </tr>\n",
       "  </thead>\n",
       "  <tbody>\n",
       "    <tr>\n",
       "      <th>0</th>\n",
       "      <td>Shooter</td>\n",
       "      <td>79.02</td>\n",
       "    </tr>\n",
       "    <tr>\n",
       "      <th>1</th>\n",
       "      <td>Action</td>\n",
       "      <td>72.53</td>\n",
       "    </tr>\n",
       "    <tr>\n",
       "      <th>2</th>\n",
       "      <td>Sports</td>\n",
       "      <td>46.13</td>\n",
       "    </tr>\n",
       "    <tr>\n",
       "      <th>3</th>\n",
       "      <td>Role-Playing</td>\n",
       "      <td>33.47</td>\n",
       "    </tr>\n",
       "    <tr>\n",
       "      <th>4</th>\n",
       "      <td>Misc</td>\n",
       "      <td>15.05</td>\n",
       "    </tr>\n",
       "  </tbody>\n",
       "</table>\n",
       "</div>"
      ],
      "text/plain": [
       "          genre  na_sales\n",
       "0       Shooter     79.02\n",
       "1        Action     72.53\n",
       "2        Sports     46.13\n",
       "3  Role-Playing     33.47\n",
       "4          Misc     15.05"
      ]
     },
     "metadata": {},
     "output_type": "display_data"
    },
    {
     "data": {
      "image/png": "[encoded data removed]",
      "text/plain": [
       "<Figure size 720x720 with 1 Axes>"
      ]
     },
     "metadata": {},
     "output_type": "display_data"
    },
    {
     "data": {
      "text/html": [
       "<div>\n",
       "<style scoped>\n",
       "    .dataframe tbody tr th:only-of-type {\n",
       "        vertical-align: middle;\n",
       "    }\n",
       "\n",
       "    .dataframe tbody tr th {\n",
       "        vertical-align: top;\n",
       "    }\n",
       "\n",
       "    .dataframe thead th {\n",
       "        text-align: right;\n",
       "    }\n",
       "</style>\n",
       "<table border=\"1\" class=\"dataframe\">\n",
       "  <thead>\n",
       "    <tr style=\"text-align: right;\">\n",
       "      <th></th>\n",
       "      <th>genre</th>\n",
       "      <th>eu_sales</th>\n",
       "    </tr>\n",
       "  </thead>\n",
       "  <tbody>\n",
       "    <tr>\n",
       "      <th>0</th>\n",
       "      <td>Action</td>\n",
       "      <td>74.68</td>\n",
       "    </tr>\n",
       "    <tr>\n",
       "      <th>1</th>\n",
       "      <td>Shooter</td>\n",
       "      <td>65.52</td>\n",
       "    </tr>\n",
       "    <tr>\n",
       "      <th>2</th>\n",
       "      <td>Sports</td>\n",
       "      <td>45.73</td>\n",
       "    </tr>\n",
       "    <tr>\n",
       "      <th>3</th>\n",
       "      <td>Role-Playing</td>\n",
       "      <td>28.17</td>\n",
       "    </tr>\n",
       "    <tr>\n",
       "      <th>4</th>\n",
       "      <td>Racing</td>\n",
       "      <td>14.13</td>\n",
       "    </tr>\n",
       "  </tbody>\n",
       "</table>\n",
       "</div>"
      ],
      "text/plain": [
       "          genre  eu_sales\n",
       "0        Action     74.68\n",
       "1       Shooter     65.52\n",
       "2        Sports     45.73\n",
       "3  Role-Playing     28.17\n",
       "4        Racing     14.13"
      ]
     },
     "metadata": {},
     "output_type": "display_data"
    },
    {
     "data": {
      "image/png": "[encoded data removed]",
      "text/plain": [
       "<Figure size 720x720 with 1 Axes>"
      ]
     },
     "metadata": {},
     "output_type": "display_data"
    },
    {
     "data": {
      "text/html": [
       "<div>\n",
       "<style scoped>\n",
       "    .dataframe tbody tr th:only-of-type {\n",
       "        vertical-align: middle;\n",
       "    }\n",
       "\n",
       "    .dataframe tbody tr th {\n",
       "        vertical-align: top;\n",
       "    }\n",
       "\n",
       "    .dataframe thead th {\n",
       "        text-align: right;\n",
       "    }\n",
       "</style>\n",
       "<table border=\"1\" class=\"dataframe\">\n",
       "  <thead>\n",
       "    <tr style=\"text-align: right;\">\n",
       "      <th></th>\n",
       "      <th>genre</th>\n",
       "      <th>jp_sales</th>\n",
       "    </tr>\n",
       "  </thead>\n",
       "  <tbody>\n",
       "    <tr>\n",
       "      <th>0</th>\n",
       "      <td>Role-Playing</td>\n",
       "      <td>31.16</td>\n",
       "    </tr>\n",
       "    <tr>\n",
       "      <th>1</th>\n",
       "      <td>Action</td>\n",
       "      <td>29.58</td>\n",
       "    </tr>\n",
       "    <tr>\n",
       "      <th>2</th>\n",
       "      <td>Fighting</td>\n",
       "      <td>6.37</td>\n",
       "    </tr>\n",
       "    <tr>\n",
       "      <th>3</th>\n",
       "      <td>Misc</td>\n",
       "      <td>5.61</td>\n",
       "    </tr>\n",
       "    <tr>\n",
       "      <th>4</th>\n",
       "      <td>Shooter</td>\n",
       "      <td>4.87</td>\n",
       "    </tr>\n",
       "  </tbody>\n",
       "</table>\n",
       "</div>"
      ],
      "text/plain": [
       "          genre  jp_sales\n",
       "0  Role-Playing     31.16\n",
       "1        Action     29.58\n",
       "2      Fighting      6.37\n",
       "3          Misc      5.61\n",
       "4       Shooter      4.87"
      ]
     },
     "metadata": {},
     "output_type": "display_data"
    }
   ],
   "source": [
    "user_genre(regions)"
   ]
  },
  {
   "cell_type": "markdown",
   "id": "203e9816",
   "metadata": {},
   "source": [
    "В Северной Америке как и в Европе одинаковые топ-5 игровых жанров. На первых трех местах этих регионов расположились следующие жанры: Action, Shooter и Sports.\n",
    "\n",
    "Топ-5 игровых жанров Японии выглядит поинтересней. На первом месте жанр Role-Playing, на втором опять же Action, а вот на третьем месте уже Misc. Платформенные игры тоже попали в топ-5 игровых жанров Японии на четвертое место."
   ]
  },
  {
   "cell_type": "code",
   "execution_count": 62,
   "id": "18d8a672",
   "metadata": {},
   "outputs": [],
   "source": [
    "#создадим функцию, которая будет проходить по каждому региону и \"рисовать\" барплот, показывающий распределение\n",
    "#продаж по рейтингам ESRB в общем объеме продаж по данному региону\n",
    "def user_rating(region):\n",
    "    for region in regions:\n",
    "        (\n",
    "        actual_df.pivot_table(index='rating', values=region, aggfunc=sum)\n",
    "        .sort_values(by=region, ascending=False)\n",
    "        .plot(figsize=(5, 5), kind='bar')\n",
    "        )\n",
    "        plt.show()\n",
    "    return"
   ]
  },
  {
   "cell_type": "code",
   "execution_count": 63,
   "id": "3ae5d520",
   "metadata": {
    "scrolled": false
   },
   "outputs": [
    {
     "data": {
      "image/png": "[encoded data removed]",
      "text/plain": [
       "<Figure size 360x360 with 1 Axes>"
      ]
     },
     "metadata": {
      "needs_background": "light"
     },
     "output_type": "display_data"
    },
    {
     "data": {
      "image/png": "[encoded data removed]",
      "text/plain": [
       "<Figure size 360x360 with 1 Axes>"
      ]
     },
     "metadata": {
      "needs_background": "light"
     },
     "output_type": "display_data"
    },
    {
     "data": {
      "image/png": "[encoded data removed]",
      "text/plain": [
       "<Figure size 360x360 with 1 Axes>"
      ]
     },
     "metadata": {
      "needs_background": "light"
     },
     "output_type": "display_data"
    }
   ],
   "source": [
    "user_rating(regions)"
   ]
  },
  {
   "cell_type": "markdown",
   "id": "20b179f3",
   "metadata": {},
   "source": [
    "Первые и вторые места в Северной Америке и Европе одинаковы: на первом месте игры рейтинга \"М\" (Mature) > 17 лет, на втором \"E\" (Everyone) > 6 лет. Далее в С. Америке идут игры с рейтингом \"E10+\" > 10 лет и игры с рейтингом \"T\" (Teen) > 13 лет. Затем идут игры с неизвестным рейтингом. В Европе наоборот на третьем месте игры с неизвестным рейтингом. Потом идут игры с рейтингом \"T\" (Teen) > 13 лет, а затем игры с рейтингом \"E10+\" > 10 лет.\n",
    "\n",
    "\n",
    "В Японии на первом месте игры с неизвестным рейтингом. Далее игры с рейтингом \"E\" (Everyone) > 6 лет, а потом уже игры с рейтингом \"T\" (Teen) > 13 лет. \n",
    "\n",
    "ESRB - северо-американская организация по оценке игр и правилами ESRB запрещено размещать обозначения других рейтинговых систем вместе с их знаком, где бы то ни было, поэтому облепленные значками других рейтинговых систем диски встречаются только за пределами Северной Америки. Таким образом, продаж игр с рейтингом ESRB естественно больше в Северной Америке, а т.к. производство игр больше в С.Америке, чем в Европе, то и в Европе продажи игры с рейтингом ESRB больше, чем, например, продаж игр с рейтингом от местной системы оценки. А вот в Японии много игр выходят на локальный рынок, поэтому там оценивает их местная рейтинговая организация и на первом месте по продажам там локальные с \"местным\" рейтингом.\n",
    "\n",
    "\n",
    "Пропусками в стобце `rating` скорее всего являются игры, которые ESRB не оценивала и данные игры были выпущены для локального рынка и оценивали их другие рейтинговые системы. Например в Европе это может быть PEGI(Pan European Game Information), а в Японии - CERO (Computer Entertainment Rating Organization).\n",
    "\n",
    "\n",
    "Интересно, что присутствуют игры с рейтингом \"RP\" (\"Rating pending\") - \"Рейтинг ожидается\". Возможно это аномалия, т.к. с данным рейтингом в датафрейме с актуальным периодом только одна игра."
   ]
  },
  {
   "cell_type": "markdown",
   "id": "a0bf6a38",
   "metadata": {},
   "source": [
    "## Проверка гипотез"
   ]
  },
  {
   "cell_type": "markdown",
   "id": "dbf0fd09",
   "metadata": {},
   "source": [
    "Нам необходимо проверить две гипотезы:\n",
    "    \n",
    " - Средние пользовательские рейтинги платформ Xbox One и PC одинаковые;\n",
    " \n",
    " - Средние пользовательские рейтинги жанров Action и Sports  разные."
   ]
  },
  {
   "cell_type": "markdown",
   "id": "59e71fee",
   "metadata": {},
   "source": [
    "### Первая гипотеза"
   ]
  },
  {
   "cell_type": "markdown",
   "id": "489f35cb",
   "metadata": {},
   "source": [
    "Для проверки первой гипотезы сформулируем нулевую гипотезу и альтернативную гипотезу:\n",
    "\n",
    "H₀: среднепользовательская оценка Xbox One равна среднепользовательской оценки PC;\n",
    "\n",
    "H₁: среднепользовательская оценка Xbox One не равна среднепользовательской оценки PC.\n",
    "\n",
    "Уровень статистической значимости (alpha) = 0.05."
   ]
  },
  {
   "cell_type": "code",
   "execution_count": 64,
   "id": "4d99435a",
   "metadata": {},
   "outputs": [],
   "source": [
    "#создадим выборки по Xbox One и PC без пропусков в столбце user_score\n",
    "x_one = actual_df.query('(platform == \"XOne\") and (~(user_score.isna()))')['user_score'].to_list()\n",
    "pc = actual_df.query('(platform == \"PC\") and (~(user_score.isna()))')['user_score'].to_list()\n"
   ]
  },
  {
   "cell_type": "code",
   "execution_count": 65,
   "id": "649f329a",
   "metadata": {},
   "outputs": [
    {
     "name": "stdout",
     "output_type": "stream",
     "text": [
      "p-значение: 0.11601398086668832\n",
      "Не получилось отвергнуть нулевую гипотезу\n"
     ]
    }
   ],
   "source": [
    "from scipy import stats as st\n",
    "\n",
    "alpha = .05 \n",
    "\n",
    "#проводим  t-test, дисперсии не равны\n",
    "results = st.ttest_ind(x_one, pc, equal_var = False)\n",
    "\n",
    "print('p-значение:', results.pvalue) \n",
    "\n",
    "if results.pvalue < alpha:\n",
    "    print(\"Отвергаем нулевую гипотезу\")\n",
    "else:\n",
    "    print(\"Не получилось отвергнуть нулевую гипотезу\")"
   ]
  },
  {
   "cell_type": "markdown",
   "id": "a2cfd06b",
   "metadata": {},
   "source": [
    "Высока вероятность, что среднепользовательская оценка Xbox One равна среднепользовательской оценки PC"
   ]
  },
  {
   "cell_type": "markdown",
   "id": "5a5d0f03",
   "metadata": {},
   "source": [
    "### Вторая гипотеза"
   ]
  },
  {
   "cell_type": "markdown",
   "id": "15bb5fdb",
   "metadata": {},
   "source": [
    "Для проверки второй гипотезы также сформулируем нулевую гипотезу и альтернативную гипотезу:\n",
    "\n",
    "H₀: среднепользовательская оценка жанра Action равна среднепользовательской оценки жанра Sports;\n",
    "\n",
    "H₁: среднепользовательская оценка жанра Action не равна среднепользовательской оценки жанра Sports.\n",
    "\n",
    "Уровень статистической значимости (alpha) = 0.05."
   ]
  },
  {
   "cell_type": "code",
   "execution_count": 66,
   "id": "ff1aea9c",
   "metadata": {},
   "outputs": [],
   "source": [
    "#для большего охвата данные возьмем из первоначального общего датафрейма\n",
    "\n",
    "#создадим выборки по Action и Sports без пропусков в столбце user_score\n",
    "action = actual_df.query('(genre == \"Action\") and (user_score.notna())')['user_score'].to_list()\n",
    "sports = actual_df.query('(genre == \"Sports\") and (user_score.notna())')['user_score'].to_list()"
   ]
  },
  {
   "cell_type": "code",
   "execution_count": 67,
   "id": "ae33a065",
   "metadata": {},
   "outputs": [
    {
     "name": "stdout",
     "output_type": "stream",
     "text": [
      "p-значение: 1.1825550382644557e-14\n",
      "Отвергаем нулевую гипотезу\n"
     ]
    }
   ],
   "source": [
    "#проводим  t-test, дисперсии не равны\n",
    "g_results = st.ttest_ind(action, sports, equal_var = False)\n",
    "\n",
    "print('p-значение:', g_results.pvalue) \n",
    "\n",
    "if g_results.pvalue < alpha:\n",
    "    print(\"Отвергаем нулевую гипотезу\")\n",
    "else:\n",
    "    print(\"Не получилось отвергнуть нулевую гипотезу\")"
   ]
  },
  {
   "cell_type": "markdown",
   "id": "d226e49f",
   "metadata": {},
   "source": [
    "Cреднепользовательская оценка жанра Action не равна среднепользовательской оценки жанра Sports. Высока вероятность, что средние пользовательские рейтинги жанров Action и Sports разные"
   ]
  },
  {
   "cell_type": "markdown",
   "id": "3f8a0a10",
   "metadata": {},
   "source": [
    "## Общий вывод"
   ]
  },
  {
   "cell_type": "markdown",
   "id": "14d479cc",
   "metadata": {},
   "source": [
    "**Представленные** для анализа данные содержали информацию о продажах игр, оценки пользователей и экспертов, жанры и платформы (например, Xbox или PlayStation).\n",
    "\n",
    "**В процессе предварительной обработки** данных были выявлены пропуски значений в столбцах. В столбце \"Год выпуска\" пропуски составляли менее 2% от общего количества. Учитывая малое количество пропусков строки с пропусками в данном столбце были удалены. Пропуски в столбцах с оценками пользователей и с оценками критиков содержали  50% и 40% от общего количества значений в этих столбцах. Исходя из невозможности заполнить пропуски в данных столбцах было принято решение оставить как есть, дабы не искажать статистики. Пропуски в столбце со значениями рейтинга ESRB исходя из невозможности их заполнить заменили на значение \"unknown\" (в пер. с англ. \"неизвестный\"). Позднее, в ходе исследования выясним, что данные пропуски означают, что ESRB данные игры не оценивала.\n",
    "\n",
    "**В ходе исследовательского анализа** данных выяснили, что выпуск игр начинается с 1980 года. В период с 1980 по 1994 год выпускалось не более 50 игр в год. В дальнейшем производство игр наращивается. Пик выпуска игр приходится на 2007-2010 гг.\n",
    "\n",
    "Построив график продаж по шести платформ с наилучшими продажами за весь период выяснили, что \"жизненный цикл\" платформы в среднем составляет 10 лет и что каждые 5 лет у \"живущей\" платформы происходит ее апгрейд.\n",
    "\n",
    "Учитывая, что цель нашего исследования  - прогнозирование, то дальнейшие выводы были сделаны исходя из актульного периоды, т.е. был сделан срез данных за 5 лет (2010-2015 гг.). Построи график по акутальному срезу были выявлены три потенциально прибыльных платформы - PlayStation 4 (год выпуска 2013), Xbox One (год выпуска 2013) и PC (персональный компьютер, стабильные продажи на протяжении всего исследуемого периода, не только актуального). \n",
    "\n",
    "Также в ходе исследовательского анализа данных была выявлена связь между оценками критиков и продажами игр: чем выше оценка, тем больше продажи. Анализируя данные ктуального периода было установлено, что самыми продаваемыми игровыми жанрами являются - Action, Shooter, Sports и Role-Playing. Наименее прибыльные жанры - Strategy и Puzzle.\n",
    "\n",
    "**Портреты пользователей** по региону:\n",
    "\n",
    "*Северная Америка:*\n",
    "\n",
    "Топ-5 платформ: X360, PS3, Wii, PS4, XOne\n",
    "\n",
    "Топ-5 игровых жанров: Action, Shooter, Sports, Misc, Role-Playing\n",
    "\n",
    "*Европа:*\n",
    "\n",
    "Топ-5 платформ: PS3, X360, PS4, Wii, PC\n",
    "\n",
    "Топ-5 игровых жанров: Action, Shooter, Sports, Role-Playing, Misc\n",
    "\n",
    "*Япония:*\n",
    "\n",
    "Топ-5 платформ: DS, PS3, PSP, DS, PSV\n",
    "\n",
    "Топ-5 игровых жанров: Role-Playing,\tAction, Misc, Platform, Sports\n",
    "\n",
    "Пользователи Северной Америки и Европы схожи как и популярным платформам, так и по популярным жанрам, но вот пользователи Японии отличаются от них. Во-первых пользователи Японии популярны платформы японских компаний, во-вторых большинстов популярных платорм портативные. По жанрам японцы тоже отличились: на первом месте \"ролевые игры\", нашлось в топ-5 даже платформерам. \n",
    "\n",
    "Рейтинг ESRB не влияет на продажи, т.к. ESRB - это северо-американское рейтинговое агентство, а в Европе и Японии есть свои рейтинговые агенства со своими метриками.\n",
    "\n",
    "**При проверке гипотез** выяснили, что:\n",
    "\n",
    "- Средние пользовательские рейтинги платформ Xbox One и PC не равны\n",
    "\n",
    "\n",
    "- Cредние пользовательские рейтинги жанров Action и Sports равны\n",
    "\n",
    "**Исходя из исследования можно сделать выводы, что рекламные компаниии надо делать с упором на PlayStation 4, Xbox One и PC c топовыми игровыми жанрами учитывая специфику региона продаж.**"
   ]
  }
 ],
 "metadata": {
  "kernelspec": {
   "display_name": "Python 3 (ipykernel)",
   "language": "python",
   "name": "python3"
  },
  "language_info": {
   "codemirror_mode": {
    "name": "ipython",
    "version": 3
   },
   "file_extension": ".py",
   "mimetype": "text/x-python",
   "name": "python",
   "nbconvert_exporter": "python",
   "pygments_lexer": "ipython3",
   "version": "3.9.12"
  },
  "toc": {
   "base_numbering": 1,
   "nav_menu": {},
   "number_sections": true,
   "sideBar": true,
   "skip_h1_title": true,
   "title_cell": "Table of Contents",
   "title_sidebar": "Contents",
   "toc_cell": true,
   "toc_position": {
    "height": "calc(100% - 180px)",
    "left": "10px",
    "top": "150px",
    "width": "219.352px"
   },
   "toc_section_display": true,
   "toc_window_display": true
  }
 },
 "nbformat": 4,
 "nbformat_minor": 5
}
