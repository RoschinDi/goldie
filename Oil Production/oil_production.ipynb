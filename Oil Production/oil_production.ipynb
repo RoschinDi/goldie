{
 "cells": [
  {
   "cell_type": "markdown",
   "id": "8bea20d2",
   "metadata": {
    "toc": true
   },
   "source": [
    "<h1>Table of Contents<span class=\"tocSkip\"></span></h1>\n",
    "<div class=\"toc\"><ul class=\"toc-item\"><li><span><a href=\"#Загрузка-и-подготовка-данных\" data-toc-modified-id=\"Загрузка-и-подготовка-данных-1\"><span class=\"toc-item-num\">1&nbsp;&nbsp;</span>Загрузка и подготовка данных</a></span></li><li><span><a href=\"#Обучение-и-проверка-модели\" data-toc-modified-id=\"Обучение-и-проверка-модели-2\"><span class=\"toc-item-num\">2&nbsp;&nbsp;</span>Обучение и проверка модели</a></span></li><li><span><a href=\"#Подготовка-к-расчёту-прибыли\" data-toc-modified-id=\"Подготовка-к-расчёту-прибыли-3\"><span class=\"toc-item-num\">3&nbsp;&nbsp;</span>Подготовка к расчёту прибыли</a></span></li><li><span><a href=\"#Расчёт-прибыли-и-рисков\" data-toc-modified-id=\"Расчёт-прибыли-и-рисков-4\"><span class=\"toc-item-num\">4&nbsp;&nbsp;</span>Расчёт прибыли и рисков</a></span></li></ul></div>"
   ]
  },
  {
   "cell_type": "markdown",
   "id": "cf8558d9",
   "metadata": {},
   "source": [
    "# Выбор локации для скважины"
   ]
  },
  {
   "cell_type": "markdown",
   "id": "2605eca3",
   "metadata": {},
   "source": [
    "Допустим, мы работаем в добывающей компании «ГлавРосГосНефть». Нужно решить, где бурить новую скважину.\n",
    "\n",
    "Нам предоставлены пробы нефти в трёх регионах: в каждом 10 000 месторождений, где измерили качество нефти и объём её запасов. Построим модель машинного обучения, которая поможет определить регион, где добыча принесёт наибольшую прибыль. Проанализируем возможную прибыль и риски техникой *Bootstrap.*\n",
    "\n",
    "Шаги для выбора локации:\n",
    "\n",
    "- В избранном регионе ищут месторождения, для каждого определяют значения признаков;\n",
    "- Строят модель и оценивают объём запасов;\n",
    "- Выбирают месторождения с самым высокими оценками значений. Количество месторождений зависит от бюджета компании и стоимости разработки одной скважины;\n",
    "- Прибыль равна суммарной прибыли отобранных месторождений.\n",
    "\n",
    "Обозначения:\n",
    "\n",
    "id — уникальный идентификатор скважины;\n",
    "\n",
    "f0, f1, f2 — три признака точек (неважно, что они означают, но сами признаки значимы);\n",
    "\n",
    "product — объём запасов в скважине (тыс. баррелей)."
   ]
  },
  {
   "cell_type": "markdown",
   "id": "58e03c6b",
   "metadata": {},
   "source": [
    "## Загрузка и подготовка данных"
   ]
  },
  {
   "cell_type": "code",
   "execution_count": 1,
   "id": "8034ca83",
   "metadata": {},
   "outputs": [],
   "source": [
    "#импортируем нужные нам библиотеки и инструменты\n",
    "import pandas as pd\n",
    "from sklearn.preprocessing import StandardScaler\n",
    "from sklearn.model_selection import train_test_split\n",
    "from sklearn.linear_model import LinearRegression\n",
    "from sklearn.metrics import mean_squared_error\n",
    "from numpy.random import RandomState\n",
    "from scipy import stats as st"
   ]
  },
  {
   "cell_type": "code",
   "execution_count": 2,
   "id": "2e1bda66",
   "metadata": {},
   "outputs": [],
   "source": [
    "#считываем датасеты\n",
    "df_1 = pd.read_csv('/datasets/geo_data_0.csv')\n",
    "df_2 = pd.read_csv('/datasets/geo_data_1.csv')\n",
    "df_3 = pd.read_csv('/datasets/geo_data_2.csv')"
   ]
  },
  {
   "cell_type": "code",
   "execution_count": 3,
   "id": "35db57ce",
   "metadata": {},
   "outputs": [
    {
     "name": "stdout",
     "output_type": "stream",
     "text": [
      "      id        f0        f1        f2     product\n",
      "0  txEyH  0.705745 -0.497823  1.221170  105.280062\n",
      "1  2acmU  1.334711 -0.340164  4.365080   73.037750\n",
      "2  409Wp  1.022732  0.151990  1.419926   85.265647\n",
      "3  iJLyR -0.032172  0.139033  2.978566  168.620776\n",
      "4  Xdl7t  1.988431  0.155413  4.751769  154.036647\n",
      "      id         f0         f1        f2     product\n",
      "0  kBEdx -15.001348  -8.276000 -0.005876    3.179103\n",
      "1  62mP7  14.272088  -3.475083  0.999183   26.953261\n",
      "2  vyE1P   6.263187  -5.948386  5.001160  134.766305\n",
      "3  KcrkZ -13.081196 -11.506057  4.999415  137.945408\n",
      "4  AHL4O  12.702195  -8.147433  5.004363  134.766305\n",
      "      id        f0        f1        f2     product\n",
      "0  fwXo0 -1.146987  0.963328 -0.828965   27.758673\n",
      "1  WJtFt  0.262778  0.269839 -2.530187   56.069697\n",
      "2  ovLUW  0.194587  0.289035 -5.586433   62.871910\n",
      "3  q6cA6  2.236060 -0.553760  0.930038  114.572842\n",
      "4  WPMUX -0.515993  1.716266  5.899011  149.600746\n"
     ]
    }
   ],
   "source": [
    "#создадим список с датасетами регионов\n",
    "regions = [df_1, df_2, df_3]\n",
    "\n",
    "#объявим константу\n",
    "RND = 12345\n",
    "state = RandomState(12345) \n",
    "\n",
    "#посмотрим на первые 5 строк датасетов\n",
    "for region in regions:\n",
    "    print(region.head())"
   ]
  },
  {
   "cell_type": "code",
   "execution_count": 4,
   "id": "4e76f9da",
   "metadata": {
    "scrolled": false
   },
   "outputs": [
    {
     "name": "stdout",
     "output_type": "stream",
     "text": [
      "<class 'pandas.core.frame.DataFrame'>\n",
      "RangeIndex: 100000 entries, 0 to 99999\n",
      "Data columns (total 5 columns):\n",
      " #   Column   Non-Null Count   Dtype  \n",
      "---  ------   --------------   -----  \n",
      " 0   id       100000 non-null  object \n",
      " 1   f0       100000 non-null  float64\n",
      " 2   f1       100000 non-null  float64\n",
      " 3   f2       100000 non-null  float64\n",
      " 4   product  100000 non-null  float64\n",
      "dtypes: float64(4), object(1)\n",
      "memory usage: 3.8+ MB\n",
      "None\n",
      "<class 'pandas.core.frame.DataFrame'>\n",
      "RangeIndex: 100000 entries, 0 to 99999\n",
      "Data columns (total 5 columns):\n",
      " #   Column   Non-Null Count   Dtype  \n",
      "---  ------   --------------   -----  \n",
      " 0   id       100000 non-null  object \n",
      " 1   f0       100000 non-null  float64\n",
      " 2   f1       100000 non-null  float64\n",
      " 3   f2       100000 non-null  float64\n",
      " 4   product  100000 non-null  float64\n",
      "dtypes: float64(4), object(1)\n",
      "memory usage: 3.8+ MB\n",
      "None\n",
      "<class 'pandas.core.frame.DataFrame'>\n",
      "RangeIndex: 100000 entries, 0 to 99999\n",
      "Data columns (total 5 columns):\n",
      " #   Column   Non-Null Count   Dtype  \n",
      "---  ------   --------------   -----  \n",
      " 0   id       100000 non-null  object \n",
      " 1   f0       100000 non-null  float64\n",
      " 2   f1       100000 non-null  float64\n",
      " 3   f2       100000 non-null  float64\n",
      " 4   product  100000 non-null  float64\n",
      "dtypes: float64(4), object(1)\n",
      "memory usage: 3.8+ MB\n",
      "None\n"
     ]
    }
   ],
   "source": [
    "#посмотрим общую информацию \n",
    "for region in regions:\n",
    "    print(region.info())"
   ]
  },
  {
   "cell_type": "markdown",
   "id": "a81de1c9",
   "metadata": {},
   "source": [
    "Ни в одном из датафреймов трех регионов нет пропусков. Посмотрим есть ли в датафреймах явные дубликаты."
   ]
  },
  {
   "cell_type": "code",
   "execution_count": 5,
   "id": "17dce1ab",
   "metadata": {
    "scrolled": true
   },
   "outputs": [
    {
     "name": "stdout",
     "output_type": "stream",
     "text": [
      "0\n",
      "0\n",
      "0\n"
     ]
    }
   ],
   "source": [
    "for region in regions:\n",
    "    print(region.duplicated().sum())"
   ]
  },
  {
   "cell_type": "markdown",
   "id": "7a406a89",
   "metadata": {},
   "source": [
    "Посмотрим на корреляцию параметров датафреймов"
   ]
  },
  {
   "cell_type": "code",
   "execution_count": 6,
   "id": "55093fa6",
   "metadata": {
    "scrolled": true
   },
   "outputs": [
    {
     "name": "stdout",
     "output_type": "stream",
     "text": [
      "               f0        f1        f2   product\n",
      "f0       1.000000 -0.440723 -0.003153  0.143536\n",
      "f1      -0.440723  1.000000  0.001724 -0.192356\n",
      "f2      -0.003153  0.001724  1.000000  0.483663\n",
      "product  0.143536 -0.192356  0.483663  1.000000\n",
      "               f0        f1        f2   product\n",
      "f0       1.000000  0.182287 -0.001777 -0.030491\n",
      "f1       0.182287  1.000000 -0.002595 -0.010155\n",
      "f2      -0.001777 -0.002595  1.000000  0.999397\n",
      "product -0.030491 -0.010155  0.999397  1.000000\n",
      "               f0        f1        f2   product\n",
      "f0       1.000000  0.000528 -0.000448 -0.001987\n",
      "f1       0.000528  1.000000  0.000779 -0.001012\n",
      "f2      -0.000448  0.000779  1.000000  0.445871\n",
      "product -0.001987 -0.001012  0.445871  1.000000\n"
     ]
    }
   ],
   "source": [
    "for region in regions:\n",
    "    print(region.corr())"
   ]
  },
  {
   "cell_type": "markdown",
   "id": "625be190",
   "metadata": {},
   "source": [
    "Во втором датафрейме замечена сильная связь между признаком f2 и целевым признаком. В остальных датайфреймах связь между этими признаками тоже выражена, но не так сильно, как во втором. Также в первом датафрейме есть слабая отрицательная корреляция между  признаками f1 и f0."
   ]
  },
  {
   "cell_type": "markdown",
   "id": "6a8e9df7",
   "metadata": {},
   "source": [
    "## Обучение и проверка модели"
   ]
  },
  {
   "cell_type": "markdown",
   "id": "c8a46726",
   "metadata": {},
   "source": [
    "Напишем функцию по разделению на обучающую и валидационную выборки, обучению модели линейной регрессии и формированию предсказаний"
   ]
  },
  {
   "cell_type": "code",
   "execution_count": 7,
   "id": "80420bb0",
   "metadata": {},
   "outputs": [],
   "source": [
    "def predict(region):\n",
    "    features = region.drop(['id', 'product'], axis=1)\n",
    "    target = region['product']\n",
    "    features_train, features_valid, target_train, target_valid = train_test_split(\n",
    "    features, target, test_size=0.25, random_state=RND) \n",
    "    model = LinearRegression()\n",
    "    model.fit(features_train, target_train)\n",
    "    return (model.predict(features_valid), target_valid)"
   ]
  },
  {
   "cell_type": "markdown",
   "id": "2e307073",
   "metadata": {},
   "source": [
    "Сохраним предсказания и правильные ответы на валидационной выборке"
   ]
  },
  {
   "cell_type": "code",
   "execution_count": 8,
   "id": "ba17788a",
   "metadata": {},
   "outputs": [],
   "source": [
    "predictions_1, target_valid_1 = predict(df_1)\n",
    "predictions_2, target_valid_2 = predict(df_2)\n",
    "predictions_3, target_valid_3 = predict(df_3)"
   ]
  },
  {
   "cell_type": "markdown",
   "id": "ac68d3f4",
   "metadata": {},
   "source": [
    "Выведем RMSE и средний запас предсказанного сырья по каждому региону"
   ]
  },
  {
   "cell_type": "code",
   "execution_count": 9,
   "id": "7a5283d4",
   "metadata": {
    "scrolled": true
   },
   "outputs": [
    {
     "name": "stdout",
     "output_type": "stream",
     "text": [
      "1ый регион: RMSE 37.58 , средний запас предсказанного сырья 92.59\n",
      "2ой регион: RMSE 0.89 , средний запас предсказанного сырья 68.73\n",
      "3ий регион: RMSE 40.03 , средний запас предсказанного сырья 94.97\n"
     ]
    }
   ],
   "source": [
    "print('1ый регион: RMSE {:.2f}'.format(mean_squared_error(predictions_1, target_valid_1) ** 0.5), \\\n",
    "      ', средний запас предсказанного сырья {:.2f}'.format(predictions_1.mean()))\n",
    "print('2ой регион: RMSE {:.2f}'.format(mean_squared_error(predictions_2, target_valid_2) ** 0.5), \\\n",
    "      ', средний запас предсказанного сырья {:.2f}'.format(predictions_2.mean()))\n",
    "print('3ий регион: RMSE {:.2f}'.format(mean_squared_error(predictions_3, target_valid_3) ** 0.5), \\\n",
    "      ', средний запас предсказанного сырья {:.2f}'.format(predictions_3.mean()))"
   ]
  },
  {
   "cell_type": "markdown",
   "id": "bee17f1e",
   "metadata": {},
   "source": [
    "У первого и третьего региона значения RMSE достаточно большие и почти одинаковые, а вот значение RMSE второго региона меньше 1. Исходя из этого делаем вывод, что модель линейной регресии лучше обучилась на предоставленных данных второго региона."
   ]
  },
  {
   "cell_type": "markdown",
   "id": "82d62aa5",
   "metadata": {},
   "source": [
    "## Подготовка к расчёту прибыли"
   ]
  },
  {
   "cell_type": "markdown",
   "id": "5147d00c",
   "metadata": {},
   "source": [
    "Создаем константы ключевых значений"
   ]
  },
  {
   "cell_type": "code",
   "execution_count": 10,
   "id": "441c794a",
   "metadata": {},
   "outputs": [],
   "source": [
    "BEST_WELLS = 200\n",
    "BUDGET = 10 ** 10\n",
    "PRICE_1K_BARREL = 450 * 10 ** 3"
   ]
  },
  {
   "cell_type": "markdown",
   "id": "cd09a6df",
   "metadata": {},
   "source": [
    "Рассчитаем достаточный объём сырья для безубыточной разработки новой скважины"
   ]
  },
  {
   "cell_type": "code",
   "execution_count": 11,
   "id": "22bd75c4",
   "metadata": {},
   "outputs": [
    {
     "data": {
      "text/plain": [
       "111.11111111111111"
      ]
     },
     "execution_count": 11,
     "metadata": {},
     "output_type": "execute_result"
    }
   ],
   "source": [
    "min_value = BUDGET / BEST_WELLS / PRICE_1K_BARREL\n",
    "min_value"
   ]
  },
  {
   "cell_type": "markdown",
   "id": "57db89b5",
   "metadata": {},
   "source": [
    "Сравним полученный объём сырья со средним запасом в каждом регионе"
   ]
  },
  {
   "cell_type": "code",
   "execution_count": 12,
   "id": "72f0b433",
   "metadata": {
    "scrolled": true
   },
   "outputs": [
    {
     "name": "stdout",
     "output_type": "stream",
     "text": [
      "Разработка в регионе будет убыточной\n",
      "Разработка в регионе будет убыточной\n",
      "Разработка в регионе будет убыточной\n"
     ]
    }
   ],
   "source": [
    "for region in regions:\n",
    "    if min_value < region['product'].mean():\n",
    "        print('Разработка в регионе будет прибыльной')\n",
    "    else:\n",
    "        print('Разработка в регионе будет убыточной')"
   ]
  },
  {
   "cell_type": "markdown",
   "id": "bf65ef99",
   "metadata": {},
   "source": [
    "Исходя из этого получается, что в любом регионе разработка месторождений будет убыточной"
   ]
  },
  {
   "cell_type": "markdown",
   "id": "cf769707",
   "metadata": {},
   "source": [
    "Создадим функцию для подсчета прибыли"
   ]
  },
  {
   "cell_type": "code",
   "execution_count": 13,
   "id": "8b542720",
   "metadata": {},
   "outputs": [],
   "source": [
    "def revenue(predictions, target):\n",
    "    predictions_sorted = pd.Series(predictions).reset_index(drop=True).sort_values(ascending=False)\n",
    "    best_predictions_wells = predictions_sorted[:BEST_WELLS]\n",
    "    sum_target = pd.Series(target).reset_index(drop=True)[best_predictions_wells.index].sum()\n",
    "    revenue = (sum_target * PRICE_1K_BARREL - BUDGET) / 1000000000\n",
    "    return revenue"
   ]
  },
  {
   "cell_type": "markdown",
   "id": "a36f0a67",
   "metadata": {},
   "source": [
    "Выведем прибыль для полученного объёма сырья для каждого региона"
   ]
  },
  {
   "cell_type": "code",
   "execution_count": 14,
   "id": "f4bba6ce",
   "metadata": {
    "scrolled": false
   },
   "outputs": [
    {
     "name": "stdout",
     "output_type": "stream",
     "text": [
      "Прибыль для полученного объёма сырья 1 региона 3.32 млрд\n",
      "Прибыль для полученного объёма сырья 2 региона 2.42 млрд\n",
      "Прибыль для полученного объёма сырья 3 региона 2.71 млрд\n"
     ]
    }
   ],
   "source": [
    "print('Прибыль для полученного объёма сырья 1 региона {:.2f} млрд'.format(revenue(predictions_1, target_valid_1)))\n",
    "print('Прибыль для полученного объёма сырья 2 региона {:.2f} млрд'.format(revenue(predictions_2, target_valid_2)))\n",
    "print('Прибыль для полученного объёма сырья 3 региона {:.2f} млрд'.format(revenue(predictions_3, target_valid_3)))"
   ]
  },
  {
   "cell_type": "markdown",
   "id": "4dc9c152",
   "metadata": {},
   "source": [
    "По данным подсчетам самым прибыльным получился 1ый регион"
   ]
  },
  {
   "cell_type": "code",
   "execution_count": 15,
   "id": "37e06ed4",
   "metadata": {},
   "outputs": [
    {
     "data": {
      "text/plain": [
       "71751     10.038645\n",
       "80493    114.551489\n",
       "2655     132.603635\n",
       "53233    169.072125\n",
       "91141    122.325180\n",
       "            ...    \n",
       "12581    170.116726\n",
       "18456     93.632175\n",
       "73035    127.352259\n",
       "63834     99.782700\n",
       "43558    177.821022\n",
       "Name: product, Length: 25000, dtype: float64"
      ]
     },
     "execution_count": 15,
     "metadata": {},
     "output_type": "execute_result"
    }
   ],
   "source": [
    "target_valid_1"
   ]
  },
  {
   "cell_type": "markdown",
   "id": "a050aa30",
   "metadata": {},
   "source": [
    "## Расчёт прибыли и рисков "
   ]
  },
  {
   "cell_type": "markdown",
   "id": "8f2ed1a8",
   "metadata": {},
   "source": [
    "Напишем функцию с бутстрэпом в 1000 выборок, которая будет возвращать среднюю прибыль, 95%-й доверительный интервал и риск убытков по каждому региону"
   ]
  },
  {
   "cell_type": "code",
   "execution_count": 16,
   "id": "379001ef",
   "metadata": {},
   "outputs": [],
   "source": [
    "def bootstrap(target, predictions):\n",
    "    values = []\n",
    "    for i in range(1000):\n",
    "        target_subsample = pd.Series(target).reset_index(drop=True).sample(n=500, replace=True, random_state=state)\n",
    "        pred_subsample = predictions[target_subsample.index] \n",
    "        values.append(revenue(pred_subsample, target_subsample))        \n",
    "    values = pd.Series(values)\n",
    "    lower = values.quantile(0.025)\n",
    "    upper = values.quantile(0.975)\n",
    "    mean = values.mean()\n",
    "    risk = st.percentileofscore(values, 0)\n",
    "    return mean, lower, upper, risk"
   ]
  },
  {
   "cell_type": "markdown",
   "id": "6681d91d",
   "metadata": {},
   "source": [
    "Применим данную функцию"
   ]
  },
  {
   "cell_type": "code",
   "execution_count": 17,
   "id": "ab646950",
   "metadata": {},
   "outputs": [
    {
     "name": "stdout",
     "output_type": "stream",
     "text": [
      "Информация по 1ому региону: Средняя прибыль: 0.40, Доверительный интервал: [-0.11, 0.91], Риск: 6.90%\n",
      "Информация по 2ому региону: Средняя прибыль: 0.46, Доверительный интервал: [0.08, 0.86], Риск: 0.70%\n",
      "Информация по 3ему региону: Средняя прибыль: 0.39, Доверительный интервал: [-0.11, 0.93], Риск: 6.50%\n"
     ]
    }
   ],
   "source": [
    "print('Информация по 1ому региону: Средняя прибыль: {:.2f}, \\\n",
    "Доверительный интервал: [{:.2f}, {:.2f}], Риск: {:.2f}%'.format(*bootstrap(target_valid_1, predictions_1)))\n",
    "print('Информация по 2ому региону: Средняя прибыль: {:.2f}, \\\n",
    "Доверительный интервал: [{:.2f}, {:.2f}], Риск: {:.2f}%'.format(*bootstrap(target_valid_2, predictions_2)))\n",
    "print('Информация по 3ему региону: Средняя прибыль: {:.2f}, \\\n",
    "Доверительный интервал: [{:.2f}, {:.2f}], Риск: {:.2f}%'.format(*bootstrap(target_valid_3, predictions_3)))"
   ]
  },
  {
   "cell_type": "markdown",
   "id": "dd7d1b58",
   "metadata": {},
   "source": [
    "Вывод: многообещающим для разработки месторождений представляется 2ой регион поскольку риск убытка среди рассматриваемых регионов наименьший, а средняя прибыль - наибольшая"
   ]
  }
 ],
 "metadata": {
  "kernelspec": {
   "display_name": "Python 3 (ipykernel)",
   "language": "python",
   "name": "python3"
  },
  "language_info": {
   "codemirror_mode": {
    "name": "ipython",
    "version": 3
   },
   "file_extension": ".py",
   "mimetype": "text/x-python",
   "name": "python",
   "nbconvert_exporter": "python",
   "pygments_lexer": "ipython3",
   "version": "3.9.12"
  },
  "toc": {
   "base_numbering": 1,
   "nav_menu": {},
   "number_sections": true,
   "sideBar": true,
   "skip_h1_title": true,
   "title_cell": "Table of Contents",
   "title_sidebar": "Contents",
   "toc_cell": true,
   "toc_position": {},
   "toc_section_display": true,
   "toc_window_display": false
  }
 },
 "nbformat": 4,
 "nbformat_minor": 5
}
