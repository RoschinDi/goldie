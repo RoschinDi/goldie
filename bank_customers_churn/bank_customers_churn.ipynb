{
 "cells": [
  {
   "cell_type": "markdown",
   "id": "e59fdbf8",
   "metadata": {},
   "source": [
    "# Рекомендация тарифов"
   ]
  },
  {
   "cell_type": "markdown",
   "id": "c1c17e01",
   "metadata": {},
   "source": [
    "В вашем распоряжении данные о поведении клиентов, которые уже перешли на эти тарифы (из проекта курса «Статистический анализ данных»). Нужно построить модель для задачи классификации, которая выберет подходящий тариф. Предобработка данных не понадобится — вы её уже сделали.\n",
    "\n",
    "Постройте модель с максимально большим значением *accuracy*. Чтобы сдать проект успешно, нужно довести долю правильных ответов по крайней мере до 0.75. Проверьте *accuracy* на тестовой выборке самостоятельно."
   ]
  },
  {
   "cell_type": "markdown",
   "id": "be25b526",
   "metadata": {},
   "source": [
    "## Откройте и изучите файл"
   ]
  },
  {
   "cell_type": "code",
   "execution_count": 1,
   "id": "7f5a554c",
   "metadata": {
    "scrolled": false
   },
   "outputs": [],
   "source": [
    "#импортируем нужные нам библиотеки и алгоритмы\n",
    "import pandas as pd\n",
    "from sklearn.model_selection import train_test_split\n",
    "from sklearn.tree import DecisionTreeClassifier \n",
    "from sklearn.metrics import accuracy_score\n",
    "from sklearn.ensemble import RandomForestClassifier\n",
    "from sklearn.linear_model import LogisticRegression \n",
    "from sklearn.dummy import DummyClassifier"
   ]
  },
  {
   "cell_type": "code",
   "execution_count": 2,
   "id": "92944e4b",
   "metadata": {},
   "outputs": [
    {
     "data": {
      "text/html": [
       "<div>\n",
       "<style scoped>\n",
       "    .dataframe tbody tr th:only-of-type {\n",
       "        vertical-align: middle;\n",
       "    }\n",
       "\n",
       "    .dataframe tbody tr th {\n",
       "        vertical-align: top;\n",
       "    }\n",
       "\n",
       "    .dataframe thead th {\n",
       "        text-align: right;\n",
       "    }\n",
       "</style>\n",
       "<table border=\"1\" class=\"dataframe\">\n",
       "  <thead>\n",
       "    <tr style=\"text-align: right;\">\n",
       "      <th></th>\n",
       "      <th>calls</th>\n",
       "      <th>minutes</th>\n",
       "      <th>messages</th>\n",
       "      <th>mb_used</th>\n",
       "      <th>is_ultra</th>\n",
       "    </tr>\n",
       "  </thead>\n",
       "  <tbody>\n",
       "    <tr>\n",
       "      <th>0</th>\n",
       "      <td>40.0</td>\n",
       "      <td>311.90</td>\n",
       "      <td>83.0</td>\n",
       "      <td>19915.42</td>\n",
       "      <td>0</td>\n",
       "    </tr>\n",
       "    <tr>\n",
       "      <th>1</th>\n",
       "      <td>85.0</td>\n",
       "      <td>516.75</td>\n",
       "      <td>56.0</td>\n",
       "      <td>22696.96</td>\n",
       "      <td>0</td>\n",
       "    </tr>\n",
       "    <tr>\n",
       "      <th>2</th>\n",
       "      <td>77.0</td>\n",
       "      <td>467.66</td>\n",
       "      <td>86.0</td>\n",
       "      <td>21060.45</td>\n",
       "      <td>0</td>\n",
       "    </tr>\n",
       "    <tr>\n",
       "      <th>3</th>\n",
       "      <td>106.0</td>\n",
       "      <td>745.53</td>\n",
       "      <td>81.0</td>\n",
       "      <td>8437.39</td>\n",
       "      <td>1</td>\n",
       "    </tr>\n",
       "    <tr>\n",
       "      <th>4</th>\n",
       "      <td>66.0</td>\n",
       "      <td>418.74</td>\n",
       "      <td>1.0</td>\n",
       "      <td>14502.75</td>\n",
       "      <td>0</td>\n",
       "    </tr>\n",
       "    <tr>\n",
       "      <th>5</th>\n",
       "      <td>58.0</td>\n",
       "      <td>344.56</td>\n",
       "      <td>21.0</td>\n",
       "      <td>15823.37</td>\n",
       "      <td>0</td>\n",
       "    </tr>\n",
       "    <tr>\n",
       "      <th>6</th>\n",
       "      <td>57.0</td>\n",
       "      <td>431.64</td>\n",
       "      <td>20.0</td>\n",
       "      <td>3738.90</td>\n",
       "      <td>1</td>\n",
       "    </tr>\n",
       "    <tr>\n",
       "      <th>7</th>\n",
       "      <td>15.0</td>\n",
       "      <td>132.40</td>\n",
       "      <td>6.0</td>\n",
       "      <td>21911.60</td>\n",
       "      <td>0</td>\n",
       "    </tr>\n",
       "    <tr>\n",
       "      <th>8</th>\n",
       "      <td>7.0</td>\n",
       "      <td>43.39</td>\n",
       "      <td>3.0</td>\n",
       "      <td>2538.67</td>\n",
       "      <td>1</td>\n",
       "    </tr>\n",
       "    <tr>\n",
       "      <th>9</th>\n",
       "      <td>90.0</td>\n",
       "      <td>665.41</td>\n",
       "      <td>38.0</td>\n",
       "      <td>17358.61</td>\n",
       "      <td>0</td>\n",
       "    </tr>\n",
       "  </tbody>\n",
       "</table>\n",
       "</div>"
      ],
      "text/plain": [
       "   calls  minutes  messages   mb_used  is_ultra\n",
       "0   40.0   311.90      83.0  19915.42         0\n",
       "1   85.0   516.75      56.0  22696.96         0\n",
       "2   77.0   467.66      86.0  21060.45         0\n",
       "3  106.0   745.53      81.0   8437.39         1\n",
       "4   66.0   418.74       1.0  14502.75         0\n",
       "5   58.0   344.56      21.0  15823.37         0\n",
       "6   57.0   431.64      20.0   3738.90         1\n",
       "7   15.0   132.40       6.0  21911.60         0\n",
       "8    7.0    43.39       3.0   2538.67         1\n",
       "9   90.0   665.41      38.0  17358.61         0"
      ]
     },
     "execution_count": 2,
     "metadata": {},
     "output_type": "execute_result"
    }
   ],
   "source": [
    "#считываем датасет\n",
    "df = pd.read_csv('/datasets/users_behavior.csv')\n",
    "\n",
    "#выведем первые 10 строк датафрейма\n",
    "df.head(10)"
   ]
  },
  {
   "cell_type": "code",
   "execution_count": 3,
   "id": "33db9205",
   "metadata": {
    "scrolled": true
   },
   "outputs": [
    {
     "name": "stdout",
     "output_type": "stream",
     "text": [
      "<class 'pandas.core.frame.DataFrame'>\n",
      "RangeIndex: 3214 entries, 0 to 3213\n",
      "Data columns (total 5 columns):\n",
      " #   Column    Non-Null Count  Dtype  \n",
      "---  ------    --------------  -----  \n",
      " 0   calls     3214 non-null   float64\n",
      " 1   minutes   3214 non-null   float64\n",
      " 2   messages  3214 non-null   float64\n",
      " 3   mb_used   3214 non-null   float64\n",
      " 4   is_ultra  3214 non-null   int64  \n",
      "dtypes: float64(4), int64(1)\n",
      "memory usage: 125.7 KB\n"
     ]
    }
   ],
   "source": [
    "#просмотрим общую информацию о датафрейме\n",
    "df.info()"
   ]
  },
  {
   "cell_type": "markdown",
   "id": "5181a583",
   "metadata": {},
   "source": [
    "Всего 3214 строк и 5 столбцов. Названия столбцов корректны. Пропусков нет. Типы данных соответствуют. Дубликаты искать не будем, т.к. все значения числовые. Предобработка не требуется."
   ]
  },
  {
   "cell_type": "markdown",
   "id": "151db04c",
   "metadata": {},
   "source": [
    "## Разбейте данные на выборки"
   ]
  },
  {
   "cell_type": "markdown",
   "id": "41296127",
   "metadata": {},
   "source": [
    "Данные нужно разбить на три части: обучающую, валидационную и тестовую. Размеры тестового и валидационного наборов обычно равны. Исходные данные разобьем в соотношении 3:1:1. "
   ]
  },
  {
   "cell_type": "code",
   "execution_count": 4,
   "id": "55d4c8ed",
   "metadata": {
    "scrolled": true
   },
   "outputs": [
    {
     "data": {
      "text/plain": [
       "(1928, 5)"
      ]
     },
     "metadata": {},
     "output_type": "display_data"
    },
    {
     "data": {
      "text/plain": [
       "(643, 5)"
      ]
     },
     "metadata": {},
     "output_type": "display_data"
    },
    {
     "data": {
      "text/plain": [
       "(643, 5)"
      ]
     },
     "metadata": {},
     "output_type": "display_data"
    }
   ],
   "source": [
    "#сначала разобьем исходные данные на 2 группы, отделив обучающие данные от тестовых + валидационных\n",
    "df_train, df_test_valid = train_test_split(df, test_size=0.40, random_state=12345)\n",
    "\n",
    "#затем разобьем вторую группу пополам: одни данные будут валидационными, другие - тестовыми \n",
    "df_valid, df_test = train_test_split(df_test_valid, test_size=0.50, random_state=12345)\n",
    "\n",
    "#проверим\n",
    "display(df_train.shape)\n",
    "display(df_valid.shape)\n",
    "display(df_test.shape)"
   ]
  },
  {
   "cell_type": "markdown",
   "id": "c6b10ec0",
   "metadata": {},
   "source": [
    "## Исследуйте модели"
   ]
  },
  {
   "cell_type": "code",
   "execution_count": 5,
   "id": "8add9b63",
   "metadata": {},
   "outputs": [],
   "source": [
    "#выделим признаки и целевой признак из обучающей выборки\n",
    "train_features = df_train.drop('is_ultra', 1)\n",
    "train_target = df_train['is_ultra']\n",
    "\n",
    "#выделим признаки и целевой признак из валидационной выборки\n",
    "valid_features = df_valid.drop('is_ultra', 1)\n",
    "valid_target = df_valid['is_ultra']"
   ]
  },
  {
   "cell_type": "markdown",
   "id": "95812c85",
   "metadata": {},
   "source": [
    "**Дерево решений**"
   ]
  },
  {
   "cell_type": "markdown",
   "id": "99efb88f",
   "metadata": {},
   "source": [
    "Начнем с алгоритма \"дерево решений\""
   ]
  },
  {
   "cell_type": "code",
   "execution_count": 6,
   "id": "e0ba6bad",
   "metadata": {
    "scrolled": true
   },
   "outputs": [
    {
     "data": {
      "text/plain": [
       "0.713841368584759"
      ]
     },
     "execution_count": 6,
     "metadata": {},
     "output_type": "execute_result"
    }
   ],
   "source": [
    "#создаем объект\n",
    "model_dtc = DecisionTreeClassifier(random_state=12345)\n",
    "\n",
    "#обучаем модель\n",
    "model_dtc.fit(train_features, train_target)\n",
    "\n",
    "#получаем предсказание\n",
    "valid_predictions_dtc = model_dtc.predict(valid_features)\n",
    "\n",
    "#считаем метрику\n",
    "valid_accuracy_dtc = accuracy_score(valid_target, valid_predictions_dtc)\n",
    "valid_accuracy_dtc"
   ]
  },
  {
   "cell_type": "markdown",
   "id": "6a4254ad",
   "metadata": {},
   "source": [
    "Попробуем улучшить. Найдем оптимальную глубину дерева, например, из 100, которая дает лучшее значение `accuracy`."
   ]
  },
  {
   "cell_type": "code",
   "execution_count": 7,
   "id": "7030c5a9",
   "metadata": {
    "scrolled": true
   },
   "outputs": [
    {
     "name": "stdout",
     "output_type": "stream",
     "text": [
      "Лучшая accuracy 0.7853810264385692 при глубине 3\n"
     ]
    }
   ],
   "source": [
    "#счетчик на лучшую глубину\n",
    "best_max_depth = 0\n",
    "\n",
    "#счетчик на лучшую accuracy\n",
    "best_max_depth_accuracy = 0\n",
    "\n",
    "#переберем каждое значение глубины от 1 до 100\n",
    "for i in range(1,101):\n",
    "    model_dtc1 = DecisionTreeClassifier(random_state=12345, max_depth=i)\n",
    "    model_dtc1.fit(train_features, train_target)\n",
    "    valid_predictions_dtc1 = model_dtc1.predict(valid_features)\n",
    "    valid_accuracy_dtc1 = accuracy_score(valid_target, valid_predictions_dtc1)\n",
    "    if valid_accuracy_dtc1 > best_max_depth_accuracy:\n",
    "        best_max_depth = i\n",
    "        best_max_depth_accuracy = valid_accuracy_dtc1\n",
    "\n",
    "print('Лучшая accuracy', best_max_depth_accuracy, 'при глубине', best_max_depth)"
   ]
  },
  {
   "cell_type": "code",
   "execution_count": 8,
   "id": "451e6060",
   "metadata": {},
   "outputs": [
    {
     "data": {
      "text/plain": [
       "DecisionTreeClassifier(max_depth=3, random_state=12345)"
      ]
     },
     "execution_count": 8,
     "metadata": {},
     "output_type": "execute_result"
    }
   ],
   "source": [
    "model_dtc1 = DecisionTreeClassifier(random_state=12345, max_depth=3)\n",
    "model_dtc1.fit(train_features, train_target)"
   ]
  },
  {
   "cell_type": "code",
   "execution_count": 9,
   "id": "10787b4d",
   "metadata": {},
   "outputs": [
    {
     "data": {
      "text/plain": [
       "24"
      ]
     },
     "execution_count": 9,
     "metadata": {},
     "output_type": "execute_result"
    }
   ],
   "source": [
    "# код ревьюера, смотрим глубину дерева, которое обучалось без ограничений\n",
    "\n",
    "model_dtc.get_depth()"
   ]
  },
  {
   "cell_type": "markdown",
   "id": "e336bb1c",
   "metadata": {},
   "source": [
    "Попробуем при лучшей глубине дерева = 3 поменять гиперпараметр `splitter` на `random`"
   ]
  },
  {
   "cell_type": "code",
   "execution_count": 10,
   "id": "c536f4e9",
   "metadata": {},
   "outputs": [
    {
     "data": {
      "text/plain": [
       "0.7387247278382582"
      ]
     },
     "execution_count": 10,
     "metadata": {},
     "output_type": "execute_result"
    }
   ],
   "source": [
    "#создаем объект\n",
    "model_dtc2 = DecisionTreeClassifier(random_state=12345, max_depth=3, splitter='random')\n",
    "\n",
    "#обучаем модель\n",
    "model_dtc2.fit(train_features, train_target)\n",
    "\n",
    "#предсказание\n",
    "valid_predictions_dtc2 = model_dtc2.predict(valid_features)\n",
    "\n",
    "#считаем метрику \n",
    "valid_accuracy_dtc2 = accuracy_score(valid_target, valid_predictions_dtc2)\n",
    "valid_accuracy_dtc2"
   ]
  },
  {
   "cell_type": "markdown",
   "id": "adec26bd",
   "metadata": {},
   "source": [
    "Значение `accuracy` подуменьшилось. Оставим гиперпараметр `splitter` как есть. Попробуем поменять гиперпараметр `criterion` с `gini` на `entropy`"
   ]
  },
  {
   "cell_type": "code",
   "execution_count": 11,
   "id": "9ee003b5",
   "metadata": {},
   "outputs": [
    {
     "data": {
      "text/plain": [
       "0.7853810264385692"
      ]
     },
     "execution_count": 11,
     "metadata": {},
     "output_type": "execute_result"
    }
   ],
   "source": [
    "#создаем объект\n",
    "model_dtc3 = DecisionTreeClassifier(random_state=12345, max_depth=3, criterion='entropy')\n",
    "\n",
    "#обучаем модель\n",
    "model_dtc3.fit(train_features, train_target)\n",
    "\n",
    "#предсказание\n",
    "valid_predictions_dtc3 = model_dtc3.predict(valid_features)\n",
    "\n",
    "#считаем метрику\n",
    "valid_accuracy_dtc3 = accuracy_score(valid_target, valid_predictions_dtc3)\n",
    "valid_accuracy_dtc3"
   ]
  },
  {
   "cell_type": "markdown",
   "id": "5cdd0a73",
   "metadata": {},
   "source": [
    "Что меняй критерий, что не меняй: изменений никаких. Остановимся на модели с гиперпараметром `criterion` = `gini` и гиперпараметром `splitter` = `best`,  и глубиной дерева = 3."
   ]
  },
  {
   "cell_type": "markdown",
   "id": "f4b3bff1",
   "metadata": {},
   "source": [
    "**Случайный лес**"
   ]
  },
  {
   "cell_type": "markdown",
   "id": "f4c23e88",
   "metadata": {},
   "source": [
    "Попробуем алгоритм \"случайный лес\""
   ]
  },
  {
   "cell_type": "code",
   "execution_count": 12,
   "id": "32b61299",
   "metadata": {
    "scrolled": true
   },
   "outputs": [
    {
     "data": {
      "text/plain": [
       "0.7853810264385692"
      ]
     },
     "execution_count": 12,
     "metadata": {},
     "output_type": "execute_result"
    }
   ],
   "source": [
    "#создаем объект\n",
    "model_rfc = RandomForestClassifier(random_state=12345)\n",
    "\n",
    "#обучаем модель\n",
    "model_rfc.fit(train_features, train_target)\n",
    "\n",
    "#предсказание\n",
    "valid_predictions_rfc = model_rfc.predict(valid_features)\n",
    "\n",
    "#считаем метрику\n",
    "valid_accuracy_rfc = accuracy_score(valid_target, valid_predictions_rfc)\n",
    "valid_accuracy_rfc"
   ]
  },
  {
   "cell_type": "markdown",
   "id": "07dc6cb1",
   "metadata": {},
   "source": [
    "Значение такое же, как и у последнего варианта \"дерева решений\". Попробуем улучшить. Найдем оптимальное кол-во деревьев, например, из 200, которое дает лучшее значение `accuracy`."
   ]
  },
  {
   "cell_type": "code",
   "execution_count": 13,
   "id": "cb883a06",
   "metadata": {},
   "outputs": [
    {
     "name": "stdout",
     "output_type": "stream",
     "text": [
      "Лучшая accuracy 0.7947122861586314 при количестве 23\n"
     ]
    }
   ],
   "source": [
    "best_max_est = 0\n",
    "best_max_est_accuracy = 0\n",
    "\n",
    "for est in range(1,201):\n",
    "    model_rfc1 = RandomForestClassifier(random_state=12345, n_estimators=est)\n",
    "    model_rfc1.fit(train_features, train_target)\n",
    "    valid_predictions_rfc1 = model_rfc1.predict(valid_features)\n",
    "    valid_accuracy_rfc1 = accuracy_score(valid_target, valid_predictions_rfc1)\n",
    "    if valid_accuracy_rfc1 > best_max_est_accuracy:\n",
    "        best_max_est = est\n",
    "        best_max_est_accuracy = valid_accuracy_rfc1\n",
    "\n",
    "print('Лучшая accuracy', best_max_est_accuracy, 'при количестве', best_max_est)"
   ]
  },
  {
   "cell_type": "code",
   "execution_count": 14,
   "id": "48339858",
   "metadata": {},
   "outputs": [
    {
     "data": {
      "text/plain": [
       "RandomForestClassifier(n_estimators=23, random_state=12345)"
      ]
     },
     "execution_count": 14,
     "metadata": {},
     "output_type": "execute_result"
    }
   ],
   "source": [
    "model_rfc1 = RandomForestClassifier(random_state=12345, n_estimators=23)\n",
    "model_rfc1.fit(train_features, train_target)"
   ]
  },
  {
   "cell_type": "markdown",
   "id": "dc192774",
   "metadata": {},
   "source": [
    "Попробуем поменять гиперпараметр `criterion` с `gini` на `entropy`"
   ]
  },
  {
   "cell_type": "code",
   "execution_count": 15,
   "id": "b8421f42",
   "metadata": {},
   "outputs": [
    {
     "data": {
      "text/plain": [
       "0.7838258164852255"
      ]
     },
     "execution_count": 15,
     "metadata": {},
     "output_type": "execute_result"
    }
   ],
   "source": [
    "#создаем объект\n",
    "model_rfc2 = RandomForestClassifier(random_state=12345, n_estimators=23, criterion='entropy')\n",
    "\n",
    "#обучаем модель\n",
    "model_rfc2.fit(train_features, train_target)\n",
    "\n",
    "#предсказание\n",
    "valid_predictions_rfc2 = model_rfc2.predict(valid_features)\n",
    "\n",
    "#считаем метрику\n",
    "valid_accuracy_rfc2 = accuracy_score(valid_target, valid_predictions_rfc2)\n",
    "valid_accuracy_rfc2"
   ]
  },
  {
   "cell_type": "markdown",
   "id": "30209025",
   "metadata": {},
   "source": [
    "Остановимся на модели с гиперпараметром `criterion` = `gini` и количеством деревьев = 23"
   ]
  },
  {
   "cell_type": "markdown",
   "id": "5759f00d",
   "metadata": {},
   "source": [
    "**Логистическая регрессия**"
   ]
  },
  {
   "cell_type": "markdown",
   "id": "592df6c0",
   "metadata": {},
   "source": [
    "Попробуем логистическую регрессию"
   ]
  },
  {
   "cell_type": "code",
   "execution_count": 16,
   "id": "6acc8bcf",
   "metadata": {},
   "outputs": [
    {
     "data": {
      "text/plain": [
       "0.7107309486780715"
      ]
     },
     "execution_count": 16,
     "metadata": {},
     "output_type": "execute_result"
    }
   ],
   "source": [
    "#создаем объект\n",
    "model_lr = LogisticRegression(random_state=12345, solver='lbfgs', max_iter=1000)\n",
    "\n",
    "#обучаем модель\n",
    "model_lr.fit(train_features, train_target)\n",
    "\n",
    "#предсказание\n",
    "valid_predictions_lr = model_lr.predict(valid_features)\n",
    "\n",
    "valid_accuracy_lr = accuracy_score(valid_target, valid_predictions_lr)\n",
    "valid_accuracy_lr"
   ]
  },
  {
   "cell_type": "markdown",
   "id": "1b52104e",
   "metadata": {},
   "source": [
    "Accuracy хуже, чем у двух предыдущих алгоритмов. Перебирать гиперпараметры не будем. "
   ]
  },
  {
   "cell_type": "markdown",
   "id": "4b5cf35b",
   "metadata": {},
   "source": [
    "Самое высокое качество - 0.795 - у модели `RandomForestClassifier` c гиперпараметром `n_estimators` = 23: вместо одного решающего дерева используются целых 23. На втором месте модель `DecisionTreeClassifier`- 0.785 - дерево решений с гиперпараметром `max_depth` = 3. Самое низкое качество - 0.71 - у модели `LogisticRegression`. Поэтому, учитывая все вышеописанное, лучшей моделью при исследовании признается `RandomForestClassifier` c гиперпараметром `n_estimators` = 23. Ее-то и посмотрим на тестовой выборке."
   ]
  },
  {
   "cell_type": "markdown",
   "id": "a7decf17",
   "metadata": {},
   "source": [
    "## Проверьте модель на тестовой выборке"
   ]
  },
  {
   "cell_type": "code",
   "execution_count": 17,
   "id": "ddc7c791",
   "metadata": {},
   "outputs": [],
   "source": [
    "#выделим признаки и целевой признак из тестовой выборки\n",
    "test_features = df_test.drop('is_ultra', 1)\n",
    "test_target = df_test['is_ultra']"
   ]
  },
  {
   "cell_type": "markdown",
   "id": "f33e2fec",
   "metadata": {},
   "source": [
    "Протестируем лучшую модель \"дерева решений\""
   ]
  },
  {
   "cell_type": "code",
   "execution_count": 18,
   "id": "468b0f5a",
   "metadata": {},
   "outputs": [
    {
     "data": {
      "text/plain": [
       "0.7791601866251944"
      ]
     },
     "execution_count": 18,
     "metadata": {},
     "output_type": "execute_result"
    }
   ],
   "source": [
    "test_predictions_dtc = model_dtc1.predict(test_features)\n",
    "\n",
    "test_accuracy_dtc = accuracy_score(test_target, test_predictions_dtc)\n",
    "test_accuracy_dtc"
   ]
  },
  {
   "cell_type": "markdown",
   "id": "250544b6",
   "metadata": {},
   "source": [
    "Протестируем лучшую модель \"случайного леса\""
   ]
  },
  {
   "cell_type": "code",
   "execution_count": 19,
   "id": "1738cfa3",
   "metadata": {
    "scrolled": true
   },
   "outputs": [
    {
     "data": {
      "text/plain": [
       "0.7807153965785381"
      ]
     },
     "execution_count": 19,
     "metadata": {},
     "output_type": "execute_result"
    }
   ],
   "source": [
    "test_predictions_rfc = model_rfc1.predict(test_features)\n",
    "\n",
    "test_accuracy_rfc = accuracy_score(test_target, test_predictions_rfc)\n",
    "test_accuracy_rfc"
   ]
  },
  {
   "cell_type": "markdown",
   "id": "7a8dcf69",
   "metadata": {},
   "source": [
    "Протестируем логистическую регрессию"
   ]
  },
  {
   "cell_type": "code",
   "execution_count": 20,
   "id": "230b6988",
   "metadata": {},
   "outputs": [
    {
     "data": {
      "text/plain": [
       "0.6842923794712286"
      ]
     },
     "execution_count": 20,
     "metadata": {},
     "output_type": "execute_result"
    }
   ],
   "source": [
    "test_predictions_lr = model_lr.predict(test_features)\n",
    "\n",
    "test_accuracy_lr = accuracy_score(test_target, test_predictions_lr)\n",
    "test_accuracy_lr"
   ]
  },
  {
   "cell_type": "markdown",
   "id": "59cbdeec",
   "metadata": {},
   "source": [
    "Самое высокое качество - 0.78 - у случайного леса: вместо одного решающего дерева используется целых 23.\n",
    "На втором месте - 0.73 - дерево решений с глубиной дерева = 3. Самое низкое качество - 0.68 - у логистической регрессии. А вот по скорости работы все наоборот: в связи с минимальным набором параметров на первом месте  - логистическая регрессия, на втором  - дерево решений с глубиной=3 и на последнем - случайный лес с 23мя деревьями. На самом деле обработка 23 деревьев не так много времени занимает, поэтому лучшей моделью для данной задачи считается `RandomForestClassifier`."
   ]
  },
  {
   "cell_type": "markdown",
   "id": "16a26afa",
   "metadata": {},
   "source": [
    "## (бонус) Проверьте модели на адекватность"
   ]
  },
  {
   "cell_type": "markdown",
   "id": "3bca8add",
   "metadata": {},
   "source": [
    "Проверим `RandomForestClassifier` на адекватность с помощью модели `DummyClassifier` на тестовых данных"
   ]
  },
  {
   "cell_type": "code",
   "execution_count": 21,
   "id": "8c2a13b9",
   "metadata": {},
   "outputs": [
    {
     "data": {
      "text/plain": [
       "0.6842923794712286"
      ]
     },
     "execution_count": 21,
     "metadata": {},
     "output_type": "execute_result"
    }
   ],
   "source": [
    "model_dc = DummyClassifier(random_state=12345)\n",
    "\n",
    "model_dc.fit(test_features, test_target)\n",
    "\n",
    "test_predictions_dc = model_dc.predict(test_features)\n",
    "\n",
    "test_accuracy_dc = accuracy_score(test_target, test_predictions_dc)\n",
    "test_accuracy_dc"
   ]
  },
  {
   "cell_type": "markdown",
   "id": "0c69ef09",
   "metadata": {},
   "source": [
    "У модели `DummyClassifier` на тестовых данных accuracy меньше, чем у  модели `RandomForestClassifier` на тех же тестовых данных, поэтому считаем, что модель `RandomForestClassifier` адекватна"
   ]
  },
  {
   "cell_type": "markdown",
   "id": "53e113aa",
   "metadata": {},
   "source": [
    "## Итоговый вывод"
   ]
  },
  {
   "cell_type": "markdown",
   "id": "1244b955",
   "metadata": {},
   "source": [
    "Данные были предоставленны чистыми. Предобработка не потребовалась. Были исследованы три модели: `DecisionTreeClassifier`, `RandomForestClassifier` и `LinearRegression`. Наилучшую эффективность показала модель `RandomForestClassifier` с гиперпараметром `n_estimators` = 23. `RandomForestClassifier` была проверена на тестовой выборке и показала результат accuracy - 0.7807153965785381. Также `RandomForestClassifier`была проверена на адекватность с помощью сравнения с моделью `DummyClassifier` на тестовой выборке, которая показала результат accuracy = 0.6842923794712286."
   ]
  },
  {
   "cell_type": "markdown",
   "id": "ba635b24",
   "metadata": {
    "toc": true
   },
   "source": [
    "<h1>Table of Contents<span class=\"tocSkip\"></span></h1>\n",
    "<div class=\"toc\"><ul class=\"toc-item\"><li><span><a href=\"#Откройте-и-изучите-файл\" data-toc-modified-id=\"Откройте-и-изучите-файл-1\"><span class=\"toc-item-num\">1&nbsp;&nbsp;</span>Откройте и изучите файл</a></span></li><li><span><a href=\"#Разбейте-данные-на-выборки\" data-toc-modified-id=\"Разбейте-данные-на-выборки-2\"><span class=\"toc-item-num\">2&nbsp;&nbsp;</span>Разбейте данные на выборки</a></span></li><li><span><a href=\"#Исследуйте-модели\" data-toc-modified-id=\"Исследуйте-модели-3\"><span class=\"toc-item-num\">3&nbsp;&nbsp;</span>Исследуйте модели</a></span></li><li><span><a href=\"#Проверьте-модель-на-тестовой-выборке\" data-toc-modified-id=\"Проверьте-модель-на-тестовой-выборке-4\"><span class=\"toc-item-num\">4&nbsp;&nbsp;</span>Проверьте модель на тестовой выборке</a></span></li><li><span><a href=\"#(бонус)-Проверьте-модели-на-адекватность\" data-toc-modified-id=\"(бонус)-Проверьте-модели-на-адекватность-5\"><span class=\"toc-item-num\">5&nbsp;&nbsp;</span>(бонус) Проверьте модели на адекватность</a></span></li><li><span><a href=\"#Итоговый-вывод\" data-toc-modified-id=\"Итоговый-вывод-6\"><span class=\"toc-item-num\">6&nbsp;&nbsp;</span>Итоговый вывод</a></span></li><li><span><a href=\"#Чек-лист-готовности-проекта\" data-toc-modified-id=\"Чек-лист-готовности-проекта-7\"><span class=\"toc-item-num\">7&nbsp;&nbsp;</span>Чек-лист готовности проекта</a></span></li></ul></div>"
   ]
  },
  {
   "cell_type": "code",
   "execution_count": null,
   "id": "80ca244b",
   "metadata": {},
   "outputs": [],
   "source": []
  }
 ],
 "metadata": {
  "kernelspec": {
   "display_name": "Python 3 (ipykernel)",
   "language": "python",
   "name": "python3"
  },
  "language_info": {
   "codemirror_mode": {
    "name": "ipython",
    "version": 3
   },
   "file_extension": ".py",
   "mimetype": "text/x-python",
   "name": "python",
   "nbconvert_exporter": "python",
   "pygments_lexer": "ipython3",
   "version": "3.9.12"
  },
  "toc": {
   "base_numbering": 1,
   "nav_menu": {},
   "number_sections": true,
   "sideBar": true,
   "skip_h1_title": true,
   "title_cell": "Table of Contents",
   "title_sidebar": "Contents",
   "toc_cell": true,
   "toc_position": {},
   "toc_section_display": true,
   "toc_window_display": true
  }
 },
 "nbformat": 4,
 "nbformat_minor": 5
}
