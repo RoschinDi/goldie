{
 "cells": [
  {
   "cell_type": "markdown",
   "id": "2075d9f6",
   "metadata": {
    "toc": true
   },
   "source": [
    "<h1>Table of Contents<span class=\"tocSkip\"></span></h1>\n",
    "<div class=\"toc\"><ul class=\"toc-item\"><li><span><a href=\"#Подготовка-данных\" data-toc-modified-id=\"Подготовка-данных-1\"><span class=\"toc-item-num\">1&nbsp;&nbsp;</span>Подготовка данных</a></span></li><li><span><a href=\"#Исследование-задачи\" data-toc-modified-id=\"Исследование-задачи-2\"><span class=\"toc-item-num\">2&nbsp;&nbsp;</span>Исследование задачи</a></span></li><li><span><a href=\"#Борьба-с-дисбалансом\" data-toc-modified-id=\"Борьба-с-дисбалансом-3\"><span class=\"toc-item-num\">3&nbsp;&nbsp;</span>Борьба с дисбалансом</a></span></li><li><span><a href=\"#Тестирование-модели\" data-toc-modified-id=\"Тестирование-модели-4\"><span class=\"toc-item-num\">4&nbsp;&nbsp;</span>Тестирование модели</a></span></li><li><span><a href=\"#Итоговый-вывод\" data-toc-modified-id=\"Итоговый-вывод-5\"><span class=\"toc-item-num\">5&nbsp;&nbsp;</span>Итоговый вывод</a></span></li><li><span><a href=\"#Чек-лист-готовности-проекта\" data-toc-modified-id=\"Чек-лист-готовности-проекта-6\"><span class=\"toc-item-num\">6&nbsp;&nbsp;</span>Чек-лист готовности проекта</a></span></li></ul></div>"
   ]
  },
  {
   "cell_type": "markdown",
   "id": "72413506",
   "metadata": {},
   "source": [
    "# Отток клиентов"
   ]
  },
  {
   "cell_type": "markdown",
   "id": "058d7bd3",
   "metadata": {},
   "source": [
    "Из «Бета-Банка» стали уходить клиенты. Каждый месяц. Немного, но заметно. Банковские маркетологи посчитали: сохранять текущих клиентов дешевле, чем привлекать новых.\n",
    "\n",
    "Нужно спрогнозировать, уйдёт клиент из банка в ближайшее время или нет. Вам предоставлены исторические данные о поведении клиентов и расторжении договоров с банком. \n",
    "\n",
    "Постройте модель с предельно большим значением *F1*-меры. Чтобы сдать проект успешно, нужно довести метрику до 0.59. Проверьте *F1*-меру на тестовой выборке самостоятельно.\n",
    "\n",
    "Дополнительно измеряйте *AUC-ROC*, сравнивайте её значение с *F1*-мерой.\n",
    "\n",
    "Источник данных: [https://www.kaggle.com/barelydedicated/bank-customer-churn-modeling](https://www.kaggle.com/barelydedicated/bank-customer-churn-modeling\n",
    "\n",
    "**Признаки** \n",
    "\n",
    "RowNumber — индекс строки в данных\n",
    "\n",
    "CustomerId — уникальный идентификатор клиента\n",
    "\n",
    "Surname — фамилия\n",
    "\n",
    "CreditScore — кредитный рейтинг\n",
    "\n",
    "Geography — страна проживания\n",
    "\n",
    "Gender — пол\n",
    "\n",
    "Age — возраст\n",
    "\n",
    "Tenure — сколько лет человек является клиентом банка\n",
    "\n",
    "Balance — баланс на счёте\n",
    "\n",
    "NumOfProducts — количество продуктов банка, используемых клиентом\n",
    "\n",
    "HasCrCard — наличие кредитной карты\n",
    "\n",
    "IsActiveMember — активность клиента\n",
    "\n",
    "EstimatedSalary — предполагаемая зарплата\n",
    "\n",
    "**Целевой признак**\n",
    "\n",
    "Exited — факт ухода клиента. Ушел ли клиент: «да» — 1, «нет» — 0"
   ]
  },
  {
   "cell_type": "markdown",
   "id": "b7fcd9d9",
   "metadata": {},
   "source": [
    "## Подготовка данных"
   ]
  },
  {
   "cell_type": "code",
   "execution_count": 1,
   "id": "b71e10bc",
   "metadata": {},
   "outputs": [],
   "source": [
    "#импортируем нужные нам библиотеки и инструменты\n",
    "import pandas as pd\n",
    "from sklearn.model_selection import train_test_split\n",
    "from sklearn.tree import DecisionTreeClassifier\n",
    "from sklearn.linear_model import LogisticRegression \n",
    "from sklearn.ensemble import RandomForestClassifier\n",
    "from sklearn.preprocessing import StandardScaler\n",
    "from sklearn.metrics import f1_score, roc_auc_score, accuracy_score, confusion_matrix, recall_score, precision_score, roc_curve \n",
    "from sklearn.utils import shuffle\n",
    "import matplotlib.pyplot as plt"
   ]
  },
  {
   "cell_type": "code",
   "execution_count": 2,
   "id": "35a8e89c",
   "metadata": {
    "scrolled": false
   },
   "outputs": [
    {
     "data": {
      "text/html": [
       "<div>\n",
       "<style scoped>\n",
       "    .dataframe tbody tr th:only-of-type {\n",
       "        vertical-align: middle;\n",
       "    }\n",
       "\n",
       "    .dataframe tbody tr th {\n",
       "        vertical-align: top;\n",
       "    }\n",
       "\n",
       "    .dataframe thead th {\n",
       "        text-align: right;\n",
       "    }\n",
       "</style>\n",
       "<table border=\"1\" class=\"dataframe\">\n",
       "  <thead>\n",
       "    <tr style=\"text-align: right;\">\n",
       "      <th></th>\n",
       "      <th>RowNumber</th>\n",
       "      <th>CustomerId</th>\n",
       "      <th>Surname</th>\n",
       "      <th>CreditScore</th>\n",
       "      <th>Geography</th>\n",
       "      <th>Gender</th>\n",
       "      <th>Age</th>\n",
       "      <th>Tenure</th>\n",
       "      <th>Balance</th>\n",
       "      <th>NumOfProducts</th>\n",
       "      <th>HasCrCard</th>\n",
       "      <th>IsActiveMember</th>\n",
       "      <th>EstimatedSalary</th>\n",
       "      <th>Exited</th>\n",
       "    </tr>\n",
       "  </thead>\n",
       "  <tbody>\n",
       "    <tr>\n",
       "      <th>0</th>\n",
       "      <td>1</td>\n",
       "      <td>15634602</td>\n",
       "      <td>Hargrave</td>\n",
       "      <td>619</td>\n",
       "      <td>France</td>\n",
       "      <td>Female</td>\n",
       "      <td>42</td>\n",
       "      <td>2.0</td>\n",
       "      <td>0.00</td>\n",
       "      <td>1</td>\n",
       "      <td>1</td>\n",
       "      <td>1</td>\n",
       "      <td>101348.88</td>\n",
       "      <td>1</td>\n",
       "    </tr>\n",
       "    <tr>\n",
       "      <th>1</th>\n",
       "      <td>2</td>\n",
       "      <td>15647311</td>\n",
       "      <td>Hill</td>\n",
       "      <td>608</td>\n",
       "      <td>Spain</td>\n",
       "      <td>Female</td>\n",
       "      <td>41</td>\n",
       "      <td>1.0</td>\n",
       "      <td>83807.86</td>\n",
       "      <td>1</td>\n",
       "      <td>0</td>\n",
       "      <td>1</td>\n",
       "      <td>112542.58</td>\n",
       "      <td>0</td>\n",
       "    </tr>\n",
       "    <tr>\n",
       "      <th>2</th>\n",
       "      <td>3</td>\n",
       "      <td>15619304</td>\n",
       "      <td>Onio</td>\n",
       "      <td>502</td>\n",
       "      <td>France</td>\n",
       "      <td>Female</td>\n",
       "      <td>42</td>\n",
       "      <td>8.0</td>\n",
       "      <td>159660.80</td>\n",
       "      <td>3</td>\n",
       "      <td>1</td>\n",
       "      <td>0</td>\n",
       "      <td>113931.57</td>\n",
       "      <td>1</td>\n",
       "    </tr>\n",
       "    <tr>\n",
       "      <th>3</th>\n",
       "      <td>4</td>\n",
       "      <td>15701354</td>\n",
       "      <td>Boni</td>\n",
       "      <td>699</td>\n",
       "      <td>France</td>\n",
       "      <td>Female</td>\n",
       "      <td>39</td>\n",
       "      <td>1.0</td>\n",
       "      <td>0.00</td>\n",
       "      <td>2</td>\n",
       "      <td>0</td>\n",
       "      <td>0</td>\n",
       "      <td>93826.63</td>\n",
       "      <td>0</td>\n",
       "    </tr>\n",
       "    <tr>\n",
       "      <th>4</th>\n",
       "      <td>5</td>\n",
       "      <td>15737888</td>\n",
       "      <td>Mitchell</td>\n",
       "      <td>850</td>\n",
       "      <td>Spain</td>\n",
       "      <td>Female</td>\n",
       "      <td>43</td>\n",
       "      <td>2.0</td>\n",
       "      <td>125510.82</td>\n",
       "      <td>1</td>\n",
       "      <td>1</td>\n",
       "      <td>1</td>\n",
       "      <td>79084.10</td>\n",
       "      <td>0</td>\n",
       "    </tr>\n",
       "    <tr>\n",
       "      <th>5</th>\n",
       "      <td>6</td>\n",
       "      <td>15574012</td>\n",
       "      <td>Chu</td>\n",
       "      <td>645</td>\n",
       "      <td>Spain</td>\n",
       "      <td>Male</td>\n",
       "      <td>44</td>\n",
       "      <td>8.0</td>\n",
       "      <td>113755.78</td>\n",
       "      <td>2</td>\n",
       "      <td>1</td>\n",
       "      <td>0</td>\n",
       "      <td>149756.71</td>\n",
       "      <td>1</td>\n",
       "    </tr>\n",
       "    <tr>\n",
       "      <th>6</th>\n",
       "      <td>7</td>\n",
       "      <td>15592531</td>\n",
       "      <td>Bartlett</td>\n",
       "      <td>822</td>\n",
       "      <td>France</td>\n",
       "      <td>Male</td>\n",
       "      <td>50</td>\n",
       "      <td>7.0</td>\n",
       "      <td>0.00</td>\n",
       "      <td>2</td>\n",
       "      <td>1</td>\n",
       "      <td>1</td>\n",
       "      <td>10062.80</td>\n",
       "      <td>0</td>\n",
       "    </tr>\n",
       "    <tr>\n",
       "      <th>7</th>\n",
       "      <td>8</td>\n",
       "      <td>15656148</td>\n",
       "      <td>Obinna</td>\n",
       "      <td>376</td>\n",
       "      <td>Germany</td>\n",
       "      <td>Female</td>\n",
       "      <td>29</td>\n",
       "      <td>4.0</td>\n",
       "      <td>115046.74</td>\n",
       "      <td>4</td>\n",
       "      <td>1</td>\n",
       "      <td>0</td>\n",
       "      <td>119346.88</td>\n",
       "      <td>1</td>\n",
       "    </tr>\n",
       "    <tr>\n",
       "      <th>8</th>\n",
       "      <td>9</td>\n",
       "      <td>15792365</td>\n",
       "      <td>He</td>\n",
       "      <td>501</td>\n",
       "      <td>France</td>\n",
       "      <td>Male</td>\n",
       "      <td>44</td>\n",
       "      <td>4.0</td>\n",
       "      <td>142051.07</td>\n",
       "      <td>2</td>\n",
       "      <td>0</td>\n",
       "      <td>1</td>\n",
       "      <td>74940.50</td>\n",
       "      <td>0</td>\n",
       "    </tr>\n",
       "    <tr>\n",
       "      <th>9</th>\n",
       "      <td>10</td>\n",
       "      <td>15592389</td>\n",
       "      <td>H?</td>\n",
       "      <td>684</td>\n",
       "      <td>France</td>\n",
       "      <td>Male</td>\n",
       "      <td>27</td>\n",
       "      <td>2.0</td>\n",
       "      <td>134603.88</td>\n",
       "      <td>1</td>\n",
       "      <td>1</td>\n",
       "      <td>1</td>\n",
       "      <td>71725.73</td>\n",
       "      <td>0</td>\n",
       "    </tr>\n",
       "  </tbody>\n",
       "</table>\n",
       "</div>"
      ],
      "text/plain": [
       "   RowNumber  CustomerId   Surname  CreditScore Geography  Gender  Age  \\\n",
       "0          1    15634602  Hargrave          619    France  Female   42   \n",
       "1          2    15647311      Hill          608     Spain  Female   41   \n",
       "2          3    15619304      Onio          502    France  Female   42   \n",
       "3          4    15701354      Boni          699    France  Female   39   \n",
       "4          5    15737888  Mitchell          850     Spain  Female   43   \n",
       "5          6    15574012       Chu          645     Spain    Male   44   \n",
       "6          7    15592531  Bartlett          822    France    Male   50   \n",
       "7          8    15656148    Obinna          376   Germany  Female   29   \n",
       "8          9    15792365        He          501    France    Male   44   \n",
       "9         10    15592389        H?          684    France    Male   27   \n",
       "\n",
       "   Tenure    Balance  NumOfProducts  HasCrCard  IsActiveMember  \\\n",
       "0     2.0       0.00              1          1               1   \n",
       "1     1.0   83807.86              1          0               1   \n",
       "2     8.0  159660.80              3          1               0   \n",
       "3     1.0       0.00              2          0               0   \n",
       "4     2.0  125510.82              1          1               1   \n",
       "5     8.0  113755.78              2          1               0   \n",
       "6     7.0       0.00              2          1               1   \n",
       "7     4.0  115046.74              4          1               0   \n",
       "8     4.0  142051.07              2          0               1   \n",
       "9     2.0  134603.88              1          1               1   \n",
       "\n",
       "   EstimatedSalary  Exited  \n",
       "0        101348.88       1  \n",
       "1        112542.58       0  \n",
       "2        113931.57       1  \n",
       "3         93826.63       0  \n",
       "4         79084.10       0  \n",
       "5        149756.71       1  \n",
       "6         10062.80       0  \n",
       "7        119346.88       1  \n",
       "8         74940.50       0  \n",
       "9         71725.73       0  "
      ]
     },
     "execution_count": 2,
     "metadata": {},
     "output_type": "execute_result"
    }
   ],
   "source": [
    "#считываем датасет\n",
    "df = pd.read_csv('/datasets/Churn.csv')\n",
    "\n",
    "#выведем первые 10 строк датафрейма\n",
    "df.head(10)"
   ]
  },
  {
   "cell_type": "code",
   "execution_count": 3,
   "id": "adca8208",
   "metadata": {
    "scrolled": true
   },
   "outputs": [
    {
     "name": "stdout",
     "output_type": "stream",
     "text": [
      "<class 'pandas.core.frame.DataFrame'>\n",
      "RangeIndex: 10000 entries, 0 to 9999\n",
      "Data columns (total 14 columns):\n",
      " #   Column           Non-Null Count  Dtype  \n",
      "---  ------           --------------  -----  \n",
      " 0   RowNumber        10000 non-null  int64  \n",
      " 1   CustomerId       10000 non-null  int64  \n",
      " 2   Surname          10000 non-null  object \n",
      " 3   CreditScore      10000 non-null  int64  \n",
      " 4   Geography        10000 non-null  object \n",
      " 5   Gender           10000 non-null  object \n",
      " 6   Age              10000 non-null  int64  \n",
      " 7   Tenure           9091 non-null   float64\n",
      " 8   Balance          10000 non-null  float64\n",
      " 9   NumOfProducts    10000 non-null  int64  \n",
      " 10  HasCrCard        10000 non-null  int64  \n",
      " 11  IsActiveMember   10000 non-null  int64  \n",
      " 12  EstimatedSalary  10000 non-null  float64\n",
      " 13  Exited           10000 non-null  int64  \n",
      "dtypes: float64(3), int64(8), object(3)\n",
      "memory usage: 1.1+ MB\n"
     ]
    }
   ],
   "source": [
    "#посмотрим общую информацию о датафрейме\n",
    "df.info()"
   ]
  },
  {
   "cell_type": "markdown",
   "id": "1b458503",
   "metadata": {},
   "source": [
    "Удалим не нужные для анализа столбцы, такие как: `RowNumber`, `CustomerId` и `Surname`"
   ]
  },
  {
   "cell_type": "code",
   "execution_count": 4,
   "id": "1b62b59a",
   "metadata": {},
   "outputs": [
    {
     "data": {
      "text/html": [
       "<div>\n",
       "<style scoped>\n",
       "    .dataframe tbody tr th:only-of-type {\n",
       "        vertical-align: middle;\n",
       "    }\n",
       "\n",
       "    .dataframe tbody tr th {\n",
       "        vertical-align: top;\n",
       "    }\n",
       "\n",
       "    .dataframe thead th {\n",
       "        text-align: right;\n",
       "    }\n",
       "</style>\n",
       "<table border=\"1\" class=\"dataframe\">\n",
       "  <thead>\n",
       "    <tr style=\"text-align: right;\">\n",
       "      <th></th>\n",
       "      <th>CreditScore</th>\n",
       "      <th>Geography</th>\n",
       "      <th>Gender</th>\n",
       "      <th>Age</th>\n",
       "      <th>Tenure</th>\n",
       "      <th>Balance</th>\n",
       "      <th>NumOfProducts</th>\n",
       "      <th>HasCrCard</th>\n",
       "      <th>IsActiveMember</th>\n",
       "      <th>EstimatedSalary</th>\n",
       "      <th>Exited</th>\n",
       "    </tr>\n",
       "  </thead>\n",
       "  <tbody>\n",
       "    <tr>\n",
       "      <th>0</th>\n",
       "      <td>619</td>\n",
       "      <td>France</td>\n",
       "      <td>Female</td>\n",
       "      <td>42</td>\n",
       "      <td>2.0</td>\n",
       "      <td>0.00</td>\n",
       "      <td>1</td>\n",
       "      <td>1</td>\n",
       "      <td>1</td>\n",
       "      <td>101348.88</td>\n",
       "      <td>1</td>\n",
       "    </tr>\n",
       "    <tr>\n",
       "      <th>1</th>\n",
       "      <td>608</td>\n",
       "      <td>Spain</td>\n",
       "      <td>Female</td>\n",
       "      <td>41</td>\n",
       "      <td>1.0</td>\n",
       "      <td>83807.86</td>\n",
       "      <td>1</td>\n",
       "      <td>0</td>\n",
       "      <td>1</td>\n",
       "      <td>112542.58</td>\n",
       "      <td>0</td>\n",
       "    </tr>\n",
       "    <tr>\n",
       "      <th>2</th>\n",
       "      <td>502</td>\n",
       "      <td>France</td>\n",
       "      <td>Female</td>\n",
       "      <td>42</td>\n",
       "      <td>8.0</td>\n",
       "      <td>159660.80</td>\n",
       "      <td>3</td>\n",
       "      <td>1</td>\n",
       "      <td>0</td>\n",
       "      <td>113931.57</td>\n",
       "      <td>1</td>\n",
       "    </tr>\n",
       "    <tr>\n",
       "      <th>3</th>\n",
       "      <td>699</td>\n",
       "      <td>France</td>\n",
       "      <td>Female</td>\n",
       "      <td>39</td>\n",
       "      <td>1.0</td>\n",
       "      <td>0.00</td>\n",
       "      <td>2</td>\n",
       "      <td>0</td>\n",
       "      <td>0</td>\n",
       "      <td>93826.63</td>\n",
       "      <td>0</td>\n",
       "    </tr>\n",
       "    <tr>\n",
       "      <th>4</th>\n",
       "      <td>850</td>\n",
       "      <td>Spain</td>\n",
       "      <td>Female</td>\n",
       "      <td>43</td>\n",
       "      <td>2.0</td>\n",
       "      <td>125510.82</td>\n",
       "      <td>1</td>\n",
       "      <td>1</td>\n",
       "      <td>1</td>\n",
       "      <td>79084.10</td>\n",
       "      <td>0</td>\n",
       "    </tr>\n",
       "  </tbody>\n",
       "</table>\n",
       "</div>"
      ],
      "text/plain": [
       "   CreditScore Geography  Gender  Age  Tenure    Balance  NumOfProducts  \\\n",
       "0          619    France  Female   42     2.0       0.00              1   \n",
       "1          608     Spain  Female   41     1.0   83807.86              1   \n",
       "2          502    France  Female   42     8.0  159660.80              3   \n",
       "3          699    France  Female   39     1.0       0.00              2   \n",
       "4          850     Spain  Female   43     2.0  125510.82              1   \n",
       "\n",
       "   HasCrCard  IsActiveMember  EstimatedSalary  Exited  \n",
       "0          1               1        101348.88       1  \n",
       "1          0               1        112542.58       0  \n",
       "2          1               0        113931.57       1  \n",
       "3          0               0         93826.63       0  \n",
       "4          1               1         79084.10       0  "
      ]
     },
     "execution_count": 4,
     "metadata": {},
     "output_type": "execute_result"
    }
   ],
   "source": [
    "df = df.drop(['RowNumber', 'CustomerId', 'Surname'],1)\n",
    "\n",
    "#посмотрим теперь на первые пять строк\n",
    "df.head()"
   ]
  },
  {
   "cell_type": "markdown",
   "id": "8878c2f1",
   "metadata": {},
   "source": [
    "Приведем названия столбцов к нижнему регистру"
   ]
  },
  {
   "cell_type": "code",
   "execution_count": 5,
   "id": "9e995af8",
   "metadata": {
    "scrolled": true
   },
   "outputs": [
    {
     "data": {
      "text/plain": [
       "Index(['creditscore', 'geography', 'gender', 'age', 'tenure', 'balance',\n",
       "       'numofproducts', 'hascrcard', 'isactivemember', 'estimatedsalary',\n",
       "       'exited'],\n",
       "      dtype='object')"
      ]
     },
     "execution_count": 5,
     "metadata": {},
     "output_type": "execute_result"
    }
   ],
   "source": [
    "df.columns = df.columns.str.lower()\n",
    "\n",
    "#проверяем\n",
    "df.columns"
   ]
  },
  {
   "cell_type": "markdown",
   "id": "3454cb36",
   "metadata": {},
   "source": [
    "Переименуем названия столбцов в соответствии со \"змеиным\" регистром"
   ]
  },
  {
   "cell_type": "code",
   "execution_count": 6,
   "id": "bd5a1086",
   "metadata": {
    "scrolled": false
   },
   "outputs": [
    {
     "data": {
      "text/plain": [
       "Index(['credit_score', 'geography', 'gender', 'age', 'tenure', 'balance',\n",
       "       'num_of_products', 'has_cred_card', 'is_active_member',\n",
       "       'estimated_salary', 'exited'],\n",
       "      dtype='object')"
      ]
     },
     "execution_count": 6,
     "metadata": {},
     "output_type": "execute_result"
    }
   ],
   "source": [
    "df = df.rename(columns={'creditscore':'credit_score', \n",
    "                        'numofproducts': 'num_of_products',\n",
    "                       'hascrcard':'has_cred_card',\n",
    "                       'isactivemember':'is_active_member',\n",
    "                       'estimatedsalary':'estimated_salary'})\n",
    "\n",
    "#проверяем\n",
    "df.columns"
   ]
  },
  {
   "cell_type": "markdown",
   "id": "6adbece3",
   "metadata": {},
   "source": [
    "В столбце `tenure` присутствуют пропуски. Посчитаем."
   ]
  },
  {
   "cell_type": "code",
   "execution_count": 7,
   "id": "c52d30eb",
   "metadata": {
    "scrolled": true
   },
   "outputs": [
    {
     "data": {
      "text/plain": [
       "909"
      ]
     },
     "execution_count": 7,
     "metadata": {},
     "output_type": "execute_result"
    }
   ],
   "source": [
    "df['tenure'].isna().sum()"
   ]
  },
  {
   "cell_type": "markdown",
   "id": "3c695882",
   "metadata": {},
   "source": [
    "Посчитаем процент пропусков от общего количества значений в столбце"
   ]
  },
  {
   "cell_type": "code",
   "execution_count": 8,
   "id": "bfabbc9a",
   "metadata": {
    "scrolled": true
   },
   "outputs": [
    {
     "data": {
      "text/plain": [
       "'9.09%'"
      ]
     },
     "execution_count": 8,
     "metadata": {},
     "output_type": "execute_result"
    }
   ],
   "source": [
    "f\"{len(df[df['tenure'].isna()]) / len(df['tenure']):.2%}\""
   ]
  },
  {
   "cell_type": "markdown",
   "id": "11f24e51",
   "metadata": {},
   "source": [
    "9 % это не так уж и много. В этом случае пропуски заменим медианным значением столбца `tenure`"
   ]
  },
  {
   "cell_type": "code",
   "execution_count": 9,
   "id": "25da0676",
   "metadata": {},
   "outputs": [
    {
     "data": {
      "text/plain": [
       "0"
      ]
     },
     "execution_count": 9,
     "metadata": {},
     "output_type": "execute_result"
    }
   ],
   "source": [
    "df.loc[df['tenure'].isna(), 'tenure'] = df['tenure'].median()\n",
    "\n",
    "#проверим, что пропусков не осталось\n",
    "df['tenure'].isna().sum()"
   ]
  },
  {
   "cell_type": "markdown",
   "id": "fa209a38",
   "metadata": {},
   "source": [
    "Изменим тип данных с `float` на `int`"
   ]
  },
  {
   "cell_type": "code",
   "execution_count": 10,
   "id": "5e274230",
   "metadata": {},
   "outputs": [
    {
     "name": "stdout",
     "output_type": "stream",
     "text": [
      "<class 'pandas.core.frame.DataFrame'>\n",
      "RangeIndex: 10000 entries, 0 to 9999\n",
      "Data columns (total 11 columns):\n",
      " #   Column            Non-Null Count  Dtype  \n",
      "---  ------            --------------  -----  \n",
      " 0   credit_score      10000 non-null  int64  \n",
      " 1   geography         10000 non-null  object \n",
      " 2   gender            10000 non-null  object \n",
      " 3   age               10000 non-null  int64  \n",
      " 4   tenure            10000 non-null  int64  \n",
      " 5   balance           10000 non-null  float64\n",
      " 6   num_of_products   10000 non-null  int64  \n",
      " 7   has_cred_card     10000 non-null  int64  \n",
      " 8   is_active_member  10000 non-null  int64  \n",
      " 9   estimated_salary  10000 non-null  float64\n",
      " 10  exited            10000 non-null  int64  \n",
      "dtypes: float64(2), int64(7), object(2)\n",
      "memory usage: 859.5+ KB\n"
     ]
    }
   ],
   "source": [
    "df['tenure'] = df['tenure'].astype('int')\n",
    "\n",
    "#проверим и выведем еще раз общую информацию о датафрейме\n",
    "df.info()"
   ]
  },
  {
   "cell_type": "markdown",
   "id": "d26bd8aa",
   "metadata": {},
   "source": [
    "## Исследование задачи"
   ]
  },
  {
   "cell_type": "markdown",
   "id": "e5b52e4f",
   "metadata": {},
   "source": [
    "Перед нами стоит задача классификации. Необходимо предсказать уйдет клиент из банка или нет. Для обучения моделей нам необходимо, чтобы все данные содержали только численные признаки."
   ]
  },
  {
   "cell_type": "code",
   "execution_count": 11,
   "id": "aa679ad6",
   "metadata": {
    "scrolled": true
   },
   "outputs": [
    {
     "data": {
      "text/plain": [
       "credit_score          int64\n",
       "geography            object\n",
       "gender               object\n",
       "age                   int64\n",
       "tenure                int64\n",
       "balance             float64\n",
       "num_of_products       int64\n",
       "has_cred_card         int64\n",
       "is_active_member      int64\n",
       "estimated_salary    float64\n",
       "exited                int64\n",
       "dtype: object"
      ]
     },
     "execution_count": 11,
     "metadata": {},
     "output_type": "execute_result"
    }
   ],
   "source": [
    "#посмотрим на типы признаков в наших данных\n",
    "df.dtypes"
   ]
  },
  {
   "cell_type": "markdown",
   "id": "a47eb066",
   "metadata": {},
   "source": [
    "Наши данные содержат помимо численных признаков также и категориальные признаки. Преобразуем категориальные признаки в численные методом прямого кодирования (OHE). Данная техника подходит для решения нашей задачи, а также работает со всеми моделями."
   ]
  },
  {
   "cell_type": "code",
   "execution_count": 12,
   "id": "d7b33ddd",
   "metadata": {
    "scrolled": true
   },
   "outputs": [
    {
     "data": {
      "text/html": [
       "<div>\n",
       "<style scoped>\n",
       "    .dataframe tbody tr th:only-of-type {\n",
       "        vertical-align: middle;\n",
       "    }\n",
       "\n",
       "    .dataframe tbody tr th {\n",
       "        vertical-align: top;\n",
       "    }\n",
       "\n",
       "    .dataframe thead th {\n",
       "        text-align: right;\n",
       "    }\n",
       "</style>\n",
       "<table border=\"1\" class=\"dataframe\">\n",
       "  <thead>\n",
       "    <tr style=\"text-align: right;\">\n",
       "      <th></th>\n",
       "      <th>credit_score</th>\n",
       "      <th>age</th>\n",
       "      <th>tenure</th>\n",
       "      <th>balance</th>\n",
       "      <th>num_of_products</th>\n",
       "      <th>has_cred_card</th>\n",
       "      <th>is_active_member</th>\n",
       "      <th>estimated_salary</th>\n",
       "      <th>exited</th>\n",
       "      <th>geography_Germany</th>\n",
       "      <th>geography_Spain</th>\n",
       "      <th>gender_Male</th>\n",
       "    </tr>\n",
       "  </thead>\n",
       "  <tbody>\n",
       "    <tr>\n",
       "      <th>0</th>\n",
       "      <td>619</td>\n",
       "      <td>42</td>\n",
       "      <td>2</td>\n",
       "      <td>0.00</td>\n",
       "      <td>1</td>\n",
       "      <td>1</td>\n",
       "      <td>1</td>\n",
       "      <td>101348.88</td>\n",
       "      <td>1</td>\n",
       "      <td>0</td>\n",
       "      <td>0</td>\n",
       "      <td>0</td>\n",
       "    </tr>\n",
       "    <tr>\n",
       "      <th>1</th>\n",
       "      <td>608</td>\n",
       "      <td>41</td>\n",
       "      <td>1</td>\n",
       "      <td>83807.86</td>\n",
       "      <td>1</td>\n",
       "      <td>0</td>\n",
       "      <td>1</td>\n",
       "      <td>112542.58</td>\n",
       "      <td>0</td>\n",
       "      <td>0</td>\n",
       "      <td>1</td>\n",
       "      <td>0</td>\n",
       "    </tr>\n",
       "    <tr>\n",
       "      <th>2</th>\n",
       "      <td>502</td>\n",
       "      <td>42</td>\n",
       "      <td>8</td>\n",
       "      <td>159660.80</td>\n",
       "      <td>3</td>\n",
       "      <td>1</td>\n",
       "      <td>0</td>\n",
       "      <td>113931.57</td>\n",
       "      <td>1</td>\n",
       "      <td>0</td>\n",
       "      <td>0</td>\n",
       "      <td>0</td>\n",
       "    </tr>\n",
       "    <tr>\n",
       "      <th>3</th>\n",
       "      <td>699</td>\n",
       "      <td>39</td>\n",
       "      <td>1</td>\n",
       "      <td>0.00</td>\n",
       "      <td>2</td>\n",
       "      <td>0</td>\n",
       "      <td>0</td>\n",
       "      <td>93826.63</td>\n",
       "      <td>0</td>\n",
       "      <td>0</td>\n",
       "      <td>0</td>\n",
       "      <td>0</td>\n",
       "    </tr>\n",
       "    <tr>\n",
       "      <th>4</th>\n",
       "      <td>850</td>\n",
       "      <td>43</td>\n",
       "      <td>2</td>\n",
       "      <td>125510.82</td>\n",
       "      <td>1</td>\n",
       "      <td>1</td>\n",
       "      <td>1</td>\n",
       "      <td>79084.10</td>\n",
       "      <td>0</td>\n",
       "      <td>0</td>\n",
       "      <td>1</td>\n",
       "      <td>0</td>\n",
       "    </tr>\n",
       "  </tbody>\n",
       "</table>\n",
       "</div>"
      ],
      "text/plain": [
       "   credit_score  age  tenure    balance  num_of_products  has_cred_card  \\\n",
       "0           619   42       2       0.00                1              1   \n",
       "1           608   41       1   83807.86                1              0   \n",
       "2           502   42       8  159660.80                3              1   \n",
       "3           699   39       1       0.00                2              0   \n",
       "4           850   43       2  125510.82                1              1   \n",
       "\n",
       "   is_active_member  estimated_salary  exited  geography_Germany  \\\n",
       "0                 1         101348.88       1                  0   \n",
       "1                 1         112542.58       0                  0   \n",
       "2                 0         113931.57       1                  0   \n",
       "3                 0          93826.63       0                  0   \n",
       "4                 1          79084.10       0                  0   \n",
       "\n",
       "   geography_Spain  gender_Male  \n",
       "0                0            0  \n",
       "1                1            0  \n",
       "2                0            0  \n",
       "3                0            0  \n",
       "4                1            0  "
      ]
     },
     "execution_count": 12,
     "metadata": {},
     "output_type": "execute_result"
    }
   ],
   "source": [
    "#применим OHE ко всему датафрейму\n",
    "df_ohe = pd.get_dummies(df, drop_first=True)\n",
    "\n",
    "#посмотрим на первые 5 строк преобразованного датафрейма\n",
    "df_ohe.head()"
   ]
  },
  {
   "cell_type": "markdown",
   "id": "e873bc4b",
   "metadata": {},
   "source": [
    "Далее разобьем датафрейм на выборки"
   ]
  },
  {
   "cell_type": "code",
   "execution_count": 13,
   "id": "8aaeb32a",
   "metadata": {},
   "outputs": [
    {
     "data": {
      "text/plain": [
       "(6000, 11)"
      ]
     },
     "metadata": {},
     "output_type": "display_data"
    },
    {
     "data": {
      "text/plain": [
       "(2000, 11)"
      ]
     },
     "metadata": {},
     "output_type": "display_data"
    },
    {
     "data": {
      "text/plain": [
       "(2000, 11)"
      ]
     },
     "metadata": {},
     "output_type": "display_data"
    },
    {
     "data": {
      "text/plain": [
       "(6000,)"
      ]
     },
     "metadata": {},
     "output_type": "display_data"
    },
    {
     "data": {
      "text/plain": [
       "(2000,)"
      ]
     },
     "metadata": {},
     "output_type": "display_data"
    },
    {
     "data": {
      "text/plain": [
       "(2000,)"
      ]
     },
     "metadata": {},
     "output_type": "display_data"
    }
   ],
   "source": [
    "#выделим признаки и целевой признак \n",
    "features = df_ohe.drop('exited', 1)\n",
    "target = df_ohe['exited']\n",
    "\n",
    "#разобьем признаки и целевой признак на 2 группы, отделив обучающие данные от тестовых + валидационных\n",
    "features_train, features_valid_test, target_train, target_valid_test = train_test_split(\n",
    "    features, target, test_size=0.40, random_state=12345, stratify=target)\n",
    "\n",
    "#затем разобьем вторую группу пополам: одни данные будут валидационными, другие - тестовыми \n",
    "features_valid, features_test, target_valid, target_test = train_test_split(\n",
    "    features_valid_test, target_valid_test, test_size=0.50, random_state=12345, stratify=target_valid_test)\n",
    "\n",
    "#проверим\n",
    "display(features_train.shape)\n",
    "display(features_valid.shape)\n",
    "display(features_test.shape)\n",
    "display(target_train.shape)\n",
    "display(target_valid.shape)\n",
    "display(target_test.shape)"
   ]
  },
  {
   "cell_type": "markdown",
   "id": "3bd1f087",
   "metadata": {},
   "source": [
    "Далее масштабируем признаки методом стандартизации."
   ]
  },
  {
   "cell_type": "code",
   "execution_count": 14,
   "id": "3336f136",
   "metadata": {
    "scrolled": true
   },
   "outputs": [],
   "source": [
    "#сохраним в переменную названия столбцов имеющих численные данные\n",
    "numeric = ['credit_score', 'age', 'tenure', 'balance', 'estimated_salary', 'num_of_products']\n",
    "\n",
    "#cоздадим объект и настроим его на обучающих данных\n",
    "scaler = StandardScaler()\n",
    "scaler.fit(features_train[numeric])\n",
    "\n",
    "pd.options.mode.chained_assignment = None\n",
    "\n",
    "features_train[numeric] = scaler.transform(features_train[numeric])\n",
    "features_valid[numeric] = scaler.transform(features_valid[numeric])\n",
    "features_test[numeric] = scaler.transform(features_test[numeric])"
   ]
  },
  {
   "cell_type": "markdown",
   "id": "b08c2776",
   "metadata": {},
   "source": [
    "Далее проверим баланс классов"
   ]
  },
  {
   "cell_type": "code",
   "execution_count": 15,
   "id": "cee3da83",
   "metadata": {
    "scrolled": false
   },
   "outputs": [
    {
     "data": {
      "text/plain": [
       "0    0.7963\n",
       "1    0.2037\n",
       "Name: exited, dtype: float64"
      ]
     },
     "execution_count": 15,
     "metadata": {},
     "output_type": "execute_result"
    }
   ],
   "source": [
    "df['exited'].value_counts(normalize=True)"
   ]
  },
  {
   "cell_type": "markdown",
   "id": "41d223a5",
   "metadata": {},
   "source": [
    "Данные не сбалансированы: покинувших банк в данных в 4 раза меньше, чем оставшихся. Посчитаем метрику f1 на несбалансированных данных"
   ]
  },
  {
   "cell_type": "markdown",
   "id": "582d028b",
   "metadata": {},
   "source": [
    "**Логистическая регрессия**"
   ]
  },
  {
   "cell_type": "code",
   "execution_count": 16,
   "id": "b01a6e33",
   "metadata": {},
   "outputs": [
    {
     "data": {
      "text/plain": [
       "0.3076923076923077"
      ]
     },
     "execution_count": 16,
     "metadata": {},
     "output_type": "execute_result"
    }
   ],
   "source": [
    "#создаем объект\n",
    "model_lr = LogisticRegression(random_state=12345, solver='liblinear')\n",
    "\n",
    "#обучаем модель\n",
    "model_lr.fit(features_train, target_train)\n",
    "\n",
    "#предсказание\n",
    "predicted_valid = model_lr.predict(features_valid)\n",
    "\n",
    "#считаем f1\n",
    "f1_score(target_valid, predicted_valid)"
   ]
  },
  {
   "cell_type": "markdown",
   "id": "5dec48c7",
   "metadata": {},
   "source": [
    "**Дерево решений**"
   ]
  },
  {
   "cell_type": "code",
   "execution_count": 17,
   "id": "0ef45de2",
   "metadata": {},
   "outputs": [
    {
     "data": {
      "text/plain": [
       "0.5035971223021583"
      ]
     },
     "execution_count": 17,
     "metadata": {},
     "output_type": "execute_result"
    }
   ],
   "source": [
    "#создаем объект\n",
    "model_dtc = DecisionTreeClassifier(random_state=12345)\n",
    "\n",
    "#обучаем модель\n",
    "model_dtc.fit(features_train, target_train)\n",
    "\n",
    "#получаем предсказание\n",
    "predicted_valid_dtc = model_dtc.predict(features_valid)\n",
    "\n",
    "#считаем accuracy\n",
    "f1_score(target_valid, predicted_valid_dtc)"
   ]
  },
  {
   "cell_type": "code",
   "execution_count": 18,
   "id": "1fbc6dc0",
   "metadata": {},
   "outputs": [
    {
     "name": "stdout",
     "output_type": "stream",
     "text": [
      "Лучшая f1 0.5924855491329479 при глубине 7\n"
     ]
    }
   ],
   "source": [
    "#счетчик на лучшую глубину\n",
    "best_max_depth = 0\n",
    "\n",
    "#счетчик на лучшую accuracy\n",
    "best_max_depth_f1 = 0\n",
    "\n",
    "#переберем каждое значение глубины от 1 до 20\n",
    "for i in range(1,20):\n",
    "    model_dtc1 = DecisionTreeClassifier(random_state=12345, max_depth=i)\n",
    "    model_dtc1.fit(features_train, target_train)\n",
    "    predicted_valid_dtc1 = model_dtc1.predict(features_valid)\n",
    "    f1_dtc1 = f1_score(target_valid, predicted_valid_dtc1)\n",
    "    if f1_dtc1 > best_max_depth_f1:\n",
    "        best_max_depth = i\n",
    "        best_max_depth_f1 = f1_dtc1\n",
    "\n",
    "print('Лучшая f1', best_max_depth_f1, 'при глубине', best_max_depth)"
   ]
  },
  {
   "cell_type": "markdown",
   "id": "46f06f9e",
   "metadata": {},
   "source": [
    "**Случайный лес**"
   ]
  },
  {
   "cell_type": "code",
   "execution_count": 19,
   "id": "4db6a2ee",
   "metadata": {},
   "outputs": [
    {
     "data": {
      "text/plain": [
       "0.6126656848306332"
      ]
     },
     "execution_count": 19,
     "metadata": {},
     "output_type": "execute_result"
    }
   ],
   "source": [
    "#создаем объект\n",
    "model_rfc = RandomForestClassifier(random_state=12345)\n",
    "\n",
    "#обучаем модель\n",
    "model_rfc.fit(features_train, target_train)\n",
    "\n",
    "#предсказание\n",
    "predicted_valid_rfc = model_rfc.predict(features_valid)\n",
    "\n",
    "#считаем f1\n",
    "f1_score(target_valid, predicted_valid_rfc)"
   ]
  },
  {
   "cell_type": "code",
   "execution_count": 20,
   "id": "e7c54bf8",
   "metadata": {
    "scrolled": true
   },
   "outputs": [
    {
     "name": "stdout",
     "output_type": "stream",
     "text": [
      "f1 0.6036585365853658 при количестве 20 и 10\n"
     ]
    }
   ],
   "source": [
    "best_max_est_f1 = 0\n",
    "best_max_est = 0\n",
    "best_depth = 0\n",
    "for est in range(10, 51, 10):\n",
    "    for depth in range (1, 11):\n",
    "        model_rfc= RandomForestClassifier(random_state=12345, n_estimators=est, max_depth=depth)\n",
    "        model_rfc.fit(features_train, target_train)\n",
    "        predicted_valid_rfc= model_rfc.predict(features_valid) \n",
    "        f1_rfc = f1_score(target_valid, predicted_valid_rfc)\n",
    "        if f1_rfc > best_max_est_f1:\n",
    "            best_max_est_f1 = f1_rfc\n",
    "            best_max_est = est\n",
    "            best_depth = depth\n",
    "print('f1', best_max_est_f1, 'при количестве', best_max_est, 'и', best_depth)"
   ]
  },
  {
   "cell_type": "markdown",
   "id": "2cf3bf58",
   "metadata": {},
   "source": [
    "Лучшая модель - случайный лес при количестве деревьев = 20 и количеству узлов = 10. При таких гиперпараметрах модель выдает значение f1 = 0.60"
   ]
  },
  {
   "cell_type": "code",
   "execution_count": 21,
   "id": "31faa4ec",
   "metadata": {},
   "outputs": [
    {
     "data": {
      "text/plain": [
       "0.8669273142674153"
      ]
     },
     "execution_count": 21,
     "metadata": {},
     "output_type": "execute_result"
    }
   ],
   "source": [
    "#создаем объект\n",
    "model_rfc = RandomForestClassifier(random_state=12345, n_estimators=20, max_depth=10)\n",
    "\n",
    "#обучаем модель\n",
    "model_rfc.fit(features_train, target_train)\n",
    "\n",
    "\n",
    "probabilities_valid = model_rfc.predict_proba(features_valid)\n",
    "\n",
    "probabilities_one_valid = probabilities_valid[:, 1]\n",
    "\n",
    "roc_auc_score(target_valid, probabilities_one_valid )"
   ]
  },
  {
   "cell_type": "code",
   "execution_count": 22,
   "id": "f785168b",
   "metadata": {
    "scrolled": true
   },
   "outputs": [
    {
     "data": {
      "image/png": "[encoded data removed]",
      "text/plain": [
       "<Figure size 432x288 with 1 Axes>"
      ]
     },
     "metadata": {
      "needs_background": "light"
     },
     "output_type": "display_data"
    }
   ],
   "source": [
    "fpr, tpr, thresholds = roc_curve(target_valid, probabilities_one_valid )\n",
    "\n",
    "plt.figure()\n",
    "\n",
    "#построим график\n",
    "plt.plot(fpr, tpr)\n",
    "\n",
    "#ROC-кривая случайной модели\n",
    "plt.plot([0, 1], [0, 1], linestyle='--')\n",
    "\n",
    "#установим границы осей от 0 до 1 \n",
    "plt.ylim([0, 1])\n",
    "plt.xlim([0, 1])\n",
    "\n",
    "#подпишем оси \"False Positive Rate\" и \"True Positive Rate\" >\n",
    "plt.xlabel('False Positive Rate')\n",
    "plt.ylabel('True Positive Rate')\n",
    "\n",
    "#добавим к графику заголовок \"ROC-кривая\"\n",
    "plt.title('ROC-кривая')\n",
    "\n",
    "plt.show()"
   ]
  },
  {
   "cell_type": "markdown",
   "id": "0f6bb1d7",
   "metadata": {},
   "source": [
    "Наилучшую эффективность показала модель RandomForestClassifier с гиперпараметрами n_estimators = 20 и max_depth=10. Показала значение метрики f1 = 0.6036585365853658 и ROC-AUC = 0.8669273142674153."
   ]
  },
  {
   "cell_type": "markdown",
   "id": "dfdb9522",
   "metadata": {},
   "source": [
    "## Борьба с дисбалансом"
   ]
  },
  {
   "cell_type": "markdown",
   "id": "c35f3b14",
   "metadata": {},
   "source": [
    "В алгоритмах присутствует аргумент `class_weight`, но мы его не будем его использовать, т.к. он используется если классы между собой слегка не сбалансированы, а у нас, как мы отметили выше, значений одного класса больше значений другого класса в 4 раза. В связи с этим попробуем методы балансировки upsamling и downsampling."
   ]
  },
  {
   "cell_type": "markdown",
   "id": "8132be35",
   "metadata": {},
   "source": [
    "**Метод upsampling**"
   ]
  },
  {
   "cell_type": "code",
   "execution_count": 23,
   "id": "f4f09ab5",
   "metadata": {
    "scrolled": true
   },
   "outputs": [
    {
     "name": "stdout",
     "output_type": "stream",
     "text": [
      "(9666, 11)\n",
      "(9666,)\n"
     ]
    }
   ],
   "source": [
    "#создадим функцию, которая разделит обучающую выборку на отрицательные и положительные объекты\n",
    "#потом объединит их между собой и перемешает\n",
    "def upsample(features, target, repeat):\n",
    "    features_zeros = features[target == 0]\n",
    "    features_ones = features[target == 1]\n",
    "    target_zeros = target[target == 0]\n",
    "    target_ones = target[target == 1]\n",
    "    \n",
    "    features_upsampled = pd.concat([features_zeros] + [features_ones] * repeat)\n",
    "    target_upsampled = pd.concat([target_zeros] + [target_ones] * repeat)\n",
    "    \n",
    "    features_upsampled, target_upsampled = shuffle(features_upsampled, target_upsampled, random_state=12345)\n",
    "    \n",
    "    return features_upsampled, target_upsampled\n",
    "features_upsampled, target_upsampled = upsample(features_train, target_train, 4)\n",
    "\n",
    "print(features_upsampled.shape)\n",
    "print(target_upsampled.shape)"
   ]
  },
  {
   "cell_type": "markdown",
   "id": "8800e102",
   "metadata": {},
   "source": [
    "**Метод downsampling**"
   ]
  },
  {
   "cell_type": "code",
   "execution_count": 24,
   "id": "f8b7bcf2",
   "metadata": {},
   "outputs": [
    {
     "name": "stdout",
     "output_type": "stream",
     "text": [
      "(2416, 11)\n",
      "(2416,)\n"
     ]
    }
   ],
   "source": [
    "#создадим функцию, которая разделит обучающую выборку на отрицательные и положительные объекты\n",
    "#потом случайным образом выделит из большого класса долю меньшего и перемешает\n",
    "def downsample(features, target, fraction):\n",
    "    features_zeros = features[target == 0]\n",
    "    features_ones = features[target == 1]\n",
    "    target_zeros = target[target == 0]\n",
    "    target_ones = target[target == 1]\n",
    "\n",
    "    features_downsampled = pd.concat([features_zeros.sample(frac=fraction, random_state=12345)] + [features_ones])\n",
    "    target_downsampled = pd.concat([target_zeros.sample(frac=fraction, random_state=12345)] + [target_ones])\n",
    "    \n",
    "    features_downsampled, target_downsampled = shuffle(features_downsampled, target_downsampled, random_state=12345)\n",
    "    \n",
    "    return features_downsampled, target_downsampled\n",
    "\n",
    "features_downsampled, target_downsampled = downsample(features_train, target_train, 0.25)\n",
    "\n",
    "print(features_downsampled.shape)\n",
    "print(target_downsampled.shape)"
   ]
  },
  {
   "cell_type": "markdown",
   "id": "a087ff0b",
   "metadata": {},
   "source": [
    "Проверим теперь баланс классов"
   ]
  },
  {
   "cell_type": "code",
   "execution_count": 25,
   "id": "f81443da",
   "metadata": {
    "scrolled": true
   },
   "outputs": [
    {
     "name": "stdout",
     "output_type": "stream",
     "text": [
      "1    0.50569\n",
      "0    0.49431\n",
      "Name: exited, dtype: float64\n",
      "1    0.505795\n",
      "0    0.494205\n",
      "Name: exited, dtype: float64\n"
     ]
    }
   ],
   "source": [
    "#увеличение выборки\n",
    "print(target_upsampled.value_counts(normalize=True))\n",
    "\n",
    "#уменьшение выборки\n",
    "print(target_downsampled.value_counts(normalize=True))"
   ]
  },
  {
   "cell_type": "markdown",
   "id": "65cfe3fe",
   "metadata": {},
   "source": [
    "Протестируем **логистическую регрессию** на новых данных"
   ]
  },
  {
   "cell_type": "code",
   "execution_count": 26,
   "id": "5c452c3b",
   "metadata": {},
   "outputs": [
    {
     "name": "stdout",
     "output_type": "stream",
     "text": [
      "F1: 0.5246753246753246\n"
     ]
    }
   ],
   "source": [
    "#создадим объект\n",
    "model_lr_up = LogisticRegression(random_state=12345, solver='liblinear')\n",
    "\n",
    "#обучим модель на данных отбалансированных методом upsampling\n",
    "model_lr_up.fit(features_upsampled, target_upsampled)\n",
    "\n",
    "#предсказание\n",
    "predicted_valid = model_lr_up.predict(features_valid)\n",
    "\n",
    "#считаем метрику f1\n",
    "print('F1:', f1_score(target_valid, predicted_valid))\n"
   ]
  },
  {
   "cell_type": "code",
   "execution_count": 27,
   "id": "b1ceb9ef",
   "metadata": {},
   "outputs": [
    {
     "name": "stdout",
     "output_type": "stream",
     "text": [
      "F1: 0.5275862068965517\n"
     ]
    }
   ],
   "source": [
    "model_lr_d = LogisticRegression(random_state=12345, solver='liblinear')\n",
    "\n",
    "#обучим модель на данных отбалансированных методом downsampling\n",
    "model_lr_d.fit(features_downsampled, target_downsampled)\n",
    "\n",
    "#предсказание\n",
    "predicted_valid = model_lr_d.predict(features_valid)\n",
    "\n",
    "#считаем метрику f1\n",
    "print('F1:', f1_score(target_valid, predicted_valid))"
   ]
  },
  {
   "cell_type": "markdown",
   "id": "21b3ac7e",
   "metadata": {},
   "source": [
    "Значение метрики f1 модели, обучавшейся на данных отбалансированных методом downsampling, незначительно выше значения метрики f1 модели, обучавшейся на данных отбалансированных методом upsampling, и конечно в разы выше значения метрики f1 модели обучавшейся на несбалансированных данных."
   ]
  },
  {
   "cell_type": "markdown",
   "id": "a0cf79d8",
   "metadata": {},
   "source": [
    "Посчитаем значение метрики AUC-ROC для указанных выше моделей и увидим, как сильно эти модели отличаются от случайной"
   ]
  },
  {
   "cell_type": "code",
   "execution_count": 28,
   "id": "b200653e",
   "metadata": {},
   "outputs": [
    {
     "data": {
      "text/plain": [
       "0.7937774041777517"
      ]
     },
     "execution_count": 28,
     "metadata": {},
     "output_type": "execute_result"
    }
   ],
   "source": [
    "#метод upsampling\n",
    "probabilities_valid = model_lr_up.predict_proba(features_valid)\n",
    "probabilities_one_valid = probabilities_valid[:, 1]\n",
    "\n",
    "roc_auc_score(target_valid, probabilities_one_valid )"
   ]
  },
  {
   "cell_type": "code",
   "execution_count": 29,
   "id": "86566baa",
   "metadata": {},
   "outputs": [
    {
     "data": {
      "text/plain": [
       "0.7926027194797518"
      ]
     },
     "execution_count": 29,
     "metadata": {},
     "output_type": "execute_result"
    }
   ],
   "source": [
    "#метод downsampling\n",
    "probabilities_valid = model_lr_d.predict_proba(features_valid)\n",
    "probabilities_one_valid = probabilities_valid[:, 1]\n",
    "\n",
    "roc_auc_score(target_valid, probabilities_one_valid )"
   ]
  },
  {
   "cell_type": "markdown",
   "id": "9e30391b",
   "metadata": {},
   "source": [
    "А вот тут наоборот: значение метрики AUC-ROC модели, обучавшейся на данных отбалансированных методом upsampling, незначительно выше значения метрики AUC-ROC модели обучавшейся на данных отбалансированных методом downsampling "
   ]
  },
  {
   "cell_type": "markdown",
   "id": "a543ef1f",
   "metadata": {},
   "source": [
    "Протестируем **дерево решений** на отбалансированных данных"
   ]
  },
  {
   "cell_type": "code",
   "execution_count": 30,
   "id": "3a928c3f",
   "metadata": {},
   "outputs": [
    {
     "name": "stdout",
     "output_type": "stream",
     "text": [
      "F1: 0.5251533742331288\n"
     ]
    }
   ],
   "source": [
    "#создадим объект\n",
    "model_dtc_up = DecisionTreeClassifier(random_state=12345)\n",
    "\n",
    "#обучим модель на данных отбалансированных методом upsampling\n",
    "model_dtc_up.fit(features_upsampled, target_upsampled)\n",
    "\n",
    "#получим предсказание\n",
    "predicted_valid_dtc = model_dtc_up.predict(features_valid)\n",
    "\n",
    "#считаем метрику f1\n",
    "print('F1:', f1_score(target_valid, predicted_valid_dtc))"
   ]
  },
  {
   "cell_type": "code",
   "execution_count": 31,
   "id": "cdbccad5",
   "metadata": {},
   "outputs": [
    {
     "name": "stdout",
     "output_type": "stream",
     "text": [
      "F1: 0.49161073825503354\n"
     ]
    }
   ],
   "source": [
    "#создадим объект\n",
    "model_dtc_d = DecisionTreeClassifier(random_state=12345)\n",
    "\n",
    "#обучим модель на данных отбалансированных методом downsampling\n",
    "model_dtc_d.fit(features_downsampled, target_downsampled)\n",
    "\n",
    "#получим предсказание\n",
    "predicted_valid_dtc = model_dtc_d.predict(features_valid)\n",
    "\n",
    "#считаем метрику f1\n",
    "print('F1:', f1_score(target_valid, predicted_valid_dtc))"
   ]
  },
  {
   "cell_type": "markdown",
   "id": "17ecd3ba",
   "metadata": {},
   "source": [
    "Значение метрики f1 модели, обучавшейся на данных отбалансированных методом upsampling, выше значения f1 модели обучавшейся на данных отбалансированных методом downsampling"
   ]
  },
  {
   "cell_type": "markdown",
   "id": "499ae8ba",
   "metadata": {},
   "source": [
    "Поищем лучшую глубину для моделей обученных на данных отбалансированных методом upsampling и downsampling"
   ]
  },
  {
   "cell_type": "code",
   "execution_count": 32,
   "id": "31668d35",
   "metadata": {
    "scrolled": true
   },
   "outputs": [
    {
     "name": "stdout",
     "output_type": "stream",
     "text": [
      "Лучшая f1 0.575925925925926 при глубине 6\n"
     ]
    }
   ],
   "source": [
    "#счетчик на лучшую глубину\n",
    "best_max_depth = 0\n",
    "\n",
    "#счетчик на лучшую f1\n",
    "best_max_depth_f1 = 0\n",
    "\n",
    "#переберем каждое значение глубины от 1 до 20\n",
    "for i in range(1,20):\n",
    "    model_dtc_up = DecisionTreeClassifier(random_state=12345, max_depth=i)\n",
    "    model_dtc_up.fit(features_upsampled, target_upsampled)\n",
    "    predicted_valid_dtc_up = model_dtc_up.predict(features_valid)\n",
    "    f1_dtc_up = f1_score(target_valid, predicted_valid_dtc_up)\n",
    "    if f1_dtc_up > best_max_depth_f1:\n",
    "        best_max_depth = i\n",
    "        best_max_depth_f1 = f1_dtc_up\n",
    "\n",
    "print('Лучшая f1', best_max_depth_f1, 'при глубине', best_max_depth)"
   ]
  },
  {
   "cell_type": "code",
   "execution_count": 33,
   "id": "abeedbd7",
   "metadata": {},
   "outputs": [
    {
     "data": {
      "text/plain": [
       "0.8233423551581437"
      ]
     },
     "execution_count": 33,
     "metadata": {},
     "output_type": "execute_result"
    }
   ],
   "source": [
    "#посчитаем метрику AUC-ROC (upsampling)\n",
    "model_dtc_up = DecisionTreeClassifier(random_state=12345, max_depth=6)\n",
    "\n",
    "model_dtc_up.fit(features_upsampled, target_upsampled)\n",
    "\n",
    "probabilities_valid = model_dtc_up.predict_proba(features_valid)\n",
    "\n",
    "probabilities_one_valid = probabilities_valid[:, 1]\n",
    "\n",
    "roc_auc_score(target_valid, probabilities_one_valid )"
   ]
  },
  {
   "cell_type": "code",
   "execution_count": 34,
   "id": "6a36343e",
   "metadata": {},
   "outputs": [
    {
     "name": "stdout",
     "output_type": "stream",
     "text": [
      "Лучшая f1 0.5944919278252612 при глубине 6\n"
     ]
    }
   ],
   "source": [
    "#счетчик на лучшую глубину\n",
    "best_max_depth = 0\n",
    "\n",
    "#счетчик на лучшую f1\n",
    "best_max_depth_f1 = 0\n",
    "\n",
    "#переберем каждое значение глубины от 1 до 20\n",
    "for i in range(1,20):\n",
    "    model_dtc_d = DecisionTreeClassifier(random_state=12345, max_depth=i)\n",
    "    model_dtc_d.fit(features_downsampled, target_downsampled)\n",
    "    predicted_valid_dtc_d = model_dtc_d.predict(features_valid)\n",
    "    f1_dtc_d = f1_score(target_valid, predicted_valid_dtc_d)\n",
    "    if f1_dtc_d > best_max_depth_f1:\n",
    "        best_max_depth = i\n",
    "        best_max_depth_f1 = f1_dtc_d\n",
    "\n",
    "print('Лучшая f1', best_max_depth_f1, 'при глубине', best_max_depth)"
   ]
  },
  {
   "cell_type": "code",
   "execution_count": 35,
   "id": "9dcd8b88",
   "metadata": {},
   "outputs": [
    {
     "data": {
      "text/plain": [
       "0.8477767206128681"
      ]
     },
     "execution_count": 35,
     "metadata": {},
     "output_type": "execute_result"
    }
   ],
   "source": [
    "#посчитаем метрику AUC-ROC (downsampling)\n",
    "model_dtc_d = DecisionTreeClassifier(random_state=12345, max_depth=6)\n",
    "\n",
    "model_dtc_d.fit(features_downsampled, target_downsampled)\n",
    "\n",
    "probabilities_valid = model_dtc_d.predict_proba(features_valid)\n",
    "\n",
    "probabilities_one_valid = probabilities_valid[:, 1]\n",
    "\n",
    "roc_auc_score(target_valid, probabilities_one_valid )"
   ]
  },
  {
   "cell_type": "markdown",
   "id": "6901e96f",
   "metadata": {},
   "source": [
    "Получилось, что хоть модель дерева решений, обученная на данных отбалансированных методом upsampling, дает значение метрики f1 выше, чем эта же модель, обученная на данных отбалансированных методом downsampling, но при поиске лучшей глубины на одной и той же глубине в 6 узлов модель, обученная на данных отбалансированных методом downsampling, дает все таки лучшую метрику f1 = 0.594 и лучшую метрику AUC-ROC = 0.847"
   ]
  },
  {
   "cell_type": "markdown",
   "id": "c555f5c0",
   "metadata": {},
   "source": [
    "Протестируем **случайный лес** на отбалансированных данных"
   ]
  },
  {
   "cell_type": "code",
   "execution_count": 36,
   "id": "396df160",
   "metadata": {},
   "outputs": [
    {
     "name": "stdout",
     "output_type": "stream",
     "text": [
      "F1: 0.6358839050131926\n"
     ]
    }
   ],
   "source": [
    "#создадим объект\n",
    "model_rfc_up = RandomForestClassifier(random_state=12345)\n",
    "\n",
    "#обучим модель на данных отбалансированных методом upsampling\n",
    "model_rfc_up.fit(features_upsampled, target_upsampled)\n",
    "\n",
    "#получим предсказание\n",
    "predicted_valid_rfc = model_rfc_up.predict(features_valid)\n",
    "\n",
    "#считаем метрику f1\n",
    "print('F1:', f1_score(target_valid, predicted_valid_rfc))"
   ]
  },
  {
   "cell_type": "code",
   "execution_count": 37,
   "id": "e9e6d9ac",
   "metadata": {},
   "outputs": [
    {
     "name": "stdout",
     "output_type": "stream",
     "text": [
      "F1: 0.5984848484848485\n"
     ]
    }
   ],
   "source": [
    "#создадим объект\n",
    "model_rfc_d = RandomForestClassifier(random_state=12345)\n",
    "\n",
    "#обучим модель на данных отбалансированных методом downsampling\n",
    "model_rfc_d.fit(features_downsampled, target_downsampled)\n",
    "\n",
    "#получим предсказание\n",
    "predicted_valid_rfc = model_rfc_d.predict(features_valid)\n",
    "\n",
    "#считаем метрику f1\n",
    "print('F1:', f1_score(target_valid, predicted_valid_rfc))"
   ]
  },
  {
   "cell_type": "markdown",
   "id": "9849f8ae",
   "metadata": {},
   "source": [
    "Пока что ситуация повторяется как и с деревом решений: f1-метрика модели, обучавшейся на данных отбалансированных методом upsampling, лучше f1-метрики модели, обучавшейся на данных отбалансированных методом downsampling"
   ]
  },
  {
   "cell_type": "markdown",
   "id": "b9f03a0b",
   "metadata": {},
   "source": [
    "Поищем лучшее количество деревьев и лучшую глубину для моделей обученных на данных отбалансированных методом upsampling и downsampling"
   ]
  },
  {
   "cell_type": "code",
   "execution_count": 38,
   "id": "8b7a2f2a",
   "metadata": {},
   "outputs": [
    {
     "name": "stdout",
     "output_type": "stream",
     "text": [
      "Лучшая f1 0.6511134676564156 при количестве 30 и 10\n"
     ]
    }
   ],
   "source": [
    "#метод upsampling\n",
    "best_max_est_f1 = 0\n",
    "best_max_est = 0\n",
    "best_depth = 0\n",
    "for est in range(10, 51, 10):\n",
    "    for depth in range (1, 11):\n",
    "        model_rfc_up = RandomForestClassifier(random_state=12345, n_estimators=est, max_depth=depth)\n",
    "        model_rfc_up.fit(features_upsampled, target_upsampled)\n",
    "        predicted_valid_rfc_up = model_rfc_up.predict(features_valid) \n",
    "        f1_rfc_up = f1_score(target_valid, predicted_valid_rfc_up)\n",
    "        if f1_rfc_up > best_max_est_f1:\n",
    "            best_max_est_f1 = f1_rfc_up\n",
    "            best_max_est = est\n",
    "            best_depth = depth\n",
    "print('Лучшая f1', best_max_est_f1, 'при количестве', best_max_est, 'и', best_depth)"
   ]
  },
  {
   "cell_type": "code",
   "execution_count": 39,
   "id": "e8ee25ef",
   "metadata": {},
   "outputs": [
    {
     "data": {
      "text/plain": [
       "0.8664554389595034"
      ]
     },
     "execution_count": 39,
     "metadata": {},
     "output_type": "execute_result"
    }
   ],
   "source": [
    "#посчитаем метрику AUC-ROC (upsampling)\n",
    "model_rfc_up = RandomForestClassifier(random_state=12345, n_estimators=30, max_depth=10)\n",
    "\n",
    "model_rfc_up.fit(features_upsampled, target_upsampled)\n",
    "\n",
    "probabilities_valid = model_rfc_up.predict_proba(features_valid)\n",
    "\n",
    "probabilities_one_valid = probabilities_valid[:, 1]\n",
    "\n",
    "roc_auc_score(target_valid, probabilities_one_valid )"
   ]
  },
  {
   "cell_type": "code",
   "execution_count": 40,
   "id": "5e6acc0b",
   "metadata": {},
   "outputs": [
    {
     "name": "stdout",
     "output_type": "stream",
     "text": [
      "Лучшая f1 0.6375121477162294 при количестве 30 и 7\n"
     ]
    }
   ],
   "source": [
    "best_max_est_f1 = 0\n",
    "best_max_est = 0\n",
    "best_depth = 0\n",
    "for est in range(10, 51, 10):\n",
    "    for depth in range (1, 11):\n",
    "        model_rfc_d = RandomForestClassifier(random_state=12345, n_estimators=est, max_depth=depth)\n",
    "        model_rfc_d.fit(features_downsampled, target_downsampled) \n",
    "        predicted_valid_rfc_d = model_rfc_d.predict(features_valid) \n",
    "        f1_rfc_d = f1_score(target_valid, predicted_valid_rfc_d)\n",
    "        if f1_rfc_d > best_max_est_f1:\n",
    "            best_max_est_f1 = f1_rfc_d\n",
    "            best_max_est = est\n",
    "            best_depth = depth\n",
    "print('Лучшая f1', best_max_est_f1, 'при количестве', best_max_est, 'и', best_depth)"
   ]
  },
  {
   "cell_type": "code",
   "execution_count": 41,
   "id": "c9340000",
   "metadata": {},
   "outputs": [
    {
     "data": {
      "text/plain": [
       "0.8654593432850527"
      ]
     },
     "execution_count": 41,
     "metadata": {},
     "output_type": "execute_result"
    }
   ],
   "source": [
    "#посчитаем метрику AUC-ROC (downsampling)\n",
    "model_rfc_d = RandomForestClassifier(random_state=12345, n_estimators=30, max_depth=7)\n",
    "\n",
    "model_rfc_d.fit(features_downsampled, target_downsampled)\n",
    "\n",
    "probabilities_valid = model_rfc_d.predict_proba(features_valid)\n",
    "\n",
    "probabilities_one_valid = probabilities_valid[:, 1]\n",
    "\n",
    "roc_auc_score(target_valid, probabilities_one_valid )"
   ]
  },
  {
   "cell_type": "markdown",
   "id": "53cddb6a",
   "metadata": {},
   "source": [
    "Получилось, что модель алгоритма \"случайный лес\" обученная на данных отбалансированных методом upsampling с количеством деревьев = 30 и глубиной = 10 узлов дала лучшее значение метрики f1 = 0.6511134676564156 и лучшее значение метрики AUC-ROC = 0.8664554389595034"
   ]
  },
  {
   "cell_type": "markdown",
   "id": "d5ac02db",
   "metadata": {},
   "source": [
    "## Тестирование модели"
   ]
  },
  {
   "cell_type": "markdown",
   "id": "c9b86de0",
   "metadata": {},
   "source": [
    "Когда определились с моделью и гиперпараметрами, то можно объединить обучающую и валидационную выборку и обучить модель на объединенной выборке, а потом и протестировать ее на тестовых данных"
   ]
  },
  {
   "cell_type": "code",
   "execution_count": 42,
   "id": "ca9f2e91",
   "metadata": {},
   "outputs": [],
   "source": [
    "#объединяем выборки train и valid\n",
    "united_features = pd.concat([features_upsampled, features_valid], ignore_index=True, sort=False)\n",
    "united_target  = pd.concat([target_upsampled, target_valid], ignore_index=True, sort=False)"
   ]
  },
  {
   "cell_type": "code",
   "execution_count": 43,
   "id": "43bd6538",
   "metadata": {},
   "outputs": [
    {
     "name": "stdout",
     "output_type": "stream",
     "text": [
      "F1: 0.6130177514792898\n"
     ]
    }
   ],
   "source": [
    "#создаем выбранную модель с выбранными гиперпараметрами\n",
    "model_rfc_up = RandomForestClassifier(random_state=12345, n_estimators=30, max_depth=10)\n",
    "\n",
    "#обучаем модель на объединенных данных\n",
    "model_rfc_up.fit(united_features, united_target)\n",
    "\n",
    "#получаем предсказание на тестовых данных\n",
    "test_predictions_rfc = model_rfc_up.predict(features_test)\n",
    "\n",
    "#считаем значение метрики f1\n",
    "print('F1:', f1_score(target_test, test_predictions_rfc))"
   ]
  },
  {
   "cell_type": "markdown",
   "id": "e6ecc184",
   "metadata": {},
   "source": [
    "Считаем значение метрики ROC-AUC"
   ]
  },
  {
   "cell_type": "code",
   "execution_count": 44,
   "id": "002da714",
   "metadata": {},
   "outputs": [
    {
     "data": {
      "text/plain": [
       "0.8512919699360376"
      ]
     },
     "execution_count": 44,
     "metadata": {},
     "output_type": "execute_result"
    }
   ],
   "source": [
    "probabilities = model_rfc_up.predict_proba(features_test)\n",
    "\n",
    "probabilities_one = probabilities[:, 1]\n",
    "\n",
    "roc_auc_score(target_test, probabilities_one)"
   ]
  },
  {
   "cell_type": "markdown",
   "id": "05b578ed",
   "metadata": {},
   "source": [
    "Построим ROC-кривую для обученной модели и изобразим её на графике"
   ]
  },
  {
   "cell_type": "code",
   "execution_count": 45,
   "id": "a10aa60a",
   "metadata": {
    "scrolled": true
   },
   "outputs": [
    {
     "data": {
      "image/png": "[encoded data removed]",
      "text/plain": [
       "<Figure size 432x288 with 1 Axes>"
      ]
     },
     "metadata": {
      "needs_background": "light"
     },
     "output_type": "display_data"
    }
   ],
   "source": [
    "fpr, tpr, thresholds = roc_curve(target_test, probabilities_one)\n",
    "\n",
    "plt.figure()\n",
    "\n",
    "#построим график\n",
    "plt.plot(fpr, tpr)\n",
    "\n",
    "#ROC-кривая случайной модели\n",
    "plt.plot([0, 1], [0, 1], linestyle='--')\n",
    "\n",
    "#установим границы осей от 0 до 1 \n",
    "plt.ylim([0, 1])\n",
    "plt.xlim([0, 1])\n",
    "\n",
    "#подпишем оси \"False Positive Rate\" и \"True Positive Rate\" >\n",
    "plt.xlabel('False Positive Rate')\n",
    "plt.ylabel('True Positive Rate')\n",
    "\n",
    "#добавим к графику заголовок \"ROC-кривая\"\n",
    "plt.title('ROC-кривая')\n",
    "\n",
    "plt.show()"
   ]
  },
  {
   "cell_type": "markdown",
   "id": "df492c25",
   "metadata": {},
   "source": [
    "**Вывод:** значение метрики f1 выбранной модели = 0.6130177514792898, что выше заявленного в задаче порога - 0.59. Значение метрики ROC-AUC = 0.8512919699360376"
   ]
  },
  {
   "cell_type": "markdown",
   "id": "d35c2c1f",
   "metadata": {},
   "source": [
    "## Итоговый вывод"
   ]
  },
  {
   "cell_type": "markdown",
   "id": "16ce3035",
   "metadata": {},
   "source": [
    "Была проведена предобработка предоставленных данных: приведены к одному регистру наименования столбцов. Также названия столбцов были переименованы. Были заменены пропуски в столбце `tenure`. Пропуски были заменены медианным значением этого же столбца. В определенных столбцах был изменен тип данных с `float` на `int`. Категориальные признаки данных были переведены в численные методом прямого кодирования (OHE) и масштабированы. По целевому признаку данные оказались не сбалансированы. \n",
    "\n",
    "На несбалансированных данных были исследованы три модели: DecisionTreeClassifier, RandomForestClassifier и LinearRegression. Наилучшую эффективность показала модель RandomForestClassifier с гиперпараметрами n_estimators = 20 и max_depth=10. Показала значение метрики f1 = 0.6036585365853658 и ROC-AUC = 0.8669273142674153.\n",
    "\n",
    "\n",
    "\n",
    "Далее данные были отбалансированы двумя методами: upsampling и downsampling. На отбалансированных двумя разными методами данных были также исследованы три модели: DecisionTreeClassifier, RandomForestClassifier и LinearRegression. Наилучшую эффективность показала модель RandomForestClassifier с гиперпараметрами n_estimators = 30 и max_depth=10. RandomForestClassifier была проверена на тестовой выборке и показала значение метрики f1 = 0.6130177514792898, что выше заявленного в задаче порога - 0.59 и значение метрики ROC-AUC = 0.8512919699360376"
   ]
  }
 ],
 "metadata": {
  "kernelspec": {
   "display_name": "Python 3 (ipykernel)",
   "language": "python",
   "name": "python3"
  },
  "language_info": {
   "codemirror_mode": {
    "name": "ipython",
    "version": 3
   },
   "file_extension": ".py",
   "mimetype": "text/x-python",
   "name": "python",
   "nbconvert_exporter": "python",
   "pygments_lexer": "ipython3",
   "version": "3.9.12"
  },
  "toc": {
   "base_numbering": 1,
   "nav_menu": {},
   "number_sections": true,
   "sideBar": true,
   "skip_h1_title": true,
   "title_cell": "Table of Contents",
   "title_sidebar": "Contents",
   "toc_cell": true,
   "toc_position": {},
   "toc_section_display": true,
   "toc_window_display": false
  }
 },
 "nbformat": 4,
 "nbformat_minor": 5
}
