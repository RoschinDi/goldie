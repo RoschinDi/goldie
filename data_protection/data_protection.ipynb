{
 "cells": [
  {
   "cell_type": "markdown",
   "id": "f6ad46c1",
   "metadata": {
    "toc": true
   },
   "source": [
    "<h1>Table of Contents<span class=\"tocSkip\"></span></h1>\n",
    "<div class=\"toc\"><ul class=\"toc-item\"><li><span><a href=\"#Загрузка-данных\" data-toc-modified-id=\"Загрузка-данных-1\"><span class=\"toc-item-num\">1&nbsp;&nbsp;</span>Загрузка данных</a></span></li><li><span><a href=\"#Умножение-матриц\" data-toc-modified-id=\"Умножение-матриц-2\"><span class=\"toc-item-num\">2&nbsp;&nbsp;</span>Умножение матриц</a></span></li><li><span><a href=\"#Алгоритм-преобразования\" data-toc-modified-id=\"Алгоритм-преобразования-3\"><span class=\"toc-item-num\">3&nbsp;&nbsp;</span>Алгоритм преобразования</a></span></li><li><span><a href=\"#Проверка-алгоритма\" data-toc-modified-id=\"Проверка-алгоритма-4\"><span class=\"toc-item-num\">4&nbsp;&nbsp;</span>Проверка алгоритма</a></span></li><li><span><a href=\"#Чек-лист-проверки\" data-toc-modified-id=\"Чек-лист-проверки-5\"><span class=\"toc-item-num\">5&nbsp;&nbsp;</span>Чек-лист проверки</a></span></li></ul></div>"
   ]
  },
  {
   "cell_type": "markdown",
   "id": "112ad890",
   "metadata": {},
   "source": [
    "# Защита персональных данных клиентов"
   ]
  },
  {
   "cell_type": "markdown",
   "id": "d58a0fcf",
   "metadata": {},
   "source": [
    "Нам нужно защитить данные клиентов страховой компании «Хоть потоп». Разработаем такой метод преобразования данных, чтобы по ним было сложно восстановить персональную информацию. \n",
    "\n",
    "Нужно защитить данные, чтобы при преобразовании качество моделей машинного обучения не ухудшилось. Подбирать наилучшую модель не требуется."
   ]
  },
  {
   "cell_type": "markdown",
   "id": "0e7509aa",
   "metadata": {},
   "source": [
    "## Загрузка данных"
   ]
  },
  {
   "cell_type": "code",
   "execution_count": 1,
   "id": "0443cd42",
   "metadata": {},
   "outputs": [],
   "source": [
    "#импортируем необходимые нам библиотеки и инструменты\n",
    "import pandas as pd\n",
    "import numpy as np\n",
    "import seaborn as sns\n",
    "import matplotlib.pyplot as plt\n",
    "from sklearn.model_selection import train_test_split\n",
    "from sklearn.pipeline import make_pipeline\n",
    "from sklearn.preprocessing import StandardScaler\n",
    "from sklearn.linear_model import LinearRegression\n",
    "from sklearn.metrics import r2_score"
   ]
  },
  {
   "cell_type": "code",
   "execution_count": 2,
   "id": "18d0cf83",
   "metadata": {
    "scrolled": true
   },
   "outputs": [
    {
     "data": {
      "text/html": [
       "<div>\n",
       "<style scoped>\n",
       "    .dataframe tbody tr th:only-of-type {\n",
       "        vertical-align: middle;\n",
       "    }\n",
       "\n",
       "    .dataframe tbody tr th {\n",
       "        vertical-align: top;\n",
       "    }\n",
       "\n",
       "    .dataframe thead th {\n",
       "        text-align: right;\n",
       "    }\n",
       "</style>\n",
       "<table border=\"1\" class=\"dataframe\">\n",
       "  <thead>\n",
       "    <tr style=\"text-align: right;\">\n",
       "      <th></th>\n",
       "      <th>Пол</th>\n",
       "      <th>Возраст</th>\n",
       "      <th>Зарплата</th>\n",
       "      <th>Члены семьи</th>\n",
       "      <th>Страховые выплаты</th>\n",
       "    </tr>\n",
       "  </thead>\n",
       "  <tbody>\n",
       "    <tr>\n",
       "      <th>0</th>\n",
       "      <td>1</td>\n",
       "      <td>41.0</td>\n",
       "      <td>49600.0</td>\n",
       "      <td>1</td>\n",
       "      <td>0</td>\n",
       "    </tr>\n",
       "    <tr>\n",
       "      <th>1</th>\n",
       "      <td>0</td>\n",
       "      <td>46.0</td>\n",
       "      <td>38000.0</td>\n",
       "      <td>1</td>\n",
       "      <td>1</td>\n",
       "    </tr>\n",
       "    <tr>\n",
       "      <th>2</th>\n",
       "      <td>0</td>\n",
       "      <td>29.0</td>\n",
       "      <td>21000.0</td>\n",
       "      <td>0</td>\n",
       "      <td>0</td>\n",
       "    </tr>\n",
       "    <tr>\n",
       "      <th>3</th>\n",
       "      <td>0</td>\n",
       "      <td>21.0</td>\n",
       "      <td>41700.0</td>\n",
       "      <td>2</td>\n",
       "      <td>0</td>\n",
       "    </tr>\n",
       "    <tr>\n",
       "      <th>4</th>\n",
       "      <td>1</td>\n",
       "      <td>28.0</td>\n",
       "      <td>26100.0</td>\n",
       "      <td>0</td>\n",
       "      <td>0</td>\n",
       "    </tr>\n",
       "  </tbody>\n",
       "</table>\n",
       "</div>"
      ],
      "text/plain": [
       "   Пол  Возраст  Зарплата  Члены семьи  Страховые выплаты\n",
       "0    1     41.0   49600.0            1                  0\n",
       "1    0     46.0   38000.0            1                  1\n",
       "2    0     29.0   21000.0            0                  0\n",
       "3    0     21.0   41700.0            2                  0\n",
       "4    1     28.0   26100.0            0                  0"
      ]
     },
     "execution_count": 2,
     "metadata": {},
     "output_type": "execute_result"
    }
   ],
   "source": [
    "#прочитаем датасет\n",
    "df = pd.read_csv('/datasets/insurance.csv')\n",
    "\n",
    "#выведем первые пять строк\n",
    "df.head()"
   ]
  },
  {
   "cell_type": "code",
   "execution_count": 3,
   "id": "8b34f6d2",
   "metadata": {},
   "outputs": [
    {
     "name": "stdout",
     "output_type": "stream",
     "text": [
      "<class 'pandas.core.frame.DataFrame'>\n",
      "RangeIndex: 5000 entries, 0 to 4999\n",
      "Data columns (total 5 columns):\n",
      " #   Column             Non-Null Count  Dtype  \n",
      "---  ------             --------------  -----  \n",
      " 0   Пол                5000 non-null   int64  \n",
      " 1   Возраст            5000 non-null   float64\n",
      " 2   Зарплата           5000 non-null   float64\n",
      " 3   Члены семьи        5000 non-null   int64  \n",
      " 4   Страховые выплаты  5000 non-null   int64  \n",
      "dtypes: float64(2), int64(3)\n",
      "memory usage: 195.4 KB\n"
     ]
    }
   ],
   "source": [
    "#просмотрим общую информацию о датафрейме\n",
    "df.info()"
   ]
  },
  {
   "cell_type": "markdown",
   "id": "bf196b9e",
   "metadata": {},
   "source": [
    "Пропуски в данных отсутствуют. \n",
    "Признаки: пол, возраст и зарплата застрахованного, количество членов его семьи.\n",
    "Целевой признак: количество страховых выплат клиенту за последние 5 лет.\n",
    "Можно было бы привести к целочисленному значению значения признака \"Возраст\", но для текущей задачи нам это не важно."
   ]
  },
  {
   "cell_type": "code",
   "execution_count": 4,
   "id": "3df04b6b",
   "metadata": {
    "scrolled": true
   },
   "outputs": [
    {
     "data": {
      "text/html": [
       "<div>\n",
       "<style scoped>\n",
       "    .dataframe tbody tr th:only-of-type {\n",
       "        vertical-align: middle;\n",
       "    }\n",
       "\n",
       "    .dataframe tbody tr th {\n",
       "        vertical-align: top;\n",
       "    }\n",
       "\n",
       "    .dataframe thead th {\n",
       "        text-align: right;\n",
       "    }\n",
       "</style>\n",
       "<table border=\"1\" class=\"dataframe\">\n",
       "  <thead>\n",
       "    <tr style=\"text-align: right;\">\n",
       "      <th></th>\n",
       "      <th>Пол</th>\n",
       "      <th>Возраст</th>\n",
       "      <th>Зарплата</th>\n",
       "      <th>Члены семьи</th>\n",
       "      <th>Страховые выплаты</th>\n",
       "    </tr>\n",
       "  </thead>\n",
       "  <tbody>\n",
       "    <tr>\n",
       "      <th>Пол</th>\n",
       "      <td>1.000000</td>\n",
       "      <td>0.002074</td>\n",
       "      <td>0.014910</td>\n",
       "      <td>-0.008991</td>\n",
       "      <td>0.010140</td>\n",
       "    </tr>\n",
       "    <tr>\n",
       "      <th>Возраст</th>\n",
       "      <td>0.002074</td>\n",
       "      <td>1.000000</td>\n",
       "      <td>-0.019093</td>\n",
       "      <td>-0.006692</td>\n",
       "      <td>0.651030</td>\n",
       "    </tr>\n",
       "    <tr>\n",
       "      <th>Зарплата</th>\n",
       "      <td>0.014910</td>\n",
       "      <td>-0.019093</td>\n",
       "      <td>1.000000</td>\n",
       "      <td>-0.030296</td>\n",
       "      <td>-0.014963</td>\n",
       "    </tr>\n",
       "    <tr>\n",
       "      <th>Члены семьи</th>\n",
       "      <td>-0.008991</td>\n",
       "      <td>-0.006692</td>\n",
       "      <td>-0.030296</td>\n",
       "      <td>1.000000</td>\n",
       "      <td>-0.036290</td>\n",
       "    </tr>\n",
       "    <tr>\n",
       "      <th>Страховые выплаты</th>\n",
       "      <td>0.010140</td>\n",
       "      <td>0.651030</td>\n",
       "      <td>-0.014963</td>\n",
       "      <td>-0.036290</td>\n",
       "      <td>1.000000</td>\n",
       "    </tr>\n",
       "  </tbody>\n",
       "</table>\n",
       "</div>"
      ],
      "text/plain": [
       "                        Пол   Возраст  Зарплата  Члены семьи  \\\n",
       "Пол                1.000000  0.002074  0.014910    -0.008991   \n",
       "Возраст            0.002074  1.000000 -0.019093    -0.006692   \n",
       "Зарплата           0.014910 -0.019093  1.000000    -0.030296   \n",
       "Члены семьи       -0.008991 -0.006692 -0.030296     1.000000   \n",
       "Страховые выплаты  0.010140  0.651030 -0.014963    -0.036290   \n",
       "\n",
       "                   Страховые выплаты  \n",
       "Пол                         0.010140  \n",
       "Возраст                     0.651030  \n",
       "Зарплата                   -0.014963  \n",
       "Члены семьи                -0.036290  \n",
       "Страховые выплаты           1.000000  "
      ]
     },
     "execution_count": 4,
     "metadata": {},
     "output_type": "execute_result"
    }
   ],
   "source": [
    "#посмотрим как коррелируют признаки между собой\n",
    "df.corr()"
   ]
  },
  {
   "cell_type": "markdown",
   "id": "a961afdf",
   "metadata": {},
   "source": [
    "Видно, что целевой признак \"Страховые выплаты\" значительно коррелирует с признаком \"Возраст\". Посмотрим на это графически."
   ]
  },
  {
   "cell_type": "code",
   "execution_count": 5,
   "id": "9ccb784d",
   "metadata": {
    "scrolled": true
   },
   "outputs": [
    {
     "data": {
      "image/png": "[encoded data removed]",
      "text/plain": [
       "<Figure size 944.825x252 with 1 Axes>"
      ]
     },
     "metadata": {},
     "output_type": "display_data"
    }
   ],
   "source": [
    "sns.set(rc={'figure.figsize':(10,10)})\n",
    "sns.set_style('darkgrid')\n",
    "sns.pairplot(data=df, y_vars=['Страховые выплаты'], x_vars=['Возраст'], hue='Страховые выплаты', height=3.5, aspect=3.2)\n",
    "plt.show()"
   ]
  },
  {
   "cell_type": "markdown",
   "id": "96336c29",
   "metadata": {},
   "source": [
    "## Умножение матриц"
   ]
  },
  {
   "cell_type": "markdown",
   "id": "db063e4d",
   "metadata": {},
   "source": [
    "Обозначения:\n",
    "\n",
    "- $X$ — матрица признаков (нулевой столбец состоит из единиц)\n",
    "\n",
    "- $y$ — вектор целевого признака\n",
    "\n",
    "- $P$ — матрица, на которую умножаются признаки\n",
    "\n",
    "- $w$ — вектор весов линейной регрессии (нулевой элемент равен сдвигу)"
   ]
  },
  {
   "cell_type": "markdown",
   "id": "4c11af36",
   "metadata": {},
   "source": [
    "Предсказания:\n",
    "\n",
    "$$\n",
    "a = Xw\n",
    "$$\n",
    "\n",
    "Задача обучения:\n",
    "\n",
    "$$\n",
    "w = \\arg\\min_w MSE(Xw, y)\n",
    "$$\n",
    "\n",
    "Формула обучения:\n",
    "\n",
    "$$\n",
    "w = (X^T X)^{-1} X^T y\n",
    "$$"
   ]
  },
  {
   "cell_type": "markdown",
   "id": "04818de6",
   "metadata": {},
   "source": [
    "**Ответ:** при умножении признаков на обратимую матрицу качество линейной регрессии не изменится\n",
    "\n",
    "**Обоснование:** умножение признаков на обратимую матрицу приведет к изменению значений признаков, но не изменит их линейной зависимости друг от друга. Следовательно, линейные коэффициенты, полученные при обучении, также не изменятся, и качество линейной регрессии останется неизменным."
   ]
  },
  {
   "cell_type": "markdown",
   "id": "1f2ed80e",
   "metadata": {},
   "source": [
    "Параметры линейной регрессии в исходной задаче и в преобразованной будут связаны матричным умножением. Если мы умножим матрицу признаков X на обратимую матрицу Р, то получим новую матрицу признаков X' = XP. Тогда параметры линейной регрессии для новой матрицы признаков можно найти как:\n",
    "\n",
    "$$\n",
    "w' = ((XP)^T XP))^{-1} (XP)^T y\n",
    "$$\n",
    "\n",
    "Раскрывая скобки, получим:\n",
    "\n",
    "$$\n",
    "w' = (X^T P^T X P)^{-1} X^T P^T y\n",
    "$$\n",
    "\n",
    "Заметим, что $P^T$ является обратной к $P$ матрицей, поэтому:\n",
    "\n",
    "$$\n",
    "(P^T X^T X P)^{-1} = P^{-1} (X^T X)^{-1} (P^T)^{-1}\n",
    "$$,\n",
    "\n",
    "подставляя это выражение в уравнение для w', получаем:\n",
    "\n",
    "$$\n",
    "w' = P^{-1} (X^T X)^{-1} (P^T)^{-1} P^T X^T y,\n",
    "$$\n",
    "или\n",
    "$$\n",
    "w' = P^{-1} w\n",
    "$$\n",
    "\n",
    "т.к. формула предсказаний нам известна, то пропишем формулу предсказаний для новой матрицы\n",
    "\n",
    "\n",
    "$$\n",
    "a' = XP(P^{-1}) w\n",
    "$$\n",
    "получается\n",
    "\n",
    "$$\n",
    "a' = Xw\n",
    "$$\n",
    "Получается, что вектор предсказаний исходной матрицы равен вектору предсказаний матрицы помноженной на обратимую матрицу,что мы и доказали. Качество регрессии не поменяется."
   ]
  },
  {
   "cell_type": "markdown",
   "id": "c1a52e1f",
   "metadata": {},
   "source": [
    "## Алгоритм преобразования"
   ]
  },
  {
   "cell_type": "markdown",
   "id": "1c4980cd",
   "metadata": {},
   "source": [
    "1. Разделим данные на признаки (матрица X) и целевой признак (y).\n",
    "\n",
    "2. Вычислим параметры линейной регрессии w для исходных данных.\n",
    "\n",
    "3. Сгенерируем случайную обратимую матрицу P.\n",
    "\n",
    "4. Умножим матрицу признаков X на матрицу P для получения преобразованных данных XP = X * P.\n",
    "5. Вычислим новые параметры линейной регрессии w' для преобразованных данных (XP, y) с использованием уравнения \n",
    "$\n",
    "w' = (XP^T XP)^{-1} XP^T y.\n",
    "$\n",
    "6. Оценим качество линейной регрессии на преобразованных данных, используя метрику $R^2$.\n",
    "7. Сравним качество линейной регрессии на исходных данных (X, y) с качеством на преобразованных данных (XP, y). Если качество не изменилось или улучшилось, то можно использовать преобразованные данные для построения модели."
   ]
  },
  {
   "cell_type": "markdown",
   "id": "9b377a4a",
   "metadata": {},
   "source": [
    "## Проверка алгоритма"
   ]
  },
  {
   "cell_type": "markdown",
   "id": "daa78c29",
   "metadata": {},
   "source": [
    "Проверим алгоритм. Обучим модель на исходных данных и выведем значение метрики R2."
   ]
  },
  {
   "cell_type": "code",
   "execution_count": 6,
   "id": "e635d2b7",
   "metadata": {},
   "outputs": [
    {
     "data": {
      "text/plain": [
       "(4000, 4)"
      ]
     },
     "metadata": {},
     "output_type": "display_data"
    },
    {
     "data": {
      "text/plain": [
       "(1000, 4)"
      ]
     },
     "metadata": {},
     "output_type": "display_data"
    },
    {
     "data": {
      "text/plain": [
       "(4000,)"
      ]
     },
     "metadata": {},
     "output_type": "display_data"
    },
    {
     "data": {
      "text/plain": [
       "(1000,)"
      ]
     },
     "metadata": {},
     "output_type": "display_data"
    }
   ],
   "source": [
    "#выделим признаки и целевой признак \n",
    "features = df.drop(['Страховые выплаты'], axis=1)\n",
    "target = df['Страховые выплаты']\n",
    "\n",
    "#разобьем признаки и целевой признак на 2 группы, отделив обучающие данные от тестовых\n",
    "features_train, features_test, target_train, target_test = train_test_split(\n",
    "    features, target, test_size=0.20, random_state=12345)\n",
    "\n",
    "#проверим кол-во строк\n",
    "display(features_train.shape)\n",
    "display(features_test.shape)\n",
    "display(target_train.shape)\n",
    "display(target_test.shape)"
   ]
  },
  {
   "cell_type": "code",
   "execution_count": 7,
   "id": "9812988d",
   "metadata": {
    "scrolled": true
   },
   "outputs": [
    {
     "name": "stdout",
     "output_type": "stream",
     "text": [
      "Метрика R2 на исходных данных 0.4117683956770476\n"
     ]
    }
   ],
   "source": [
    "#создадим pipline\n",
    "model_lr = make_pipeline(StandardScaler(), LinearRegression())\n",
    "\n",
    "#обучим модель\n",
    "model_lr.fit(features_train, target_train)\n",
    "\n",
    "#получим предикты\n",
    "predictions = model_lr.predict(features_test)\n",
    "\n",
    "#посчитаем и выведем R2\n",
    "r2 = r2_score(target_test, predictions)\n",
    "print('Метрика R2 на исходных данных', r2)"
   ]
  },
  {
   "cell_type": "markdown",
   "id": "f4f7da43",
   "metadata": {},
   "source": [
    "Теперь обучим модель на зашифрованных данных. Создадим произвольную матрицу по длине совпадающую с шириной нашей выборки и проверим ее обратимость."
   ]
  },
  {
   "cell_type": "code",
   "execution_count": 8,
   "id": "2717597d",
   "metadata": {
    "scrolled": true
   },
   "outputs": [
    {
     "data": {
      "text/plain": [
       "array([[0.84258663, 0.74179974, 0.02553736, 0.31941531],\n",
       "       [0.68490508, 0.59020954, 0.06034414, 0.07355692],\n",
       "       [0.18737455, 0.63359821, 0.49440603, 0.83432101],\n",
       "       [0.91469587, 0.70713906, 0.15105507, 0.13951021]])"
      ]
     },
     "execution_count": 8,
     "metadata": {},
     "output_type": "execute_result"
    }
   ],
   "source": [
    "trans_df = features_train.shape[1]\n",
    "while True:\n",
    "    P = np.random.rand(trans_df, trans_df)\n",
    "    if np.linalg.det(P) != 0:\n",
    "        break\n",
    "P"
   ]
  },
  {
   "cell_type": "markdown",
   "id": "30411774",
   "metadata": {},
   "source": [
    "Далее умножим созданную матрицу на тренировочные и тестовые данные. Потом обучим на преобразованных данных модель и посчитаем значение метрики R2 на преобразованных данных"
   ]
  },
  {
   "cell_type": "code",
   "execution_count": 9,
   "id": "76c349b1",
   "metadata": {
    "scrolled": true
   },
   "outputs": [
    {
     "name": "stdout",
     "output_type": "stream",
     "text": [
      "Метрика R2 на преобразованных данных 0.4117683956768796\n"
     ]
    }
   ],
   "source": [
    "new_features_train = features_train.dot(P)\n",
    "new_features_test = features_test.dot(P)\n",
    "model_lr.fit(new_features_train, target_train)\n",
    "new_predictions = model_lr.predict(new_features_test)\n",
    "new_r2 = r2_score(target_test, new_predictions)\n",
    "print('Метрика R2 на преобразованных данных', new_r2)"
   ]
  },
  {
   "cell_type": "markdown",
   "id": "d6033fe1",
   "metadata": {},
   "source": [
    "**ВЫВОД:** если умножить матрицу признаков исходного датасета на обратимую матрицу, не изменяя значения целевой переменной, то это не повлияет на качество предсказания модели. Другими словами, метрика оценки качества модели (например, коэффициент детерминации R2) останется прежней, даже если исходные данные были трансформированы с помощью обратимой матрицы."
   ]
  }
 ],
 "metadata": {
  "kernelspec": {
   "display_name": "Python 3 (ipykernel)",
   "language": "python",
   "name": "python3"
  },
  "language_info": {
   "codemirror_mode": {
    "name": "ipython",
    "version": 3
   },
   "file_extension": ".py",
   "mimetype": "text/x-python",
   "name": "python",
   "nbconvert_exporter": "python",
   "pygments_lexer": "ipython3",
   "version": "3.9.12"
  },
  "toc": {
   "base_numbering": 1,
   "nav_menu": {},
   "number_sections": true,
   "sideBar": true,
   "skip_h1_title": true,
   "title_cell": "Table of Contents",
   "title_sidebar": "Contents",
   "toc_cell": true,
   "toc_position": {},
   "toc_section_display": true,
   "toc_window_display": false
  }
 },
 "nbformat": 4,
 "nbformat_minor": 5
}
